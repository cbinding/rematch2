{
 "cells": [
  {
   "cell_type": "markdown",
   "metadata": {},
   "source": [
    "<h3>Testing the temporal recogniser</h3>"
   ]
  },
  {
   "cell_type": "code",
   "execution_count": null,
   "metadata": {},
   "outputs": [],
   "source": [
    "from pprint import pprint\n",
    "pprint(sys.path)"
   ]
  },
  {
   "cell_type": "code",
   "execution_count": 1,
   "metadata": {},
   "outputs": [
    {
     "data": {
      "text/html": [
       "<span class=\"tex2jax_ignore\"><div class=\"entities\" style=\"line-height: 2.5; direction: ltr\">Underlying the <mark class=\"entity\" style=\"background: lightgreen; padding: 0.45em 0.6em; margin: 0 0.25em; line-height: 1; border-radius: 0.35em;\">modern<span style=\"font-size: 0.8em; font-weight: bold; line-height: 1; border-radius: 0.35em; vertical-align: middle; margin-left: 0.5rem\">TEMPORAL</span></mark> made ground on the <mark class=\"entity\" style=\"background: lightblue; padding: 0.45em 0.6em; margin: 0 0.25em; line-height: 1; border-radius: 0.35em;\">site<span style=\"font-size: 0.8em; font-weight: bold; line-height: 1; border-radius: 0.35em; vertical-align: middle; margin-left: 0.5rem\">MONUMENT</span></mark> was a <mark class=\"entity\" style=\"background: lightblue; padding: 0.45em 0.6em; margin: 0 0.25em; line-height: 1; border-radius: 0.35em;\">layer<span style=\"font-size: 0.8em; font-weight: bold; line-height: 1; border-radius: 0.35em; vertical-align: middle; margin-left: 0.5rem\">MONUMENT</span></mark> covering the entire <mark class=\"entity\" style=\"background: lightblue; padding: 0.45em 0.6em; margin: 0 0.25em; line-height: 1; border-radius: 0.35em;\">shaft<span style=\"font-size: 0.8em; font-weight: bold; line-height: 1; border-radius: 0.35em; vertical-align: middle; margin-left: 0.5rem\">MONUMENT</span></mark> area. This has been dated to c.1480-1800/1900 and interpreted as a <mark class=\"entity\" style=\"background: lightgreen; padding: 0.45em 0.6em; margin: 0 0.25em; line-height: 1; border-radius: 0.35em;\">post-medieval<span style=\"font-size: 0.8em; font-weight: bold; line-height: 1; border-radius: 0.35em; vertical-align: middle; margin-left: 0.5rem\">TEMPORAL</span></mark> cultivation soil. Historic mapping illustrates that the <mark class=\"entity\" style=\"background: lightblue; padding: 0.45em 0.6em; margin: 0 0.25em; line-height: 1; border-radius: 0.35em;\">site<span style=\"font-size: 0.8em; font-weight: bold; line-height: 1; border-radius: 0.35em; vertical-align: middle; margin-left: 0.5rem\">MONUMENT</span></mark> remained undeveloped through the <mark class=\"entity\" style=\"background: lightgreen; padding: 0.45em 0.6em; margin: 0 0.25em; line-height: 1; border-radius: 0.35em;\">post medieval<span style=\"font-size: 0.8em; font-weight: bold; line-height: 1; border-radius: 0.35em; vertical-align: middle; margin-left: 0.5rem\">TEMPORAL</span></mark> period until the mid-19th century, when urban development around the <mark class=\"entity\" style=\"background: lightblue; padding: 0.45em 0.6em; margin: 0 0.25em; line-height: 1; border-radius: 0.35em;\">site<span style=\"font-size: 0.8em; font-weight: bold; line-height: 1; border-radius: 0.35em; vertical-align: middle; margin-left: 0.5rem\">MONUMENT</span></mark> accelerated and construction of <mark class=\"entity\" style=\"background: lightblue; padding: 0.45em 0.6em; margin: 0 0.25em; line-height: 1; border-radius: 0.35em;\">railways<span style=\"font-size: 0.8em; font-weight: bold; line-height: 1; border-radius: 0.35em; vertical-align: middle; margin-left: 0.5rem\">MONUMENT</span></mark> in this part of London began. On Gascoigne's 1703 map the <mark class=\"entity\" style=\"background: lightblue; padding: 0.45em 0.6em; margin: 0 0.25em; line-height: 1; border-radius: 0.35em;\">site<span style=\"font-size: 0.8em; font-weight: bold; line-height: 1; border-radius: 0.35em; vertical-align: middle; margin-left: 0.5rem\">MONUMENT</span></mark> was open ground, the later maps of Rocque in 1746 and Horwood in 1799 show the area was in use as <mark class=\"entity\" style=\"background: lightblue; padding: 0.45em 0.6em; margin: 0 0.25em; line-height: 1; border-radius: 0.35em;\">fields<span style=\"font-size: 0.8em; font-weight: bold; line-height: 1; border-radius: 0.35em; vertical-align: middle; margin-left: 0.5rem\">MONUMENT</span></mark> and Stanford's map of 1862 depicts the area surrounding Eleanor Street comprising of <mark class=\"entity\" style=\"background: lightblue; padding: 0.45em 0.6em; margin: 0 0.25em; line-height: 1; border-radius: 0.35em;\">market gardens<span style=\"font-size: 0.8em; font-weight: bold; line-height: 1; border-radius: 0.35em; vertical-align: middle; margin-left: 0.5rem\">MONUMENT</span></mark>. These are all consistent with the archaeological evidence. Underlying the <mark class=\"entity\" style=\"background: lightblue; padding: 0.45em 0.6em; margin: 0 0.25em; line-height: 1; border-radius: 0.35em;\">layer<span style=\"font-size: 0.8em; font-weight: bold; line-height: 1; border-radius: 0.35em; vertical-align: middle; margin-left: 0.5rem\">MONUMENT</span></mark> were natural <mark class=\"entity\" style=\"background: lightblue; padding: 0.45em 0.6em; margin: 0 0.25em; line-height: 1; border-radius: 0.35em;\">terrace<span style=\"font-size: 0.8em; font-weight: bold; line-height: 1; border-radius: 0.35em; vertical-align: middle; margin-left: 0.5rem\">MONUMENT</span></mark> gravels. The archaeological <mark class=\"entity\" style=\"background: lightblue; padding: 0.45em 0.6em; margin: 0 0.25em; line-height: 1; border-radius: 0.35em;\">fieldwork<span style=\"font-size: 0.8em; font-weight: bold; line-height: 1; border-radius: 0.35em; vertical-align: middle; margin-left: 0.5rem\">MONUMENT</span></mark> has demonstrated that remains relating to the <mark class=\"entity\" style=\"background: lightgreen; padding: 0.45em 0.6em; margin: 0 0.25em; line-height: 1; border-radius: 0.35em;\">Prehistoric<span style=\"font-size: 0.8em; font-weight: bold; line-height: 1; border-radius: 0.35em; vertical-align: middle; margin-left: 0.5rem\">TEMPORAL</span></mark>, <mark class=\"entity\" style=\"background: lightgreen; padding: 0.45em 0.6em; margin: 0 0.25em; line-height: 1; border-radius: 0.35em;\">Roman<span style=\"font-size: 0.8em; font-weight: bold; line-height: 1; border-radius: 0.35em; vertical-align: middle; margin-left: 0.5rem\">TEMPORAL</span></mark> or <mark class=\"entity\" style=\"background: lightgreen; padding: 0.45em 0.6em; margin: 0 0.25em; line-height: 1; border-radius: 0.35em;\">medieval<span style=\"font-size: 0.8em; font-weight: bold; line-height: 1; border-radius: 0.35em; vertical-align: middle; margin-left: 0.5rem\">TEMPORAL</span></mark> period have not survived to the <mark class=\"entity\" style=\"background: lightgreen; padding: 0.45em 0.6em; margin: 0 0.25em; line-height: 1; border-radius: 0.35em;\">modern<span style=\"font-size: 0.8em; font-weight: bold; line-height: 1; border-radius: 0.35em; vertical-align: middle; margin-left: 0.5rem\">TEMPORAL</span></mark> era, if they were once present on <mark class=\"entity\" style=\"background: lightblue; padding: 0.45em 0.6em; margin: 0 0.25em; line-height: 1; border-radius: 0.35em;\">site<span style=\"font-size: 0.8em; font-weight: bold; line-height: 1; border-radius: 0.35em; vertical-align: middle; margin-left: 0.5rem\">MONUMENT</span></mark>.</div></span>"
      ],
      "text/plain": [
       "<IPython.core.display.HTML object>"
      ]
     },
     "metadata": {},
     "output_type": "display_data"
    },
    {
     "name": "stdout",
     "output_type": "stream",
     "text": [
      "None\n"
     ]
    }
   ],
   "source": [
    "# independent of UI stuff, make sure this is working first...\n",
    "# tell Python where the local modules are located\n",
    "import sys\n",
    "import json\n",
    "\n",
    "module_path = os.path.abspath(os.path.join('..', 'src'))\n",
    "if module_path not in sys.path:\n",
    "    sys.path.append(module_path)\n",
    "\n",
    "# import local modules\n",
    "from TemporalRecognizer import TemporalRecognizer\n",
    "from PeriodoData import PeriodoData\n",
    "\n",
    "language = \"en\"\n",
    "output_format = \"html\"\n",
    "testdata_file_name = \"../src/test-examples.json\"\n",
    "testData = None \n",
    "with open(testdata_file_name, \"r\") as f:  # what if file doesn't exist?            \n",
    "    testData = json.load(f)   \n",
    "\n",
    "for testItem in testData:\n",
    "        if testItem[\"language\"] == language:  \n",
    "            tr = TemporalRecognizer(testItem[\"language\"], testItem[\"periodo_id\"])\n",
    "            entities = tr.get_entities(testItem[\"value\"], output_format)\n",
    "            #formatted = TemporalRecognizer.format_entities(example[\"input_text\"], entities, output_format)\n",
    "            print(entities)\n",
    "            break"
   ]
  },
  {
   "cell_type": "code",
   "execution_count": 1,
   "metadata": {},
   "outputs": [
    {
     "data": {
      "application/vnd.jupyter.widget-view+json": {
       "model_id": "90dc2201a57a43aca3581b8b9ed64317",
       "version_major": 2,
       "version_minor": 0
      },
      "text/plain": [
       "VBox(children=(Checkbox(value=False, description='TEMPORAL'), Checkbox(value=False, description='MONUMENT'), C…"
      ]
     },
     "metadata": {},
     "output_type": "display_data"
    },
    {
     "data": {
      "application/vnd.jupyter.widget-view+json": {
       "model_id": "371c944680d6428e8b0aa2244be6acfa",
       "version_major": 2,
       "version_minor": 0
      },
      "text/plain": [
       "Dropdown(description='Authority:', options=([' Alfarería arqueológica del centro sur de Chile y la Patagonia N…"
      ]
     },
     "metadata": {},
     "output_type": "display_data"
    },
    {
     "data": {
      "application/vnd.jupyter.widget-view+json": {
       "model_id": "9220623b55bc4f3daf16be1a19314ef3",
       "version_major": 2,
       "version_minor": 0
      },
      "text/plain": [
       "Dropdown(description='Language:', index=1, options=(['German', 'de'], ['English', 'en'], ['Spanish', 'es'], ['…"
      ]
     },
     "metadata": {},
     "output_type": "display_data"
    },
    {
     "data": {
      "application/vnd.jupyter.widget-view+json": {
       "model_id": "726d892697174ea1bed2e1c0582c0b8c",
       "version_major": 2,
       "version_minor": 0
      },
      "text/plain": [
       "Dropdown(description='Format:', options=('html', 'json', 'csv', 'tsv'), value='html')"
      ]
     },
     "metadata": {},
     "output_type": "display_data"
    },
    {
     "data": {
      "application/vnd.jupyter.widget-view+json": {
       "model_id": "f9dcb7fab0ca4e54815ee3e88223c1d5",
       "version_major": 2,
       "version_minor": 0
      },
      "text/plain": [
       "Textarea(value=\"Underlying the modern made ground on the site was a layer covering the entire shaft area. This…"
      ]
     },
     "metadata": {},
     "output_type": "display_data"
    },
    {
     "data": {
      "application/vnd.jupyter.widget-view+json": {
       "model_id": "cf954ad4eba44483965ceb57ee879044",
       "version_major": 2,
       "version_minor": 0
      },
      "text/plain": [
       "Button(description='Go', style=ButtonStyle())"
      ]
     },
     "metadata": {},
     "output_type": "display_data"
    },
    {
     "data": {
      "application/vnd.jupyter.widget-view+json": {
       "model_id": "eef9bfc6a8404de69444c51e3a384552",
       "version_major": 2,
       "version_minor": 0
      },
      "text/plain": [
       "Output(layout=Layout(border='1px solid black', height='250px', overflow='scroll'))"
      ]
     },
     "metadata": {},
     "output_type": "display_data"
    }
   ],
   "source": [
    "%load_ext autoreload\n",
    "%autoreload 2\n",
    "\n",
    "import json\n",
    "import ipywidgets as widgets\n",
    "\n",
    "# tell Python where the local modules are located\n",
    "import sys\n",
    "module_path = os.path.abspath(os.path.join('..', 'src'))\n",
    "if module_path not in sys.path:\n",
    "    sys.path.append(module_path)\n",
    "\n",
    "# import local modules\n",
    "from TemporalRecognizer import TemporalRecognizer\n",
    "from PeriodoData import PeriodoData\n",
    "\n",
    "# modules for UI\n",
    "from IPython.display import display, HTML\n",
    "\n",
    "testdata_file_name = \"../src/test-examples.json\"\n",
    "testData = None \n",
    "with open(testdata_file_name, \"r\") as f:  # what if file doesn't exist?            \n",
    "    testData = json.load(f)   \n",
    "\n",
    "# get list of all Perio.do authorities\n",
    "pd = PeriodoData(False) # create new instance, don't refresh cache\n",
    "authorities = pd.get_authority_list() # returns [{id: \"x\", label: \"label x\"}, {id: \"y\", label: \"label y\"}]\n",
    "authorities_for_dropdown = list(map(lambda x: [x[\"label\"], x[\"id\"]], authorities)) # dropdown requires array of tuples: [[label, id], [label, id]]\n",
    "\n",
    "# define dropdown control for list of Perio.do authorities\n",
    "dropdown_authorities = widgets.Dropdown(\n",
    "    options = authorities_for_dropdown, \n",
    "    value=None, \n",
    "    description='Authority:',\n",
    "    disabled=False\n",
    ")\n",
    "\n",
    "# define dropdown control for list of Perio.do periods\n",
    "dropdown_periods = widgets.Dropdown(\n",
    "    options = [], \n",
    "    value=None, \n",
    "    description='Periods:',\n",
    "    disabled=False\n",
    ")\n",
    "\n",
    "# what to do when selected perio.do authority is changed\n",
    "def on_dropdown_change(*args):\n",
    "    periods = pd.get_period_list(dropdown_authorities.value)\n",
    "    periods_for_dropdown = list(map(lambda item: [item[\"label\"], item[\"id\"]], periods))\n",
    "    dropdown_periods.options = periods_for_dropdown\n",
    "\n",
    "dropdown_authorities.observe(on_dropdown_change, 'value')\n",
    "\n",
    "# define input textarea\n",
    "#example_input_text_en = \"the artefact was medieval or circa 1250-1275 or maybe post medieval? Underlying the modern made ground on the site was a layer covering the entire shaft area. This has been dated to c.1480-1800/1900 and interpreted as a post-medieval cultivation soil. Historic mapping illustrates that the site remained undeveloped through the post medieval period until the mid 19th century, when urban development around the site accelerated and construction of railways in this part of London began. On Gascoigne's 1703 map the site was open ground, the later maps of Rocque in 1746 and Horwood in 1799 show the area was in use as fields and Stanford's map of 1862 depicts the area surrounding Eleanor Street comprising of market gardens. These are all consistent with the archaeological evidence. Underlying the layer were natural terrace gravels. The archaeological fieldwork has demonstrated that remains relating to the Prehistoric, Roman or medieval period have not survived to the modern era, if they were once present on site.\"\n",
    "\n",
    "textarea_input = widgets.Textarea(\n",
    "    value=\"\",\n",
    "    placeholder='Type something',\n",
    "    description='String:',\n",
    "    disabled=False,\n",
    "    layout=widgets.Layout(width='100%', height='250px')    \n",
    ")\n",
    "\n",
    "# define language dropdown\n",
    "dropdown_language = widgets.Dropdown(\n",
    "    options = [\n",
    "        [\"German\", \"de\"], \n",
    "        [\"English\", \"en\"], \n",
    "        [\"Spanish\", \"es\"], \n",
    "        [\"French\", \"fr\"],\n",
    "        [\"Italian\", \"it\"], \n",
    "        [\"Dutch\", \"nl\"],\n",
    "        [\"Norwegian\", \"no\"],\n",
    "        [\"Swedish\", \"sv\"] \n",
    "    ],\n",
    "    value=\"en\", \n",
    "    description='Language:',\n",
    "    disabled=False\n",
    ")\n",
    "\n",
    "# define checkboxes for entity types\n",
    "data = [\"TEMPORAL\", \"MONUMENT\", \"MATERIAL\", \"EVENTTYPE\", \"ARCHSCIENCE\"]\n",
    "checkboxes = [widgets.Checkbox(value=False, description=label) for label in data]\n",
    "entity_type_choices = widgets.VBox(children=checkboxes)\n",
    "\n",
    "#input_text = \"\"\n",
    "for testItem in testData:\n",
    "        if testItem[\"language\"] == dropdown_language.value:\n",
    "            textarea_input.value = testItem[\"value\"]  \n",
    "            break       \n",
    "\n",
    "# define output format dropdown\n",
    "dropdown_output_format = widgets.Dropdown(\n",
    "    options = [\"html\", \"json\", \"csv\", \"tsv\"], \n",
    "    value=\"html\", \n",
    "    description='Format:',\n",
    "    disabled=False\n",
    ")\n",
    "\n",
    "output = widgets.Output(\n",
    "    layout=widgets.Layout(overflow='scroll', border='1px solid black', height='250px')\n",
    ")\n",
    "\n",
    "def on_button_go_clicked(b):    \n",
    "    input_text = textarea_input.value\n",
    "    language = dropdown_language.value\n",
    "    output_format = dropdown_output_format.value\n",
    "    authority_id = dropdown_authorities.value\n",
    "    tr = TemporalRecognizer(language, authority_id)\n",
    "    entities = tr.get_entities(input_text, output_format)\n",
    "    #formatted = TemporalRecognizer.format_entities(input_text, entities, output_format)\n",
    "    #print(formatted)\n",
    "    output.clear_output(wait=True)\n",
    "    with output:\n",
    "        #pprint(formatted)        \n",
    "        display(HTML(entities))\n",
    "        #display(HTML('<a href=\"http://example.com\">link</a>'))\n",
    "    #display(formatted)\n",
    "        \n",
    "# define 'Go' button and output area\n",
    "button_go = widgets.Button(description=\"Go\")\n",
    "button_go.on_click(on_button_go_clicked)\n",
    "    \n",
    "# display all controls on the screen\n",
    "\n",
    "display(entity_type_choices)\n",
    "display(dropdown_authorities)\n",
    "#display(dropdown_periods)\n",
    "display(dropdown_language)\n",
    "display(dropdown_output_format)\n",
    "display(textarea_input)\n",
    "display(button_go)\n",
    "display(output) \n",
    "#display(HTML('<a href=\"http://example.com\">link</a>'))\n"
   ]
  }
 ],
 "metadata": {
  "kernelspec": {
   "display_name": "Python 3.8.13 64-bit ('3.8.13')",
   "language": "python",
   "name": "python3"
  },
  "language_info": {
   "codemirror_mode": {
    "name": "ipython",
    "version": 3
   },
   "file_extension": ".py",
   "mimetype": "text/x-python",
   "name": "python",
   "nbconvert_exporter": "python",
   "pygments_lexer": "ipython3",
   "version": "3.8.13"
  },
  "orig_nbformat": 4,
  "vscode": {
   "interpreter": {
    "hash": "110cc1dee26208153f2972f08a2ad52b6a56238dc66d48e87fb757ef2996db56"
   }
  }
 },
 "nbformat": 4,
 "nbformat_minor": 2
}
