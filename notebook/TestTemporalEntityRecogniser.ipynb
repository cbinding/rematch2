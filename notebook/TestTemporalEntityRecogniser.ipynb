{
 "cells": [
  {
   "cell_type": "markdown",
   "metadata": {},
   "source": [
    "<h3>Testing the temporal entity recogniser</h3>"
   ]
  },
  {
   "cell_type": "code",
   "execution_count": 14,
   "metadata": {},
   "outputs": [
    {
     "data": {
      "application/vnd.jupyter.widget-view+json": {
       "model_id": "792acbc5a2ad494399cbe532ac661236",
       "version_major": 2,
       "version_minor": 0
      },
      "text/plain": [
       "Dropdown(description='Authority:', options=([' Alfarería arqueológica del centro sur de Chile y la Patagonia N…"
      ]
     },
     "metadata": {},
     "output_type": "display_data"
    },
    {
     "data": {
      "application/vnd.jupyter.widget-view+json": {
       "model_id": "373dd332692f4f1f97574801a9272c87",
       "version_major": 2,
       "version_minor": 0
      },
      "text/plain": [
       "Dropdown(description='Periods:', options=(), value=None)"
      ]
     },
     "metadata": {},
     "output_type": "display_data"
    }
   ],
   "source": [
    "import sys\n",
    "sys.path.append('..')\n",
    "import json\n",
    "import ipywidgets as widgets\n",
    "from src.PeriodoData import PeriodoData\n",
    "\n",
    "pd = PeriodoData(False) # new instance, don't refresh cache\n",
    "authorities = pd.get_authority_list() # returns [{id: \"x\", label: \"labelx\"}, {id: \"y\", label: \"labely\"}]\n",
    "authorities_for_dropdown = list(map(lambda x: [x[\"label\"], x[\"id\"]], authorities)) # dropdown requires [[label, id],[label, id]]\n",
    "#print(authorities_for_dropdown)\n",
    "\n",
    "#authorities = map(lambda item: [item[\"label\"], item[\"id\"]], pd.get_authority_list()) # json.loads(pd.find(\"authorities.* | [?source.title != null].[@.source.title, id]\"))\n",
    "#print(authorities)\n",
    "#authorities_sorted = sorted(authorities, key=lambda item: item[\"label\"]) \n",
    "\n",
    "dropdown_authorities = widgets.Dropdown(\n",
    "    options = authorities_for_dropdown, \n",
    "    value=None, \n",
    "    description='Authority:',\n",
    "    disabled=False\n",
    ")\n",
    "\n",
    "dropdown_periods = widgets.Dropdown(\n",
    "    options = [], \n",
    "    value=None, \n",
    "    description='Periods:',\n",
    "    disabled=False\n",
    ")\n",
    "\n",
    "def on_dropdown_change(*args):\n",
    "    #periodslist = json.loads(pd.find(f\"authorities.{dropdown_authorities.value}.periods.*.[label, id]\"))\n",
    "    periods = pd.get_period_list(dropdown_authorities.value)\n",
    "    periods_for_dropdown = list(map(lambda item: [item[\"label\"], item[\"id\"]], periods))\n",
    "    #print(periods_for_dropdown)\n",
    "    dropdown_periods.options = periods_for_dropdown\n",
    "\n",
    "dropdown_authorities.observe(on_dropdown_change, 'value')\n",
    "#def printer(x, y):\n",
    "#    print(x, y)\n",
    "#widgets.interact(printer, x=dropdown_authorities, y=dropdown_periods);\n",
    "#widgets.interact(update, value=dropdown_authorities) \n",
    "display(dropdown_authorities)\n",
    "display(dropdown_periods)\n"
   ]
  },
  {
   "cell_type": "code",
   "execution_count": null,
   "metadata": {},
   "outputs": [],
   "source": []
  },
  {
   "cell_type": "code",
   "execution_count": 15,
   "metadata": {},
   "outputs": [
    {
     "data": {
      "application/vnd.jupyter.widget-view+json": {
       "model_id": "668d905c0dc949dd85d9a8efd91d54dc",
       "version_major": 2,
       "version_minor": 0
      },
      "text/plain": [
       "Textarea(value=\"the artefact was medieval or circa 1250-1275 or maybe post medieval? Underlying the modern mad…"
      ]
     },
     "metadata": {},
     "output_type": "display_data"
    }
   ],
   "source": [
    "input_text = \"the artefact was medieval or circa 1250-1275 or maybe post medieval? Underlying the modern made ground on the site was a layer covering the entire shaft area. This has been dated to c.1480-1800/1900 and interpreted as a post-medieval cultivation soil. Historic mapping illustrates that the site remained undeveloped through the post medieval period until the mid 19th century, when urban development around the site accelerated and construction of railways in this part of London began. On Gascoigne's 1703 map the site was open ground, the later maps of Rocque in 1746 and Horwood in 1799 show the area was in use as fields and Stanford's map of 1862 depicts the area surrounding Eleanor Street comprising of market gardens. These are all consistent with the archaeological evidence. Underlying the layer were natural terrace gravels. The archaeological fieldwork has demonstrated that remains relating to the Prehistoric, Roman or medieval period have not survived to the modern era, if they were once present on site.\"\n",
    "\n",
    "txt_input = widgets.Textarea(\n",
    "    value=input_text,\n",
    "    placeholder='Type something',\n",
    "    description='String:',\n",
    "    disabled=False,\n",
    "    layout=widgets.Layout(width='75%', height='150px')\n",
    ")\n",
    "display(txt_input)"
   ]
  },
  {
   "cell_type": "code",
   "execution_count": 16,
   "metadata": {},
   "outputs": [
    {
     "data": {
      "text/html": [
       "<span class=\"tex2jax_ignore\"><div class=\"entities\" style=\"line-height: 2.5; direction: ltr\">the artefact was <mark class=\"entity\" style=\"background: lightgreen; padding: 0.45em 0.6em; margin: 0 0.25em; line-height: 1; border-radius: 0.35em;\">medieval<span style=\"font-size: 0.8em; font-weight: bold; line-height: 1; border-radius: 0.35em; vertical-align: middle; margin-left: 0.5rem\">TEMPORAL</span></mark> or <mark class=\"entity\" style=\"background: lightgreen; padding: 0.45em 0.6em; margin: 0 0.25em; line-height: 1; border-radius: 0.35em;\">circa 1250-1275<span style=\"font-size: 0.8em; font-weight: bold; line-height: 1; border-radius: 0.35em; vertical-align: middle; margin-left: 0.5rem\">TEMPORAL</span></mark> or maybe <mark class=\"entity\" style=\"background: lightgreen; padding: 0.45em 0.6em; margin: 0 0.25em; line-height: 1; border-radius: 0.35em;\">post medieval<span style=\"font-size: 0.8em; font-weight: bold; line-height: 1; border-radius: 0.35em; vertical-align: middle; margin-left: 0.5rem\">TEMPORAL</span></mark>? Underlying the modern made ground on the site was a layer covering the entire shaft area. This has been dated to c.1480-1800/1900 and interpreted as a post-<mark class=\"entity\" style=\"background: lightgreen; padding: 0.45em 0.6em; margin: 0 0.25em; line-height: 1; border-radius: 0.35em;\">medieval<span style=\"font-size: 0.8em; font-weight: bold; line-height: 1; border-radius: 0.35em; vertical-align: middle; margin-left: 0.5rem\">TEMPORAL</span></mark> cultivation soil. Historic mapping illustrates that the site remained undeveloped through the <mark class=\"entity\" style=\"background: lightgreen; padding: 0.45em 0.6em; margin: 0 0.25em; line-height: 1; border-radius: 0.35em;\">post medieval<span style=\"font-size: 0.8em; font-weight: bold; line-height: 1; border-radius: 0.35em; vertical-align: middle; margin-left: 0.5rem\">TEMPORAL</span></mark> period until the <mark class=\"entity\" style=\"background: lightgreen; padding: 0.45em 0.6em; margin: 0 0.25em; line-height: 1; border-radius: 0.35em;\">mid 19th century<span style=\"font-size: 0.8em; font-weight: bold; line-height: 1; border-radius: 0.35em; vertical-align: middle; margin-left: 0.5rem\">TEMPORAL</span></mark>, when urban development around the site accelerated and construction of railways in this part of London began. On Gascoigne's 1703 map the site was open ground, the later maps of Rocque in 1746 and Horwood in 1799 show the area was in use as fields and Stanford's map of 1862 depicts the area surrounding Eleanor Street comprising of market gardens. These are all consistent with the archaeological evidence. Underlying the layer were natural terrace gravels. The archaeological fieldwork has demonstrated that remains relating to the <mark class=\"entity\" style=\"background: lightgreen; padding: 0.45em 0.6em; margin: 0 0.25em; line-height: 1; border-radius: 0.35em;\">Prehistoric<span style=\"font-size: 0.8em; font-weight: bold; line-height: 1; border-radius: 0.35em; vertical-align: middle; margin-left: 0.5rem\">TEMPORAL</span></mark>, <mark class=\"entity\" style=\"background: lightgreen; padding: 0.45em 0.6em; margin: 0 0.25em; line-height: 1; border-radius: 0.35em;\">Roman<span style=\"font-size: 0.8em; font-weight: bold; line-height: 1; border-radius: 0.35em; vertical-align: middle; margin-left: 0.5rem\">TEMPORAL</span></mark> or <mark class=\"entity\" style=\"background: lightgreen; padding: 0.45em 0.6em; margin: 0 0.25em; line-height: 1; border-radius: 0.35em;\">medieval<span style=\"font-size: 0.8em; font-weight: bold; line-height: 1; border-radius: 0.35em; vertical-align: middle; margin-left: 0.5rem\">TEMPORAL</span></mark> period have not survived to the modern era, if they were once present on site.</div></span>"
      ],
      "text/plain": [
       "<IPython.core.display.HTML object>"
      ]
     },
     "metadata": {},
     "output_type": "display_data"
    }
   ],
   "source": [
    "import sys\n",
    "sys.path.append('..')\n",
    "\n",
    "\n",
    "from src.TemporalEntityRecognizer import TemporalEntityRecognizer\n",
    "\n",
    "language = \"en\"\n",
    "input_text = txt_input.value\n",
    "#input_text = \"the artefact was medieval or circa 1250-1275 or maybe post medieval? Underlying the modern made ground on the site was a layer covering the entire shaft area. This has been dated to c.1480-1800/1900 and interpreted as a post-medieval cultivation soil. Historic mapping illustrates that the site remained undeveloped through the post medieval period until the mid 19th century, when urban development around the site accelerated and construction of railways in this part of London began. On Gascoigne's 1703 map the site was open ground, the later maps of Rocque in 1746 and Horwood in 1799 show the area was in use as fields and Stanford's map of 1862 depicts the area surrounding Eleanor Street comprising of market gardens. These are all consistent with the archaeological evidence. Underlying the layer were natural terrace gravels. The archaeological fieldwork has demonstrated that remains relating to the Prehistoric, Roman or medieval period have not survived to the modern era, if they were once present on site.\"\n",
    "output_format = \"html\"\n",
    "ner = TemporalEntityRecognizer(language)\n",
    "entities = ner.get_entities(input_text)\n",
    "formatted = TemporalEntityRecognizer.format_entities(input_text, entities, output_format)\n",
    "#print(formatted)\n",
    "\n",
    "out = widgets.Output(layout={'border': '1px solid black'})\n",
    "with out:\n",
    "    print(formatted)"
   ]
  }
 ],
 "metadata": {
  "kernelspec": {
   "display_name": "Python 3.8.13 64-bit ('3.8.13')",
   "language": "python",
   "name": "python3"
  },
  "language_info": {
   "codemirror_mode": {
    "name": "ipython",
    "version": 3
   },
   "file_extension": ".py",
   "mimetype": "text/x-python",
   "name": "python",
   "nbconvert_exporter": "python",
   "pygments_lexer": "ipython3",
   "version": "3.8.13"
  },
  "orig_nbformat": 4,
  "vscode": {
   "interpreter": {
    "hash": "110cc1dee26208153f2972f08a2ad52b6a56238dc66d48e87fb757ef2996db56"
   }
  }
 },
 "nbformat": 4,
 "nbformat_minor": 2
}
