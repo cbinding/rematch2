{
 "cells": [
  {
   "cell_type": "markdown",
   "metadata": {},
   "source": [
    "Testing the temporal entity recogniser"
   ]
  },
  {
   "cell_type": "code",
   "execution_count": 7,
   "metadata": {},
   "outputs": [
    {
     "name": "stdout",
     "output_type": "stream",
     "text": [
      "http://purl.org/heritagedata/schemes/eh_period/concepts/MD\tmedieval\t17\t25\tTEMPORAL\n",
      "\tcirca 1250-1275\t29\t44\tTEMPORAL\n",
      "http://purl.org/heritagedata/schemes/eh_period/concepts/PM\tpost medieval\t54\t67\tTEMPORAL\n",
      "http://purl.org/heritagedata/schemes/eh_period/concepts/MO\tmodern\t84\t90\tTEMPORAL\n",
      "http://purl.org/heritagedata/schemes/eh_period/concepts/PM\tpost-medieval\t220\t233\tTEMPORAL\n",
      "http://purl.org/heritagedata/schemes/eh_period/concepts/PM\tpost medieval\t328\t341\tTEMPORAL\n",
      "http://purl.org/heritagedata/schemes/eh_period/concepts/PR\tPrehistoric\t911\t922\tTEMPORAL\n",
      "http://purl.org/heritagedata/schemes/eh_period/concepts/RO\tRoman\t924\t929\tTEMPORAL\n",
      "http://purl.org/heritagedata/schemes/eh_period/concepts/MD\tmedieval\t933\t941\tTEMPORAL\n",
      "http://purl.org/heritagedata/schemes/eh_period/concepts/MO\tmodern\t974\t980\tTEMPORAL\n"
     ]
    }
   ],
   "source": [
    "import sys\n",
    "sys.path.append('..')\n",
    "from src.TemporalEntityRecognizer import TemporalEntityRecognizer\n",
    "\n",
    "language = \"en\"\n",
    "input_text = \"the artefact was medieval or circa 1250-1275 or maybe post medieval? Underlying the modern made ground on the site was a layer covering the entire shaft area. This has been dated to c.1480-1800/1900 and interpreted as a post-medieval cultivation soil. Historic mapping illustrates that the site remained undeveloped through the post medieval period until the mid-19th century, when urban development around the site accelerated and construction of railways in this part of London began. On Gascoigne's 1703 map the site was open ground, the later maps of Rocque in 1746 and Horwood in 1799 show the area was in use as fields and Stanford's map of 1862 depicts the area surrounding Eleanor Street comprising of market gardens. These are all consistent with the archaeological evidence. Underlying the layer were natural terrace gravels. The archaeological fieldwork has demonstrated that remains relating to the Prehistoric, Roman or medieval period have not survived to the modern era, if they were once present on site.\"\n",
    "output_format = \"tsv\"\n",
    "ner = TemporalEntityRecognizer(language)\n",
    "entities = ner.get_entities(input_text)\n",
    "formatted = TemporalEntityRecognizer.format_entities(input_text, entities, output_format)\n",
    "print(formatted)"
   ]
  }
 ],
 "metadata": {
  "kernelspec": {
   "display_name": "Python 3.8.13 64-bit ('3.8.13')",
   "language": "python",
   "name": "python3"
  },
  "language_info": {
   "codemirror_mode": {
    "name": "ipython",
    "version": 3
   },
   "file_extension": ".py",
   "mimetype": "text/x-python",
   "name": "python",
   "nbconvert_exporter": "python",
   "pygments_lexer": "ipython3",
   "version": "3.8.13"
  },
  "orig_nbformat": 4,
  "vscode": {
   "interpreter": {
    "hash": "110cc1dee26208153f2972f08a2ad52b6a56238dc66d48e87fb757ef2996db56"
   }
  }
 },
 "nbformat": 4,
 "nbformat_minor": 2
}
