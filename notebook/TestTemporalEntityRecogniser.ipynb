{
 "cells": [
  {
   "cell_type": "markdown",
   "metadata": {},
   "source": [
    "<h3>Testing the temporal entity recogniser</h3>"
   ]
  },
  {
   "cell_type": "code",
   "execution_count": 9,
   "metadata": {},
   "outputs": [
    {
     "data": {
      "text/plain": [
       "['TestTemporalEntityRecogniser.ipynb',\n",
       " 'periodo-cache.json',\n",
       " 'periodo_cache.json',\n",
       " 'tokens.txt']"
      ]
     },
     "execution_count": 9,
     "metadata": {},
     "output_type": "execute_result"
    }
   ],
   "source": [
    "import os\n",
    "os.listdir()"
   ]
  },
  {
   "cell_type": "code",
   "execution_count": 3,
   "metadata": {},
   "outputs": [
    {
     "name": "stdout",
     "output_type": "stream",
     "text": [
      "['/workspace/rematch2/notebook',\n",
      " '/home/gitpod/.pyenv/versions/3.8.13/lib/python38.zip',\n",
      " '/home/gitpod/.pyenv/versions/3.8.13/lib/python3.8',\n",
      " '/home/gitpod/.pyenv/versions/3.8.13/lib/python3.8/lib-dynload',\n",
      " '',\n",
      " '/home/gitpod/.pyenv/versions/3.8.13/lib/python3.8/site-packages',\n",
      " '/workspace/rematch2/src']\n"
     ]
    }
   ],
   "source": [
    "from pprint import pprint\n",
    "pprint(sys.path)"
   ]
  },
  {
   "cell_type": "code",
   "execution_count": 2,
   "metadata": {},
   "outputs": [
    {
     "name": "stdout",
     "output_type": "stream",
     "text": [
      "The autoreload extension is already loaded. To reload it, use:\n",
      "  %reload_ext autoreload\n"
     ]
    },
    {
     "data": {
      "application/vnd.jupyter.widget-view+json": {
       "model_id": "af9c02cc509348adb785e73c64c3fd8e",
       "version_major": 2,
       "version_minor": 0
      },
      "text/plain": [
       "Textarea(value=\"the artefact was medieval or circa 1250-1275 or maybe post medieval? Underlying the modern mad…"
      ]
     },
     "metadata": {},
     "output_type": "display_data"
    },
    {
     "data": {
      "application/vnd.jupyter.widget-view+json": {
       "model_id": "23bf65d1d14a4aa1abcb228da69e930a",
       "version_major": 2,
       "version_minor": 0
      },
      "text/plain": [
       "Dropdown(description='Authority:', options=([' Alfarería arqueológica del centro sur de Chile y la Patagonia N…"
      ]
     },
     "metadata": {},
     "output_type": "display_data"
    },
    {
     "data": {
      "application/vnd.jupyter.widget-view+json": {
       "model_id": "2e01ed3297ec47e2ba32d31076b57633",
       "version_major": 2,
       "version_minor": 0
      },
      "text/plain": [
       "Dropdown(description='Periods:', options=(), value=None)"
      ]
     },
     "metadata": {},
     "output_type": "display_data"
    },
    {
     "data": {
      "application/vnd.jupyter.widget-view+json": {
       "model_id": "ea5c224cf86042ec950c130aad7f7c37",
       "version_major": 2,
       "version_minor": 0
      },
      "text/plain": [
       "Dropdown(description='Format:', options=('html', 'json', 'CSV', 'TSV'), value='html')"
      ]
     },
     "metadata": {},
     "output_type": "display_data"
    },
    {
     "data": {
      "application/vnd.jupyter.widget-view+json": {
       "model_id": "076bcb06cf75472595c7d6f3e13f10cb",
       "version_major": 2,
       "version_minor": 0
      },
      "text/plain": [
       "Button(description='Go', style=ButtonStyle())"
      ]
     },
     "metadata": {},
     "output_type": "display_data"
    },
    {
     "data": {
      "application/vnd.jupyter.widget-view+json": {
       "model_id": "8a49e835fd4843748eeef9a94c061dbd",
       "version_major": 2,
       "version_minor": 0
      },
      "text/plain": [
       "Output(layout=Layout(border='1px solid black', height='150px', overflow='scroll'))"
      ]
     },
     "metadata": {},
     "output_type": "display_data"
    }
   ],
   "source": [
    "%load_ext autoreload\n",
    "%autoreload 2\n",
    "\n",
    "import json\n",
    "import ipywidgets as widgets\n",
    "\n",
    "# tell Python where the local modules are located\n",
    "import sys\n",
    "module_path = os.path.abspath(os.path.join('..', 'src'))\n",
    "if module_path not in sys.path:\n",
    "    sys.path.append(module_path)\n",
    "\n",
    "# import local modules\n",
    "from Recognizer import Recognizer\n",
    "from PeriodoData import PeriodoData\n",
    "\n",
    "# modules for UI\n",
    "from IPython.display import display, HTML\n",
    "\n",
    "\n",
    "# get list of all Perio.do authorities\n",
    "pd = PeriodoData(False) # create new instance, don't refresh cache\n",
    "authorities = pd.get_authority_list() # returns [{id: \"x\", label: \"label x\"}, {id: \"y\", label: \"label y\"}]\n",
    "authorities_for_dropdown = list(map(lambda x: [x[\"label\"], x[\"id\"]], authorities)) # dropdown requires array of tuples: [[label, id], [label, id]]\n",
    "\n",
    "# define dropdown control for list of Perio.do authorities\n",
    "dropdown_authorities = widgets.Dropdown(\n",
    "    options = authorities_for_dropdown, \n",
    "    value=None, \n",
    "    description='Authority:',\n",
    "    disabled=False\n",
    ")\n",
    "\n",
    "# define dropdown control for list of Perio.do periods\n",
    "dropdown_periods = widgets.Dropdown(\n",
    "    options = [], \n",
    "    value=None, \n",
    "    description='Periods:',\n",
    "    disabled=False\n",
    ")\n",
    "\n",
    "# what to do when selected perio.do authority is changed\n",
    "def on_dropdown_change(*args):\n",
    "    periods = pd.get_period_list(dropdown_authorities.value)\n",
    "    periods_for_dropdown = list(map(lambda item: [item[\"label\"], item[\"id\"]], periods))\n",
    "    dropdown_periods.options = periods_for_dropdown\n",
    "\n",
    "dropdown_authorities.observe(on_dropdown_change, 'value')\n",
    "\n",
    "\n",
    "# define input textarea\n",
    "example_input_text = \"the artefact was medieval or circa 1250-1275 or maybe post medieval? Underlying the modern made ground on the site was a layer covering the entire shaft area. This has been dated to c.1480-1800/1900 and interpreted as a post-medieval cultivation soil. Historic mapping illustrates that the site remained undeveloped through the post medieval period until the mid 19th century, when urban development around the site accelerated and construction of railways in this part of London began. On Gascoigne's 1703 map the site was open ground, the later maps of Rocque in 1746 and Horwood in 1799 show the area was in use as fields and Stanford's map of 1862 depicts the area surrounding Eleanor Street comprising of market gardens. These are all consistent with the archaeological evidence. Underlying the layer were natural terrace gravels. The archaeological fieldwork has demonstrated that remains relating to the Prehistoric, Roman or medieval period have not survived to the modern era, if they were once present on site.\"\n",
    "\n",
    "textarea_input = widgets.Textarea(\n",
    "    value=example_input_text,\n",
    "    placeholder='Type something',\n",
    "    description='String:',\n",
    "    disabled=False,\n",
    "    layout=widgets.Layout(width='100%', height='150px')\n",
    "    \n",
    ")\n",
    "\n",
    "# define output format dropdown\n",
    "dropdown_output_format = widgets.Dropdown(\n",
    "    options = [\"html\", \"json\", \"CSV\", \"TSV\"], \n",
    "    value=\"html\", \n",
    "    description='Format:',\n",
    "    disabled=False\n",
    ")\n",
    "\n",
    "# define 'Go' button and output area\n",
    "button_go = widgets.Button(description=\"Go\")\n",
    "output = widgets.Output(\n",
    "    layout=widgets.Layout(overflow='scroll', border='1px solid black', height='150px')\n",
    ")\n",
    "\n",
    "def on_button_go_clicked(b):\n",
    "    \n",
    "    language = \"en\"\n",
    "    input_text = txt_input.value\n",
    "    output_format = dropdown_output_format.value\n",
    "    ner = TemporalEntityRecognizer(language)\n",
    "    entities = ner.get_entities(input_text)\n",
    "    formatted = TemporalEntityRecognizer.format_entities(input_text, entities, output_format)\n",
    "    print(formatted)\n",
    "    with output:\n",
    "        pprint(formatted)\n",
    "        #output.clear_output(wait=True)\n",
    "        display(HTML(formatted))\n",
    "        #display(HTML('<a href=\"http://example.com\">link</a>'))\n",
    "    #display(formatted)\n",
    "        \n",
    "\n",
    "button_go.on_click(on_button_go_clicked)\n",
    "    \n",
    "# display all controls on the screen\n",
    "\n",
    "display(textarea_input)\n",
    "display(dropdown_authorities)\n",
    "display(dropdown_periods)\n",
    "display(dropdown_output_format)\n",
    "display(button_go)\n",
    "display(output) \n",
    "#display(HTML('<a href=\"http://example.com\">link</a>'))\n"
   ]
  }
 ],
 "metadata": {
  "kernelspec": {
   "display_name": "Python 3.8.13 64-bit ('3.8.13')",
   "language": "python",
   "name": "python3"
  },
  "language_info": {
   "codemirror_mode": {
    "name": "ipython",
    "version": 3
   },
   "file_extension": ".py",
   "mimetype": "text/x-python",
   "name": "python",
   "nbconvert_exporter": "python",
   "pygments_lexer": "ipython3",
   "version": "3.8.13"
  },
  "orig_nbformat": 4,
  "vscode": {
   "interpreter": {
    "hash": "110cc1dee26208153f2972f08a2ad52b6a56238dc66d48e87fb757ef2996db56"
   }
  }
 },
 "nbformat": 4,
 "nbformat_minor": 2
}
