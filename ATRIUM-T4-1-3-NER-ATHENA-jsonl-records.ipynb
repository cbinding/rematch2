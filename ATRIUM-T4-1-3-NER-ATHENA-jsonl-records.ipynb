{
 "cells": [
  {
   "cell_type": "markdown",
   "metadata": {},
   "source": []
  },
  {
   "cell_type": "markdown",
   "metadata": {},
   "source": [
    "# ATRIUM Task 4.1.3 Experiment\n",
    "\n",
    "This notebook demonstrates applying the USW vocabulary-based NER pipeline to records in a JSONL data file supplied by ATHENA, and merging the output results for further subsequent processing.\n",
    "The pipeline identifies terms originating from the following three Linked Open Data controlled vocabularies:\n",
    "\n",
    "* [FISH Event Types Thesaurus](http://purl.org/heritagedata/schemes/agl_et)\n",
    "* [FISH Archaeological Sciences Thesaurus](http://purl.org/heritagedata/schemes/560)\n",
    "* [Getty Art & Architecture Thesaurus - Activities facet](https://vocab.getty.edu/aat/300404112)\n",
    "\n",
    "The [Forum on Information Standards in Heritage (FISH)](https://heritage-standards.org.uk/) terminology working group administer and maintain UK national standard controlled terminologies for cultural heritage - known as the [FISH Vocabularies](https://heritage-standards.org.uk/fish-vocabularies/). These are made freely available for download and use as Linked Open Data via the [Heritage Data](https://www.heritagedata.org/) site. \n",
    "\n",
    "The [Getty Art & Architecture Thesaurus (AAT)](http://vocab.getty.edu/aat/) is made available online as Linked Open Data. The (poly)hierarchical structure is subdivided at the top level into a number of facets. We have isolated terms originating from the [AAT Activities facet](https://vocab.getty.edu/aat/300404112) for this exercise.\n",
    "\n",
    "The listing following the source code sections below shows actual output of the process. These results are also merged within the originating input data under the 'spans' section and saved as a new file. The following example illustrates how the spans identified in the 3rd result record are merged into the existing 'spans' section:\n",
    "\n",
    "![alt text](img/added-span-results.png \"Added span results\")\n",
    "\n"
   ]
  },
  {
   "cell_type": "code",
   "execution_count": 1,
   "metadata": {},
   "outputs": [],
   "source": [
    "%%capture\n",
    "import warnings\n",
    "# suppress user warnings during execution\n",
    "warnings.filterwarnings(action='ignore', category=UserWarning)\n",
    "warnings.filterwarnings(action='ignore', category=FutureWarning)\n",
    "\n",
    "# install prerequisites\n",
    "%pip install spacy\n",
    "%pip install srsly\n",
    "%sx python -m spacy download en_core_web_sm"
   ]
  },
  {
   "cell_type": "code",
   "execution_count": 2,
   "metadata": {},
   "outputs": [
    {
     "name": "stdout",
     "output_type": "stream",
     "text": [
      "[Substitution(find='ﬀ', repl='ff', ignoreCase=True), Substitution(find='ﬁ', repl='fi', ignoreCase=True), Substitution(find='ﬂ', repl='fl', ignoreCase=True), Substitution(find='ﬃ', repl='ffi', ignoreCase=True), Substitution(find='ﬄ', repl='ffl', ignoreCase=True), Substitution(find='ﬅ', repl='ft', ignoreCase=True), Substitution(find='ﬆ', repl='st', ignoreCase=True), Substitution(find='ß', repl='s', ignoreCase=True), Substitution(find='Ꜳ', repl='AA', ignoreCase=False), Substitution(find='ꜳ', repl='aa', ignoreCase=False), Substitution(find='Æ', repl='AE', ignoreCase=False), Substitution(find='æ', repl='ae', ignoreCase=False), Substitution(find='Œ', repl='OE', ignoreCase=False), Substitution(find='œ', repl='oe', ignoreCase=False), Substitution(find='(\\\\p{Letter})\\\\p{Separator}*[\\\\r\\\\n]([a-z])', repl='\\\\1 \\\\2', ignoreCase=True), Substitution(find='\\\\p{Dash_Punctuation}\\\\p{Separator}*[\\\\r\\\\n]([a-z])', repl='\\\\1', ignoreCase=True), Substitution(find='([^.])\\\\p{Separator}*[\\\\r\\\\n]', repl='\\\\1 ', ignoreCase=True), Substitution(find='\\\\p{Separator}+', repl=' ', ignoreCase=True), Substitution(find='\\\\b\\\\s*(\\\\p{Dash_Punctuation})\\\\s*(?=[^\\\\p{Number}])', repl=' - ', ignoreCase=True), Substitution(find='\\\\b(\\\\p{Dash_Punctuation})\\\\b', repl=' - ', ignoreCase=True), Substitution(find='\\\\b\\\\s*([\\\\\\\\\\\\/])\\\\s*\\\\b', repl=' \\\\1 ', ignoreCase=True), Substitution(find='([^\\\\s])\\\\s*(\\\\p{Open_Punctuation})\\\\s*([^\\\\s])', repl='\\\\1 \\\\2\\\\3', ignoreCase=True), Substitution(find='([^\\\\s])\\\\s*(\\\\p{Close_Punctuation})\\\\s*([^\\\\s])', repl='\\\\1\\\\2 \\\\3', ignoreCase=True), Substitution(find='(\\\\p{Letter})\\\\s+&\\\\s+(\\\\p{Letter})', repl='\\\\1 and \\\\2', ignoreCase=True), Substitution(find=\"(\\\\p{Letter})'s\\\\s(\\\\p{Letter})\", repl='\\\\1s \\\\2', ignoreCase=True), Substitution(find=\"(\\\\p{Letter}s)'\\\\s(\\\\p{Letter})\", repl='\\\\1 \\\\2', ignoreCase=True), Substitution(find='(\\\\p{Letter}),(\\\\p{Letter})', repl='\\\\1, \\\\2', ignoreCase=True), Substitution(find='\\\\b(a)rcheo', repl='\\\\1rchaeo', ignoreCase=True), Substitution(find='\\\\b(p)aleo', repl='\\\\1alaeo', ignoreCase=True), Substitution(find='\\\\b(d)efense(s)?\\\\b', repl='\\\\1efence\\\\2', ignoreCase=True), Substitution(find='\\\\b(c)olor(s)?\\\\b', repl='\\\\1olour\\\\2', ignoreCase=True), Substitution(find='\\\\b(p)alestra(s)?\\\\b', repl='\\\\1alaestra\\\\2', ignoreCase=True), Substitution(find='\\\\b(m)ediaeval\\\\b', repl='\\\\1edieval', ignoreCase=True), Substitution(find='(\\\\w+)ization\\\\b', repl='\\\\1isation', ignoreCase=True), Substitution(find='(\\\\w+)izing\\\\b', repl='\\\\1ising', ignoreCase=True), Substitution(find='(\\\\w+)ized\\\\b', repl='\\\\1ised', ignoreCase=True), Substitution(find='\\\\b(j)ewelry\\\\b', repl='\\\\1ewellery', ignoreCase=True), Substitution(find='\\\\b(a)rtifact(s)?\\\\b', repl='\\\\1rtefact\\\\2', ignoreCase=True), Substitution(find='\\\\b(p)low(s)?\\\\b', repl='\\\\1lough\\\\2', ignoreCase=True), Substitution(find='\\\\b(g)ray\\\\b', repl='\\\\1rey', ignoreCase=True), Substitution(find='\\\\b(s)ulfate\\\\b', repl='\\\\1ulphate', ignoreCase=True), Substitution(find='\\\\b(s)ulfur\\\\b', repl='\\\\1ulphur', ignoreCase=True), Substitution(find='\\\\b(t)heater(s)?\\\\b', repl='\\\\1heatre\\\\2', ignoreCase=True), Substitution(find='\\\\b(m)odel(s)?\\\\b', repl='\\\\1odel\\\\2', ignoreCase=True), Substitution(find='\\\\b(m)odeled\\\\b', repl='\\\\1odelled', ignoreCase=True), Substitution(find='\\\\b(m)odeling\\\\b', repl='\\\\1odelling', ignoreCase=True), Substitution(find='\\\\b(h)arbor(s)?\\\\b', repl='\\\\1arbour\\\\2', ignoreCase=True), Substitution(find='\\\\b(l)abor\\\\b', repl='\\\\1abour', ignoreCase=True), Substitution(find='\\\\b(a)luminum\\\\b', repl='\\\\1luminium', ignoreCase=True), Substitution(find='(\\\\p{Letter})\\\\p{Separator}*[\\\\r\\\\n]([a-z])', repl='\\\\1 \\\\2', ignoreCase=True), Substitution(find='\\\\p{Dash_Punctuation}\\\\p{Separator}*[\\\\r\\\\n]([a-z])', repl='\\\\1', ignoreCase=True), Substitution(find='([^.])\\\\p{Separator}*[\\\\r\\\\n]', repl='\\\\1 ', ignoreCase=True), Substitution(find='\\\\p{Separator}+', repl=' ', ignoreCase=True)]\n"
     ]
    },
    {
     "data": {
      "text/html": [
       "<h3>[ID: http://www.jstor.org/stable/24766203]</h3>"
      ],
      "text/plain": [
       "<IPython.core.display.HTML object>"
      ]
     },
     "metadata": {},
     "output_type": "display_data"
    },
    {
     "data": {
      "text/html": [
       "<div class=\"spans\" style=\"line-height: 2.5; direction: ltr\">Contextualisation and \n",
       "<span style=\"font-weight: bold; display: inline-block; position: relative; height: 60px;\">\n",
       "    spatial\n",
       "    \n",
       "<span style=\"background: lightsalmon; top: 40px; height: 4px; left: -1px; width: calc(100% + 2px); position: absolute;\">\n",
       "</span>\n",
       "\n",
       "    \n",
       "<span style=\"background: lightsalmon; top: 40px; height: 4px; border-top-left-radius: 3px; border-bottom-left-radius: 3px; left: -1px; width: calc(100% + 2px); position: absolute;\">\n",
       "    <span style=\"background: lightsalmon; z-index: 10; color: #000; top: -0.5em; padding: 2px 3px; position: absolute; font-size: 0.6em; font-weight: bold; line-height: 1; border-radius: 3px\">\n",
       "        AAT_ACTIVITY\n",
       "    </span>\n",
       "</span>\n",
       "\n",
       "\n",
       "</span>\n",
       "\n",
       "<span style=\"font-weight: bold; display: inline-block; position: relative; height: 60px;\">\n",
       "    analysis\n",
       "    \n",
       "<span style=\"background: lightsalmon; top: 40px; height: 4px; left: -1px; width: calc(100% + 2px); position: absolute;\">\n",
       "</span>\n",
       "\n",
       "    \n",
       "</span>\n",
       "of radiocarbon data reveals finer - scale patterning than is usually possible with summed - probability approaches : the boom - and - bust models of prehistoric populations may , in fact , be a misinterpretation of more subtle demographic changes occurring at the same time as cultural change and attendant differences in the archaeological record . </div>"
      ],
      "text/plain": [
       "<IPython.core.display.HTML object>"
      ]
     },
     "metadata": {},
     "output_type": "display_data"
    },
    {
     "data": {
      "text/html": [
       "<table class=\"dataframe table table-sm table-striped table-light\">\n",
       "  <thead>\n",
       "    <tr style=\"text-align: left;\">\n",
       "      <th>start</th>\n",
       "      <th>end</th>\n",
       "      <th>token_start</th>\n",
       "      <th>token_end</th>\n",
       "      <th>label</th>\n",
       "      <th>id</th>\n",
       "      <th>text</th>\n",
       "      <th>span</th>\n",
       "    </tr>\n",
       "  </thead>\n",
       "  <tbody>\n",
       "    <tr>\n",
       "      <td>22</td>\n",
       "      <td>38</td>\n",
       "      <td>2</td>\n",
       "      <td>3</td>\n",
       "      <td>AAT_ACTIVITY</td>\n",
       "      <td><a href=\"http://vocab.getty.edu/aat/300223990\" target=\"_blank\">http://vocab.getty.edu/aat/300223990</a></td>\n",
       "      <td>spatial analysis</td>\n",
       "      <td><a target='_blank' rel='noopener noreferrer' href='http://vocab.getty.edu/aat/300223990'>spatial analysis</a></td>\n",
       "    </tr>\n",
       "  </tbody>\n",
       "</table>"
      ],
      "text/plain": [
       "<IPython.core.display.HTML object>"
      ]
     },
     "metadata": {},
     "output_type": "display_data"
    },
    {
     "data": {
      "text/html": [
       "<hr>"
      ],
      "text/plain": [
       "<IPython.core.display.HTML object>"
      ]
     },
     "metadata": {},
     "output_type": "display_data"
    },
    {
     "data": {
      "text/html": [
       "<h3>[ID: http://www.jstor.org/stable/4603445]</h3>"
      ],
      "text/plain": [
       "<IPython.core.display.HTML object>"
      ]
     },
     "metadata": {},
     "output_type": "display_data"
    },
    {
     "data": {
      "text/html": [
       "<div class=\"spans\" style=\"line-height: 2.5; direction: ltr\">Samples were \n",
       "<span style=\"font-weight: bold; display: inline-block; position: relative; height: 60px;\">\n",
       "    collected\n",
       "    \n",
       "<span style=\"background: lightsalmon; top: 40px; height: 4px; left: -1px; width: calc(100% + 2px); position: absolute;\">\n",
       "</span>\n",
       "\n",
       "    \n",
       "<span style=\"background: lightsalmon; top: 40px; height: 4px; border-top-left-radius: 3px; border-bottom-left-radius: 3px; left: -1px; width: calc(100% + 2px); position: absolute;\">\n",
       "    <span style=\"background: lightsalmon; z-index: 10; color: #000; top: -0.5em; padding: 2px 3px; position: absolute; font-size: 0.6em; font-weight: bold; line-height: 1; border-radius: 3px\">\n",
       "        AAT_ACTIVITY\n",
       "    </span>\n",
       "</span>\n",
       "\n",
       "\n",
       "</span>\n",
       "from domestic contexts that clearly contained \n",
       "<span style=\"font-weight: bold; display: inline-block; position: relative; height: 60px;\">\n",
       "    carbonised\n",
       "    \n",
       "<span style=\"background: lightpink; top: 40px; height: 4px; left: -1px; width: calc(100% + 2px); position: absolute;\">\n",
       "</span>\n",
       "\n",
       "    \n",
       "<span style=\"background: lightpink; top: 40px; height: 4px; border-top-left-radius: 3px; border-bottom-left-radius: 3px; left: -1px; width: calc(100% + 2px); position: absolute;\">\n",
       "    <span style=\"background: lightpink; z-index: 10; color: #000; top: -0.5em; padding: 2px 3px; position: absolute; font-size: 0.6em; font-weight: bold; line-height: 1; border-radius: 3px\">\n",
       "        FISH_ARCHSCIENCE\n",
       "    </span>\n",
       "</span>\n",
       "\n",
       "\n",
       "</span>\n",
       "remains ( Fall , 1983 ; Lines , 1995 ; McCreery , 1980 , pp . 34 , 37 ; Meadows , 1996 , pp . 13 , 16 ) and \n",
       "<span style=\"font-weight: bold; display: inline-block; position: relative; height: 60px;\">\n",
       "    processed\n",
       "    \n",
       "<span style=\"background: lightsalmon; top: 40px; height: 4px; left: -1px; width: calc(100% + 2px); position: absolute;\">\n",
       "</span>\n",
       "\n",
       "    \n",
       "<span style=\"background: lightsalmon; top: 40px; height: 4px; border-top-left-radius: 3px; border-bottom-left-radius: 3px; left: -1px; width: calc(100% + 2px); position: absolute;\">\n",
       "    <span style=\"background: lightsalmon; z-index: 10; color: #000; top: -0.5em; padding: 2px 3px; position: absolute; font-size: 0.6em; font-weight: bold; line-height: 1; border-radius: 3px\">\n",
       "        AAT_ACTIVITY\n",
       "    </span>\n",
       "</span>\n",
       "\n",
       "\n",
       "</span>\n",
       "using water flotation ( see Pearsall , 1989 ) . </div>"
      ],
      "text/plain": [
       "<IPython.core.display.HTML object>"
      ]
     },
     "metadata": {},
     "output_type": "display_data"
    },
    {
     "data": {
      "text/html": [
       "<table class=\"dataframe table table-sm table-striped table-light\">\n",
       "  <thead>\n",
       "    <tr style=\"text-align: left;\">\n",
       "      <th>start</th>\n",
       "      <th>end</th>\n",
       "      <th>token_start</th>\n",
       "      <th>token_end</th>\n",
       "      <th>label</th>\n",
       "      <th>id</th>\n",
       "      <th>text</th>\n",
       "      <th>span</th>\n",
       "    </tr>\n",
       "  </thead>\n",
       "  <tbody>\n",
       "    <tr>\n",
       "      <td>13</td>\n",
       "      <td>22</td>\n",
       "      <td>2</td>\n",
       "      <td>2</td>\n",
       "      <td>AAT_ACTIVITY</td>\n",
       "      <td><a href=\"http://vocab.getty.edu/aat/300077121\" target=\"_blank\">http://vocab.getty.edu/aat/300077121</a></td>\n",
       "      <td>collected</td>\n",
       "      <td><a target='_blank' rel='noopener noreferrer' href='http://vocab.getty.edu/aat/300077121'>collected</a></td>\n",
       "    </tr>\n",
       "    <tr>\n",
       "      <td>69</td>\n",
       "      <td>79</td>\n",
       "      <td>9</td>\n",
       "      <td>9</td>\n",
       "      <td>FISH_ARCHSCIENCE</td>\n",
       "      <td><a href=\"http://purl.org/heritagedata/schemes/560/concepts/142118\" target=\"_blank\">http://purl.org/heritagedata/schemes/560/concepts/142118</a></td>\n",
       "      <td>carbonised</td>\n",
       "      <td><a target='_blank' rel='noopener noreferrer' href='http://purl.org/heritagedata/schemes/560/concepts/142118'>carbonised</a></td>\n",
       "    </tr>\n",
       "    <tr>\n",
       "      <td>173</td>\n",
       "      <td>182</td>\n",
       "      <td>41</td>\n",
       "      <td>41</td>\n",
       "      <td>AAT_ACTIVITY</td>\n",
       "      <td><a href=\"http://vocab.getty.edu/aat/300138076\" target=\"_blank\">http://vocab.getty.edu/aat/300138076</a></td>\n",
       "      <td>processed</td>\n",
       "      <td><a target='_blank' rel='noopener noreferrer' href='http://vocab.getty.edu/aat/300138076'>processed</a></td>\n",
       "    </tr>\n",
       "  </tbody>\n",
       "</table>"
      ],
      "text/plain": [
       "<IPython.core.display.HTML object>"
      ]
     },
     "metadata": {},
     "output_type": "display_data"
    },
    {
     "data": {
      "text/html": [
       "<hr>"
      ],
      "text/plain": [
       "<IPython.core.display.HTML object>"
      ]
     },
     "metadata": {},
     "output_type": "display_data"
    },
    {
     "data": {
      "text/html": [
       "<h3>[ID: http://www.jstor.org/stable/4603594]</h3>"
      ],
      "text/plain": [
       "<IPython.core.display.HTML object>"
      ]
     },
     "metadata": {},
     "output_type": "display_data"
    },
    {
     "data": {
      "text/html": [
       "<div class=\"spans\" style=\"line-height: 2.5; direction: ltr\">Palaeolimnology Loss - on - ignition and \n",
       "<span style=\"font-weight: bold; display: inline-block; position: relative; height: 60px;\">\n",
       "    magnetic\n",
       "    \n",
       "<span style=\"background: lightpink; top: 40px; height: 4px; left: -1px; width: calc(100% + 2px); position: absolute;\">\n",
       "</span>\n",
       "\n",
       "    \n",
       "<span style=\"background: lightpink; top: 40px; height: 4px; border-top-left-radius: 3px; border-bottom-left-radius: 3px; left: -1px; width: calc(100% + 2px); position: absolute;\">\n",
       "    <span style=\"background: lightpink; z-index: 10; color: #000; top: -0.5em; padding: 2px 3px; position: absolute; font-size: 0.6em; font-weight: bold; line-height: 1; border-radius: 3px\">\n",
       "        FISH_ARCHSCIENCE\n",
       "    </span>\n",
       "</span>\n",
       "\n",
       "\n",
       "</span>\n",
       "\n",
       "<span style=\"font-weight: bold; display: inline-block; position: relative; height: 60px;\">\n",
       "    susceptibility\n",
       "    \n",
       "<span style=\"background: lightpink; top: 40px; height: 4px; left: -1px; width: calc(100% + 2px); position: absolute;\">\n",
       "</span>\n",
       "\n",
       "    \n",
       "</span>\n",
       "data for Litlavatn and Grothu'svatn \n",
       "<span style=\"font-weight: bold; display: inline-block; position: relative; height: 60px;\">\n",
       "    provide\n",
       "    \n",
       "<span style=\"background: lightsalmon; top: 40px; height: 4px; left: -1px; width: calc(100% + 2px); position: absolute;\">\n",
       "</span>\n",
       "\n",
       "    \n",
       "<span style=\"background: lightsalmon; top: 40px; height: 4px; border-top-left-radius: 3px; border-bottom-left-radius: 3px; left: -1px; width: calc(100% + 2px); position: absolute;\">\n",
       "    <span style=\"background: lightsalmon; z-index: 10; color: #000; top: -0.5em; padding: 2px 3px; position: absolute; font-size: 0.6em; font-weight: bold; line-height: 1; border-radius: 3px\">\n",
       "        AAT_ACTIVITY\n",
       "    </span>\n",
       "</span>\n",
       "\n",
       "\n",
       "</span>\n",
       "continuous records of erosion in their catchments , 664 Lawson et al . revealing very different sedimentation histories for the two lakes . </div>"
      ],
      "text/plain": [
       "<IPython.core.display.HTML object>"
      ]
     },
     "metadata": {},
     "output_type": "display_data"
    },
    {
     "data": {
      "text/html": [
       "<table class=\"dataframe table table-sm table-striped table-light\">\n",
       "  <thead>\n",
       "    <tr style=\"text-align: left;\">\n",
       "      <th>start</th>\n",
       "      <th>end</th>\n",
       "      <th>token_start</th>\n",
       "      <th>token_end</th>\n",
       "      <th>label</th>\n",
       "      <th>id</th>\n",
       "      <th>text</th>\n",
       "      <th>span</th>\n",
       "    </tr>\n",
       "  </thead>\n",
       "  <tbody>\n",
       "    <tr>\n",
       "      <td>41</td>\n",
       "      <td>64</td>\n",
       "      <td>7</td>\n",
       "      <td>8</td>\n",
       "      <td>FISH_ARCHSCIENCE</td>\n",
       "      <td><a href=\"http://purl.org/heritagedata/schemes/560/concepts/142158\" target=\"_blank\">http://purl.org/heritagedata/schemes/560/concepts/142158</a></td>\n",
       "      <td>magnetic susceptibility</td>\n",
       "      <td><a target='_blank' rel='noopener noreferrer' href='http://purl.org/heritagedata/schemes/560/concepts/142158'>magnetic susceptibility</a></td>\n",
       "    </tr>\n",
       "    <tr>\n",
       "      <td>101</td>\n",
       "      <td>108</td>\n",
       "      <td>14</td>\n",
       "      <td>14</td>\n",
       "      <td>AAT_ACTIVITY</td>\n",
       "      <td><a href=\"http://vocab.getty.edu/aat/300137584\" target=\"_blank\">http://vocab.getty.edu/aat/300137584</a></td>\n",
       "      <td>provide</td>\n",
       "      <td><a target='_blank' rel='noopener noreferrer' href='http://vocab.getty.edu/aat/300137584'>provide</a></td>\n",
       "    </tr>\n",
       "  </tbody>\n",
       "</table>"
      ],
      "text/plain": [
       "<IPython.core.display.HTML object>"
      ]
     },
     "metadata": {},
     "output_type": "display_data"
    },
    {
     "data": {
      "text/html": [
       "<hr>"
      ],
      "text/plain": [
       "<IPython.core.display.HTML object>"
      ]
     },
     "metadata": {},
     "output_type": "display_data"
    },
    {
     "data": {
      "text/html": [
       "<h3>[ID: http://www.jstor.org/stable/4603594]</h3>"
      ],
      "text/plain": [
       "<IPython.core.display.HTML object>"
      ]
     },
     "metadata": {},
     "output_type": "display_data"
    },
    {
     "data": {
      "text/html": [
       "<div class=\"spans\" style=\"line-height: 2.5; direction: ltr\">Eight camel bone samples ( from six individuals ) from the site have been AMS \n",
       "<span style=\"font-weight: bold; display: inline-block; position: relative; height: 60px;\">\n",
       "    radiocarbon\n",
       "    \n",
       "<span style=\"background: lightpink; top: 40px; height: 4px; left: -1px; width: calc(100% + 2px); position: absolute;\">\n",
       "</span>\n",
       "\n",
       "    \n",
       "<span style=\"background: lightpink; top: 40px; height: 4px; border-top-left-radius: 3px; border-bottom-left-radius: 3px; left: -1px; width: calc(100% + 2px); position: absolute;\">\n",
       "    <span style=\"background: lightpink; z-index: 10; color: #000; top: -0.5em; padding: 2px 3px; position: absolute; font-size: 0.6em; font-weight: bold; line-height: 1; border-radius: 3px\">\n",
       "        FISH_ARCHSCIENCE\n",
       "    </span>\n",
       "</span>\n",
       "\n",
       "\n",
       "</span>\n",
       "\n",
       "<span style=\"font-weight: bold; display: inline-block; position: relative; height: 60px;\">\n",
       "    dated\n",
       "    \n",
       "<span style=\"background: lightpink; top: 40px; height: 4px; left: -1px; width: calc(100% + 2px); position: absolute;\">\n",
       "</span>\n",
       "\n",
       "    \n",
       "</span>\n",
       "by the Leibniz Laboratory for Radiometrie Dating and Stable Isotope Research , Kiel University , Germany , revealing that they \n",
       "<span style=\"font-weight: bold; display: inline-block; position: relative; height: 60px;\">\n",
       "    date\n",
       "    \n",
       "<span style=\"background: lightsalmon; top: 40px; height: 4px; left: -1px; width: calc(100% + 2px); position: absolute;\">\n",
       "</span>\n",
       "\n",
       "    \n",
       "<span style=\"background: lightsalmon; top: 40px; height: 4px; border-top-left-radius: 3px; border-bottom-left-radius: 3px; left: -1px; width: calc(100% + 2px); position: absolute;\">\n",
       "    <span style=\"background: lightsalmon; z-index: 10; color: #000; top: -0.5em; padding: 2px 3px; position: absolute; font-size: 0.6em; font-weight: bold; line-height: 1; border-radius: 3px\">\n",
       "        AAT_ACTIVITY\n",
       "    </span>\n",
       "</span>\n",
       "\n",
       "\n",
       "</span>\n",
       "from the second half of the fifth millennium BC The site is located in an interdunal area to the south - east of the Baynunah Plantation , not far from the Ruwais - Habshan pipeline . </div>"
      ],
      "text/plain": [
       "<IPython.core.display.HTML object>"
      ]
     },
     "metadata": {},
     "output_type": "display_data"
    },
    {
     "data": {
      "text/html": [
       "<table class=\"dataframe table table-sm table-striped table-light\">\n",
       "  <thead>\n",
       "    <tr style=\"text-align: left;\">\n",
       "      <th>start</th>\n",
       "      <th>end</th>\n",
       "      <th>token_start</th>\n",
       "      <th>token_end</th>\n",
       "      <th>label</th>\n",
       "      <th>id</th>\n",
       "      <th>text</th>\n",
       "      <th>span</th>\n",
       "    </tr>\n",
       "  </thead>\n",
       "  <tbody>\n",
       "    <tr>\n",
       "      <td>76</td>\n",
       "      <td>93</td>\n",
       "      <td>15</td>\n",
       "      <td>16</td>\n",
       "      <td>FISH_ARCHSCIENCE</td>\n",
       "      <td><a href=\"http://purl.org/heritagedata/schemes/560/concepts/142188\" target=\"_blank\">http://purl.org/heritagedata/schemes/560/concepts/142188</a></td>\n",
       "      <td>radiocarbon dated</td>\n",
       "      <td><a target='_blank' rel='noopener noreferrer' href='http://purl.org/heritagedata/schemes/560/concepts/142188'>radiocarbon dated</a></td>\n",
       "    </tr>\n",
       "    <tr>\n",
       "      <td>218</td>\n",
       "      <td>222</td>\n",
       "      <td>37</td>\n",
       "      <td>37</td>\n",
       "      <td>AAT_ACTIVITY</td>\n",
       "      <td><a href=\"http://vocab.getty.edu/aat/300404795\" target=\"_blank\">http://vocab.getty.edu/aat/300404795</a></td>\n",
       "      <td>date</td>\n",
       "      <td><a target='_blank' rel='noopener noreferrer' href='http://vocab.getty.edu/aat/300404795'>date</a></td>\n",
       "    </tr>\n",
       "  </tbody>\n",
       "</table>"
      ],
      "text/plain": [
       "<IPython.core.display.HTML object>"
      ]
     },
     "metadata": {},
     "output_type": "display_data"
    },
    {
     "data": {
      "text/html": [
       "<hr>"
      ],
      "text/plain": [
       "<IPython.core.display.HTML object>"
      ]
     },
     "metadata": {},
     "output_type": "display_data"
    },
    {
     "data": {
      "text/html": [
       "<h3>[ID: http://www.jstor.org/stable/24408522]</h3>"
      ],
      "text/plain": [
       "<IPython.core.display.HTML object>"
      ]
     },
     "metadata": {},
     "output_type": "display_data"
    },
    {
     "data": {
      "text/html": [
       "<div class=\"spans\" style=\"line-height: 2.5; direction: ltr\">Calibrated AMS radiocarbon assays of 10 black bear ( Ursus americanus ) femora from a natural - trap cave in central Missouri are weakly correlated with fluorine concentrations , determined by \n",
       "<span style=\"font-weight: bold; display: inline-block; position: relative; height: 60px;\">\n",
       "    neutron\n",
       "    \n",
       "<span style=\"background: lightsalmon; top: 40px; height: 4px; left: -1px; width: calc(100% + 2px); position: absolute;\">\n",
       "</span>\n",
       "\n",
       "    \n",
       "<span style=\"background: lightsalmon; top: 40px; height: 4px; border-top-left-radius: 3px; border-bottom-left-radius: 3px; left: -1px; width: calc(100% + 2px); position: absolute;\">\n",
       "    <span style=\"background: lightsalmon; z-index: 10; color: #000; top: -0.5em; padding: 2px 3px; position: absolute; font-size: 0.6em; font-weight: bold; line-height: 1; border-radius: 3px\">\n",
       "        AAT_ACTIVITY\n",
       "    </span>\n",
       "</span>\n",
       "\n",
       "\n",
       "</span>\n",
       "\n",
       "<span style=\"font-weight: bold; display: inline-block; position: relative; height: 60px;\">\n",
       "    activation\n",
       "    \n",
       "<span style=\"background: lightsalmon; top: 40px; height: 4px; left: -1px; width: calc(100% + 2px); position: absolute;\">\n",
       "</span>\n",
       "\n",
       "    \n",
       "</span>\n",
       "\n",
       "<span style=\"font-weight: bold; display: inline-block; position: relative; height: 60px;\">\n",
       "    analysis\n",
       "    \n",
       "<span style=\"background: lightsalmon; top: 40px; height: 4px; left: -1px; width: calc(100% + 2px); position: absolute;\">\n",
       "</span>\n",
       "\n",
       "    \n",
       "</span>\n",
       "in the 10 femora . </div>"
      ],
      "text/plain": [
       "<IPython.core.display.HTML object>"
      ]
     },
     "metadata": {},
     "output_type": "display_data"
    },
    {
     "data": {
      "text/html": [
       "<table class=\"dataframe table table-sm table-striped table-light\">\n",
       "  <thead>\n",
       "    <tr style=\"text-align: left;\">\n",
       "      <th>start</th>\n",
       "      <th>end</th>\n",
       "      <th>token_start</th>\n",
       "      <th>token_end</th>\n",
       "      <th>label</th>\n",
       "      <th>id</th>\n",
       "      <th>text</th>\n",
       "      <th>span</th>\n",
       "    </tr>\n",
       "  </thead>\n",
       "  <tbody>\n",
       "    <tr>\n",
       "      <td>190</td>\n",
       "      <td>217</td>\n",
       "      <td>31</td>\n",
       "      <td>33</td>\n",
       "      <td>AAT_ACTIVITY</td>\n",
       "      <td><a href=\"http://vocab.getty.edu/aat/300081742\" target=\"_blank\">http://vocab.getty.edu/aat/300081742</a></td>\n",
       "      <td>neutron activation analysis</td>\n",
       "      <td><a target='_blank' rel='noopener noreferrer' href='http://vocab.getty.edu/aat/300081742'>neutron activation analysis</a></td>\n",
       "    </tr>\n",
       "  </tbody>\n",
       "</table>"
      ],
      "text/plain": [
       "<IPython.core.display.HTML object>"
      ]
     },
     "metadata": {},
     "output_type": "display_data"
    },
    {
     "data": {
      "text/html": [
       "<hr>"
      ],
      "text/plain": [
       "<IPython.core.display.HTML object>"
      ]
     },
     "metadata": {},
     "output_type": "display_data"
    },
    {
     "data": {
      "text/html": [
       "<h3>[ID: http://www.jstor.org/stable/40387214]</h3>"
      ],
      "text/plain": [
       "<IPython.core.display.HTML object>"
      ]
     },
     "metadata": {},
     "output_type": "display_data"
    },
    {
     "data": {
      "text/plain": [
       "\"This situation has changed with recent archaeological, paleontological, and wetland coring research conducted on O'ahu's 'Ewa Plain, a hot, dry emerged limestone reef characterized by numerous sinkholes.\""
      ]
     },
     "metadata": {},
     "output_type": "display_data"
    },
    {
     "data": {
      "text/html": [],
      "text/plain": [
       "<IPython.core.display.HTML object>"
      ]
     },
     "metadata": {},
     "output_type": "display_data"
    },
    {
     "data": {
      "text/html": [
       "<hr>"
      ],
      "text/plain": [
       "<IPython.core.display.HTML object>"
      ]
     },
     "metadata": {},
     "output_type": "display_data"
    },
    {
     "data": {
      "text/html": [
       "<h3>[ID: http://www.jstor.org/stable/23419710]</h3>"
      ],
      "text/plain": [
       "<IPython.core.display.HTML object>"
      ]
     },
     "metadata": {},
     "output_type": "display_data"
    },
    {
     "data": {
      "text/html": [
       "<div class=\"spans\" style=\"line-height: 2.5; direction: ltr\">\n",
       "<span style=\"font-weight: bold; display: inline-block; position: relative; height: 60px;\">\n",
       "    Palaeobotanical\n",
       "    \n",
       "<span style=\"background: lightsalmon; top: 40px; height: 4px; left: -1px; width: calc(100% + 2px); position: absolute;\">\n",
       "</span>\n",
       "\n",
       "    \n",
       "<span style=\"background: lightsalmon; top: 40px; height: 4px; border-top-left-radius: 3px; border-bottom-left-radius: 3px; left: -1px; width: calc(100% + 2px); position: absolute;\">\n",
       "    <span style=\"background: lightsalmon; z-index: 10; color: #000; top: -0.5em; padding: 2px 3px; position: absolute; font-size: 0.6em; font-weight: bold; line-height: 1; border-radius: 3px\">\n",
       "        AAT_ACTIVITY\n",
       "    </span>\n",
       "</span>\n",
       "\n",
       "\n",
       "</span>\n",
       "\n",
       "<span style=\"font-weight: bold; display: inline-block; position: relative; height: 60px;\">\n",
       "    analysis\n",
       "    \n",
       "<span style=\"background: lightsalmon; top: 40px; height: 4px; left: -1px; width: calc(100% + 2px); position: absolute;\">\n",
       "</span>\n",
       "\n",
       "    \n",
       "</span>\n",
       "and \n",
       "<span style=\"font-weight: bold; display: inline-block; position: relative; height: 60px;\">\n",
       "    radiocarbon\n",
       "    \n",
       "<span style=\"background: lightpink; top: 40px; height: 4px; left: -1px; width: calc(100% + 2px); position: absolute;\">\n",
       "</span>\n",
       "\n",
       "    \n",
       "<span style=\"background: lightpink; top: 40px; height: 4px; border-top-left-radius: 3px; border-bottom-left-radius: 3px; left: -1px; width: calc(100% + 2px); position: absolute;\">\n",
       "    <span style=\"background: lightpink; z-index: 10; color: #000; top: -0.5em; padding: 2px 3px; position: absolute; font-size: 0.6em; font-weight: bold; line-height: 1; border-radius: 3px\">\n",
       "        FISH_ARCHSCIENCE\n",
       "    </span>\n",
       "</span>\n",
       "\n",
       "\n",
       "</span>\n",
       "\n",
       "<span style=\"font-weight: bold; display: inline-block; position: relative; height: 60px;\">\n",
       "    dating\n",
       "    \n",
       "<span style=\"background: lightpink; top: 40px; height: 4px; left: -1px; width: calc(100% + 2px); position: absolute;\">\n",
       "</span>\n",
       "\n",
       "    \n",
       "</span>\n",
       "of lake sediments from Bachalpsee ( 2265 m a.s.l . ) , a small lake above the present - day timber - line in the northern Swiss Alps reveals that the region was already deglaciated during the Younger Dryas . </div>"
      ],
      "text/plain": [
       "<IPython.core.display.HTML object>"
      ]
     },
     "metadata": {},
     "output_type": "display_data"
    },
    {
     "data": {
      "text/html": [
       "<table class=\"dataframe table table-sm table-striped table-light\">\n",
       "  <thead>\n",
       "    <tr style=\"text-align: left;\">\n",
       "      <th>start</th>\n",
       "      <th>end</th>\n",
       "      <th>token_start</th>\n",
       "      <th>token_end</th>\n",
       "      <th>label</th>\n",
       "      <th>id</th>\n",
       "      <th>text</th>\n",
       "      <th>span</th>\n",
       "    </tr>\n",
       "  </thead>\n",
       "  <tbody>\n",
       "    <tr>\n",
       "      <td>0</td>\n",
       "      <td>24</td>\n",
       "      <td>0</td>\n",
       "      <td>1</td>\n",
       "      <td>AAT_ACTIVITY</td>\n",
       "      <td><a href=\"http://vocab.getty.edu/aat/300054595\" target=\"_blank\">http://vocab.getty.edu/aat/300054595</a></td>\n",
       "      <td>Palaeobotanical analysis</td>\n",
       "      <td><a target='_blank' rel='noopener noreferrer' href='http://vocab.getty.edu/aat/300054595'>Palaeobotanical analysis</a></td>\n",
       "    </tr>\n",
       "    <tr>\n",
       "      <td>29</td>\n",
       "      <td>47</td>\n",
       "      <td>3</td>\n",
       "      <td>4</td>\n",
       "      <td>FISH_ARCHSCIENCE</td>\n",
       "      <td><a href=\"http://purl.org/heritagedata/schemes/560/concepts/142188\" target=\"_blank\">http://purl.org/heritagedata/schemes/560/concepts/142188</a></td>\n",
       "      <td>radiocarbon dating</td>\n",
       "      <td><a target='_blank' rel='noopener noreferrer' href='http://purl.org/heritagedata/schemes/560/concepts/142188'>radiocarbon dating</a></td>\n",
       "    </tr>\n",
       "  </tbody>\n",
       "</table>"
      ],
      "text/plain": [
       "<IPython.core.display.HTML object>"
      ]
     },
     "metadata": {},
     "output_type": "display_data"
    },
    {
     "data": {
      "text/html": [
       "<hr>"
      ],
      "text/plain": [
       "<IPython.core.display.HTML object>"
      ]
     },
     "metadata": {},
     "output_type": "display_data"
    },
    {
     "data": {
      "text/html": [
       "<h3>[ID: http://www.jstor.org/stable/23631460]</h3>"
      ],
      "text/plain": [
       "<IPython.core.display.HTML object>"
      ]
     },
     "metadata": {},
     "output_type": "display_data"
    },
    {
     "data": {
      "text/html": [
       "<div class=\"spans\" style=\"line-height: 2.5; direction: ltr\">To \n",
       "<span style=\"font-weight: bold; display: inline-block; position: relative; height: 60px;\">\n",
       "    investigate\n",
       "    \n",
       "<span style=\"background: lightsalmon; top: 40px; height: 4px; left: -1px; width: calc(100% + 2px); position: absolute;\">\n",
       "</span>\n",
       "\n",
       "    \n",
       "<span style=\"background: lightsalmon; top: 40px; height: 4px; border-top-left-radius: 3px; border-bottom-left-radius: 3px; left: -1px; width: calc(100% + 2px); position: absolute;\">\n",
       "    <span style=\"background: lightsalmon; z-index: 10; color: #000; top: -0.5em; padding: 2px 3px; position: absolute; font-size: 0.6em; font-weight: bold; line-height: 1; border-radius: 3px\">\n",
       "        AAT_ACTIVITY\n",
       "    </span>\n",
       "</span>\n",
       "\n",
       "\n",
       "</span>\n",
       "this , I conducted a micro - residue study on part of the originally \n",
       "<span style=\"font-weight: bold; display: inline-block; position: relative; height: 60px;\">\n",
       "    analysed\n",
       "    \n",
       "<span style=\"background: lightsalmon; top: 40px; height: 4px; left: -1px; width: calc(100% + 2px); position: absolute;\">\n",
       "</span>\n",
       "\n",
       "    \n",
       "<span style=\"background: lightsalmon; top: 40px; height: 4px; border-top-left-radius: 3px; border-bottom-left-radius: 3px; left: -1px; width: calc(100% + 2px); position: absolute;\">\n",
       "    <span style=\"background: lightsalmon; z-index: 10; color: #000; top: -0.5em; padding: 2px 3px; position: absolute; font-size: 0.6em; font-weight: bold; line-height: 1; border-radius: 3px\">\n",
       "        AAT_ACTIVITY\n",
       "    </span>\n",
       "</span>\n",
       "\n",
       "\n",
       "</span>\n",
       "sample and on other artefacts with the same provenance ; the tools were \n",
       "<span style=\"font-weight: bold; display: inline-block; position: relative; height: 60px;\">\n",
       "    analysed\n",
       "    \n",
       "<span style=\"background: lightsalmon; top: 40px; height: 4px; left: -1px; width: calc(100% + 2px); position: absolute;\">\n",
       "</span>\n",
       "\n",
       "    \n",
       "<span style=\"background: lightsalmon; top: 40px; height: 4px; border-top-left-radius: 3px; border-bottom-left-radius: 3px; left: -1px; width: calc(100% + 2px); position: absolute;\">\n",
       "    <span style=\"background: lightsalmon; z-index: 10; color: #000; top: -0.5em; padding: 2px 3px; position: absolute; font-size: 0.6em; font-weight: bold; line-height: 1; border-radius: 3px\">\n",
       "        AAT_ACTIVITY\n",
       "    </span>\n",
       "</span>\n",
       "\n",
       "\n",
       "</span>\n",
       "with a light microscope . </div>"
      ],
      "text/plain": [
       "<IPython.core.display.HTML object>"
      ]
     },
     "metadata": {},
     "output_type": "display_data"
    },
    {
     "data": {
      "text/html": [
       "<table class=\"dataframe table table-sm table-striped table-light\">\n",
       "  <thead>\n",
       "    <tr style=\"text-align: left;\">\n",
       "      <th>start</th>\n",
       "      <th>end</th>\n",
       "      <th>token_start</th>\n",
       "      <th>token_end</th>\n",
       "      <th>label</th>\n",
       "      <th>id</th>\n",
       "      <th>text</th>\n",
       "      <th>span</th>\n",
       "    </tr>\n",
       "  </thead>\n",
       "  <tbody>\n",
       "    <tr>\n",
       "      <td>3</td>\n",
       "      <td>14</td>\n",
       "      <td>1</td>\n",
       "      <td>1</td>\n",
       "      <td>AAT_ACTIVITY</td>\n",
       "      <td><a href=\"http://vocab.getty.edu/aat/300137546\" target=\"_blank\">http://vocab.getty.edu/aat/300137546</a></td>\n",
       "      <td>investigate</td>\n",
       "      <td><a target='_blank' rel='noopener noreferrer' href='http://vocab.getty.edu/aat/300137546'>investigate</a></td>\n",
       "    </tr>\n",
       "    <tr>\n",
       "      <td>83</td>\n",
       "      <td>91</td>\n",
       "      <td>16</td>\n",
       "      <td>16</td>\n",
       "      <td>AAT_ACTIVITY</td>\n",
       "      <td><a href=\"http://vocab.getty.edu/aat/300054595\" target=\"_blank\">http://vocab.getty.edu/aat/300054595</a></td>\n",
       "      <td>analysed</td>\n",
       "      <td><a target='_blank' rel='noopener noreferrer' href='http://vocab.getty.edu/aat/300054595'>analysed</a></td>\n",
       "    </tr>\n",
       "    <tr>\n",
       "      <td>163</td>\n",
       "      <td>171</td>\n",
       "      <td>30</td>\n",
       "      <td>30</td>\n",
       "      <td>AAT_ACTIVITY</td>\n",
       "      <td><a href=\"http://vocab.getty.edu/aat/300054595\" target=\"_blank\">http://vocab.getty.edu/aat/300054595</a></td>\n",
       "      <td>analysed</td>\n",
       "      <td><a target='_blank' rel='noopener noreferrer' href='http://vocab.getty.edu/aat/300054595'>analysed</a></td>\n",
       "    </tr>\n",
       "  </tbody>\n",
       "</table>"
      ],
      "text/plain": [
       "<IPython.core.display.HTML object>"
      ]
     },
     "metadata": {},
     "output_type": "display_data"
    },
    {
     "data": {
      "text/html": [
       "<hr>"
      ],
      "text/plain": [
       "<IPython.core.display.HTML object>"
      ]
     },
     "metadata": {},
     "output_type": "display_data"
    },
    {
     "data": {
      "text/html": [
       "<h3>[ID: http://www.jstor.org/stable/23631460]</h3>"
      ],
      "text/plain": [
       "<IPython.core.display.HTML object>"
      ]
     },
     "metadata": {},
     "output_type": "display_data"
    },
    {
     "data": {
      "text/html": [
       "<div class=\"spans\" style=\"line-height: 2.5; direction: ltr\">\n",
       "<span style=\"font-weight: bold; display: inline-block; position: relative; height: 60px;\">\n",
       "    Statistical\n",
       "    \n",
       "<span style=\"background: lightsalmon; top: 40px; height: 4px; left: -1px; width: calc(100% + 2px); position: absolute;\">\n",
       "</span>\n",
       "\n",
       "    \n",
       "<span style=\"background: lightsalmon; top: 40px; height: 4px; border-top-left-radius: 3px; border-bottom-left-radius: 3px; left: -1px; width: calc(100% + 2px); position: absolute;\">\n",
       "    <span style=\"background: lightsalmon; z-index: 10; color: #000; top: -0.5em; padding: 2px 3px; position: absolute; font-size: 0.6em; font-weight: bold; line-height: 1; border-radius: 3px\">\n",
       "        AAT_ACTIVITY\n",
       "    </span>\n",
       "</span>\n",
       "\n",
       "\n",
       "</span>\n",
       "\n",
       "<span style=\"font-weight: bold; display: inline-block; position: relative; height: 60px;\">\n",
       "    analysis\n",
       "    \n",
       "<span style=\"background: lightsalmon; top: 40px; height: 4px; left: -1px; width: calc(100% + 2px); position: absolute;\">\n",
       "</span>\n",
       "\n",
       "    \n",
       "</span>\n",
       "A repeated - \n",
       "<span style=\"font-weight: bold; display: inline-block; position: relative; height: 60px;\">\n",
       "    measures\n",
       "    \n",
       "<span style=\"background: lightsalmon; top: 40px; height: 4px; left: -1px; width: calc(100% + 2px); position: absolute;\">\n",
       "</span>\n",
       "\n",
       "    \n",
       "<span style=\"background: lightsalmon; top: 40px; height: 4px; border-top-left-radius: 3px; border-bottom-left-radius: 3px; left: -1px; width: calc(100% + 2px); position: absolute;\">\n",
       "    <span style=\"background: lightsalmon; z-index: 10; color: #000; top: -0.5em; padding: 2px 3px; position: absolute; font-size: 0.6em; font-weight: bold; line-height: 1; border-radius: 3px\">\n",
       "        AAT_ACTIVITY\n",
       "    </span>\n",
       "</span>\n",
       "\n",
       "\n",
       "</span>\n",
       "\n",
       "<span style=\"font-weight: bold; display: inline-block; position: relative; height: 60px;\">\n",
       "    analysis\n",
       "    \n",
       "<span style=\"background: lightsalmon; top: 40px; height: 4px; left: -1px; width: calc(100% + 2px); position: absolute;\">\n",
       "</span>\n",
       "\n",
       "    \n",
       "</span>\n",
       "of variance with two among - subjects factors and one within - subject factor was \n",
       "<span style=\"font-weight: bold; display: inline-block; position: relative; height: 60px;\">\n",
       "    employed\n",
       "    \n",
       "<span style=\"background: lightsalmon; top: 40px; height: 4px; left: -1px; width: calc(100% + 2px); position: absolute;\">\n",
       "</span>\n",
       "\n",
       "    \n",
       "<span style=\"background: lightsalmon; top: 40px; height: 4px; border-top-left-radius: 3px; border-bottom-left-radius: 3px; left: -1px; width: calc(100% + 2px); position: absolute;\">\n",
       "    <span style=\"background: lightsalmon; z-index: 10; color: #000; top: -0.5em; padding: 2px 3px; position: absolute; font-size: 0.6em; font-weight: bold; line-height: 1; border-radius: 3px\">\n",
       "        AAT_ACTIVITY\n",
       "    </span>\n",
       "</span>\n",
       "\n",
       "\n",
       "</span>\n",
       "( Zar 1999 ) . </div>"
      ],
      "text/plain": [
       "<IPython.core.display.HTML object>"
      ]
     },
     "metadata": {},
     "output_type": "display_data"
    },
    {
     "data": {
      "text/html": [
       "<table class=\"dataframe table table-sm table-striped table-light\">\n",
       "  <thead>\n",
       "    <tr style=\"text-align: left;\">\n",
       "      <th>start</th>\n",
       "      <th>end</th>\n",
       "      <th>token_start</th>\n",
       "      <th>token_end</th>\n",
       "      <th>label</th>\n",
       "      <th>id</th>\n",
       "      <th>text</th>\n",
       "      <th>span</th>\n",
       "    </tr>\n",
       "  </thead>\n",
       "  <tbody>\n",
       "    <tr>\n",
       "      <td>0</td>\n",
       "      <td>20</td>\n",
       "      <td>0</td>\n",
       "      <td>1</td>\n",
       "      <td>AAT_ACTIVITY</td>\n",
       "      <td><a href=\"http://vocab.getty.edu/aat/300054595\" target=\"_blank\">http://vocab.getty.edu/aat/300054595</a></td>\n",
       "      <td>Statistical analysis</td>\n",
       "      <td><a target='_blank' rel='noopener noreferrer' href='http://vocab.getty.edu/aat/300054595'>Statistical analysis</a></td>\n",
       "    </tr>\n",
       "    <tr>\n",
       "      <td>34</td>\n",
       "      <td>51</td>\n",
       "      <td>5</td>\n",
       "      <td>6</td>\n",
       "      <td>AAT_ACTIVITY</td>\n",
       "      <td><a href=\"http://vocab.getty.edu/aat/300054595\" target=\"_blank\">http://vocab.getty.edu/aat/300054595</a></td>\n",
       "      <td>measures analysis</td>\n",
       "      <td><a target='_blank' rel='noopener noreferrer' href='http://vocab.getty.edu/aat/300054595'>measures analysis</a></td>\n",
       "    </tr>\n",
       "    <tr>\n",
       "      <td>134</td>\n",
       "      <td>142</td>\n",
       "      <td>22</td>\n",
       "      <td>22</td>\n",
       "      <td>AAT_ACTIVITY</td>\n",
       "      <td><a href=\"http://vocab.getty.edu/aat/300137483\" target=\"_blank\">http://vocab.getty.edu/aat/300137483</a></td>\n",
       "      <td>employed</td>\n",
       "      <td><a target='_blank' rel='noopener noreferrer' href='http://vocab.getty.edu/aat/300137483'>employed</a></td>\n",
       "    </tr>\n",
       "  </tbody>\n",
       "</table>"
      ],
      "text/plain": [
       "<IPython.core.display.HTML object>"
      ]
     },
     "metadata": {},
     "output_type": "display_data"
    },
    {
     "data": {
      "text/html": [
       "<hr>"
      ],
      "text/plain": [
       "<IPython.core.display.HTML object>"
      ]
     },
     "metadata": {},
     "output_type": "display_data"
    },
    {
     "data": {
      "text/html": [
       "<h3>[ID: http://www.jstor.org/stable/24757050]</h3>"
      ],
      "text/plain": [
       "<IPython.core.display.HTML object>"
      ]
     },
     "metadata": {},
     "output_type": "display_data"
    },
    {
     "data": {
      "text/html": [
       "<div class=\"spans\" style=\"line-height: 2.5; direction: ltr\">Those areas that had not been \n",
       "<span style=\"font-weight: bold; display: inline-block; position: relative; height: 60px;\">\n",
       "    plowed\n",
       "    \n",
       "<span style=\"background: lightsalmon; top: 40px; height: 4px; left: -1px; width: calc(100% + 2px); position: absolute;\">\n",
       "</span>\n",
       "\n",
       "    \n",
       "<span style=\"background: lightsalmon; top: 40px; height: 4px; border-top-left-radius: 3px; border-bottom-left-radius: 3px; left: -1px; width: calc(100% + 2px); position: absolute;\">\n",
       "    <span style=\"background: lightsalmon; z-index: 10; color: #000; top: -0.5em; padding: 2px 3px; position: absolute; font-size: 0.6em; font-weight: bold; line-height: 1; border-radius: 3px\">\n",
       "        AAT_ACTIVITY\n",
       "    </span>\n",
       "</span>\n",
       "\n",
       "\n",
       "</span>\n",
       "were used as common lands to graze &quot; numerous herds of domestic animals . &quot; </div>"
      ],
      "text/plain": [
       "<IPython.core.display.HTML object>"
      ]
     },
     "metadata": {},
     "output_type": "display_data"
    },
    {
     "data": {
      "text/html": [
       "<table class=\"dataframe table table-sm table-striped table-light\">\n",
       "  <thead>\n",
       "    <tr style=\"text-align: left;\">\n",
       "      <th>start</th>\n",
       "      <th>end</th>\n",
       "      <th>token_start</th>\n",
       "      <th>token_end</th>\n",
       "      <th>label</th>\n",
       "      <th>id</th>\n",
       "      <th>text</th>\n",
       "      <th>span</th>\n",
       "    </tr>\n",
       "  </thead>\n",
       "  <tbody>\n",
       "    <tr>\n",
       "      <td>30</td>\n",
       "      <td>36</td>\n",
       "      <td>6</td>\n",
       "      <td>6</td>\n",
       "      <td>AAT_ACTIVITY</td>\n",
       "      <td><a href=\"http://vocab.getty.edu/aat/300379805\" target=\"_blank\">http://vocab.getty.edu/aat/300379805</a></td>\n",
       "      <td>plowed</td>\n",
       "      <td><a target='_blank' rel='noopener noreferrer' href='http://vocab.getty.edu/aat/300379805'>plowed</a></td>\n",
       "    </tr>\n",
       "  </tbody>\n",
       "</table>"
      ],
      "text/plain": [
       "<IPython.core.display.HTML object>"
      ]
     },
     "metadata": {},
     "output_type": "display_data"
    },
    {
     "data": {
      "text/html": [
       "<hr>"
      ],
      "text/plain": [
       "<IPython.core.display.HTML object>"
      ]
     },
     "metadata": {},
     "output_type": "display_data"
    },
    {
     "data": {
      "text/html": [
       "<h3>[ID: http://www.jstor.org/stable/40387214]</h3>"
      ],
      "text/plain": [
       "<IPython.core.display.HTML object>"
      ]
     },
     "metadata": {},
     "output_type": "display_data"
    },
    {
     "data": {
      "text/html": [
       "<div class=\"spans\" style=\"line-height: 2.5; direction: ltr\">The main evidence obtained from this research includes ( 1 ) wetland coring data that stratigraphically \n",
       "<span style=\"font-weight: bold; display: inline-block; position: relative; height: 60px;\">\n",
       "    demonstrate\n",
       "    \n",
       "<span style=\"background: lightsalmon; top: 40px; height: 4px; left: -1px; width: calc(100% + 2px); position: absolute;\">\n",
       "</span>\n",
       "\n",
       "    \n",
       "<span style=\"background: lightsalmon; top: 40px; height: 4px; border-top-left-radius: 3px; border-bottom-left-radius: 3px; left: -1px; width: calc(100% + 2px); position: absolute;\">\n",
       "    <span style=\"background: lightsalmon; z-index: 10; color: #000; top: -0.5em; padding: 2px 3px; position: absolute; font-size: 0.6em; font-weight: bold; line-height: 1; border-radius: 3px\">\n",
       "        AAT_ACTIVITY\n",
       "    </span>\n",
       "</span>\n",
       "\n",
       "\n",
       "</span>\n",
       "forest decline before any burning , ( 2 ) \n",
       "<span style=\"font-weight: bold; display: inline-block; position: relative; height: 60px;\">\n",
       "    radiocarbon\n",
       "    \n",
       "<span style=\"background: lightpink; top: 40px; height: 4px; left: -1px; width: calc(100% + 2px); position: absolute;\">\n",
       "</span>\n",
       "\n",
       "    \n",
       "<span style=\"background: lightpink; top: 40px; height: 4px; border-top-left-radius: 3px; border-bottom-left-radius: 3px; left: -1px; width: calc(100% + 2px); position: absolute;\">\n",
       "    <span style=\"background: lightpink; z-index: 10; color: #000; top: -0.5em; padding: 2px 3px; position: absolute; font-size: 0.6em; font-weight: bold; line-height: 1; border-radius: 3px\">\n",
       "        FISH_ARCHSCIENCE\n",
       "    </span>\n",
       "</span>\n",
       "\n",
       "\n",
       "</span>\n",
       "\n",
       "<span style=\"font-weight: bold; display: inline-block; position: relative; height: 60px;\">\n",
       "    dating\n",
       "    \n",
       "<span style=\"background: lightpink; top: 40px; height: 4px; left: -1px; width: calc(100% + 2px); position: absolute;\">\n",
       "</span>\n",
       "\n",
       "    \n",
       "</span>\n",
       "of bones of rats and extinct birds that \n",
       "<span style=\"font-weight: bold; display: inline-block; position: relative; height: 60px;\">\n",
       "    provides\n",
       "    \n",
       "<span style=\"background: lightsalmon; top: 40px; height: 4px; left: -1px; width: calc(100% + 2px); position: absolute;\">\n",
       "</span>\n",
       "\n",
       "    \n",
       "<span style=\"background: lightsalmon; top: 40px; height: 4px; border-top-left-radius: 3px; border-bottom-left-radius: 3px; left: -1px; width: calc(100% + 2px); position: absolute;\">\n",
       "    <span style=\"background: lightsalmon; z-index: 10; color: #000; top: -0.5em; padding: 2px 3px; position: absolute; font-size: 0.6em; font-weight: bold; line-height: 1; border-radius: 3px\">\n",
       "        AAT_ACTIVITY\n",
       "    </span>\n",
       "</span>\n",
       "\n",
       "\n",
       "</span>\n",
       "a time frame for their occurrence unavailable from stratified deposits , and ( 3 ) the radiocarbon - based history of human settlement of the ' Ewa Plain . </div>"
      ],
      "text/plain": [
       "<IPython.core.display.HTML object>"
      ]
     },
     "metadata": {},
     "output_type": "display_data"
    },
    {
     "data": {
      "text/html": [
       "<table class=\"dataframe table table-sm table-striped table-light\">\n",
       "  <thead>\n",
       "    <tr style=\"text-align: left;\">\n",
       "      <th>start</th>\n",
       "      <th>end</th>\n",
       "      <th>token_start</th>\n",
       "      <th>token_end</th>\n",
       "      <th>label</th>\n",
       "      <th>id</th>\n",
       "      <th>text</th>\n",
       "      <th>span</th>\n",
       "    </tr>\n",
       "  </thead>\n",
       "  <tbody>\n",
       "    <tr>\n",
       "      <td>102</td>\n",
       "      <td>113</td>\n",
       "      <td>16</td>\n",
       "      <td>16</td>\n",
       "      <td>AAT_ACTIVITY</td>\n",
       "      <td><a href=\"http://vocab.getty.edu/aat/300262794\" target=\"_blank\">http://vocab.getty.edu/aat/300262794</a></td>\n",
       "      <td>demonstrate</td>\n",
       "      <td><a target='_blank' rel='noopener noreferrer' href='http://vocab.getty.edu/aat/300262794'>demonstrate</a></td>\n",
       "    </tr>\n",
       "    <tr>\n",
       "      <td>153</td>\n",
       "      <td>171</td>\n",
       "      <td>26</td>\n",
       "      <td>27</td>\n",
       "      <td>FISH_ARCHSCIENCE</td>\n",
       "      <td><a href=\"http://purl.org/heritagedata/schemes/560/concepts/142188\" target=\"_blank\">http://purl.org/heritagedata/schemes/560/concepts/142188</a></td>\n",
       "      <td>radiocarbon dating</td>\n",
       "      <td><a target='_blank' rel='noopener noreferrer' href='http://purl.org/heritagedata/schemes/560/concepts/142188'>radiocarbon dating</a></td>\n",
       "    </tr>\n",
       "    <tr>\n",
       "      <td>212</td>\n",
       "      <td>220</td>\n",
       "      <td>36</td>\n",
       "      <td>36</td>\n",
       "      <td>AAT_ACTIVITY</td>\n",
       "      <td><a href=\"http://vocab.getty.edu/aat/300137584\" target=\"_blank\">http://vocab.getty.edu/aat/300137584</a></td>\n",
       "      <td>provides</td>\n",
       "      <td><a target='_blank' rel='noopener noreferrer' href='http://vocab.getty.edu/aat/300137584'>provides</a></td>\n",
       "    </tr>\n",
       "  </tbody>\n",
       "</table>"
      ],
      "text/plain": [
       "<IPython.core.display.HTML object>"
      ]
     },
     "metadata": {},
     "output_type": "display_data"
    },
    {
     "data": {
      "text/html": [
       "<hr>"
      ],
      "text/plain": [
       "<IPython.core.display.HTML object>"
      ]
     },
     "metadata": {},
     "output_type": "display_data"
    },
    {
     "data": {
      "text/html": [
       "<h3>[ID: http://www.jstor.org/stable/43554326]</h3>"
      ],
      "text/plain": [
       "<IPython.core.display.HTML object>"
      ]
     },
     "metadata": {},
     "output_type": "display_data"
    },
    {
     "data": {
      "text/html": [
       "<div class=\"spans\" style=\"line-height: 2.5; direction: ltr\">We then \n",
       "<span style=\"font-weight: bold; display: inline-block; position: relative; height: 60px;\">\n",
       "    assess\n",
       "    \n",
       "<span style=\"background: lightsalmon; top: 40px; height: 4px; left: -1px; width: calc(100% + 2px); position: absolute;\">\n",
       "</span>\n",
       "\n",
       "    \n",
       "<span style=\"background: lightsalmon; top: 40px; height: 4px; border-top-left-radius: 3px; border-bottom-left-radius: 3px; left: -1px; width: calc(100% + 2px); position: absolute;\">\n",
       "    <span style=\"background: lightsalmon; z-index: 10; color: #000; top: -0.5em; padding: 2px 3px; position: absolute; font-size: 0.6em; font-weight: bold; line-height: 1; border-radius: 3px\">\n",
       "        AAT_ACTIVITY\n",
       "    </span>\n",
       "</span>\n",
       "\n",
       "\n",
       "</span>\n",
       "overall vegetation change using the \n",
       "<span style=\"font-weight: bold; display: inline-block; position: relative; height: 60px;\">\n",
       "    squared\n",
       "    \n",
       "<span style=\"background: lightsalmon; top: 40px; height: 4px; left: -1px; width: calc(100% + 2px); position: absolute;\">\n",
       "</span>\n",
       "\n",
       "    \n",
       "<span style=\"background: lightsalmon; top: 40px; height: 4px; border-top-left-radius: 3px; border-bottom-left-radius: 3px; left: -1px; width: calc(100% + 2px); position: absolute;\">\n",
       "    <span style=\"background: lightsalmon; z-index: 10; color: #000; top: -0.5em; padding: 2px 3px; position: absolute; font-size: 0.6em; font-weight: bold; line-height: 1; border-radius: 3px\">\n",
       "        AAT_ACTIVITY\n",
       "    </span>\n",
       "</span>\n",
       "\n",
       "\n",
       "</span>\n",
       "chord distance metric , changes in potential natural vegetation using the biomisation method , and changes in landscape openness by calculating the arboreal pollen PFT percentage . </div>"
      ],
      "text/plain": [
       "<IPython.core.display.HTML object>"
      ]
     },
     "metadata": {},
     "output_type": "display_data"
    },
    {
     "data": {
      "text/html": [
       "<table class=\"dataframe table table-sm table-striped table-light\">\n",
       "  <thead>\n",
       "    <tr style=\"text-align: left;\">\n",
       "      <th>start</th>\n",
       "      <th>end</th>\n",
       "      <th>token_start</th>\n",
       "      <th>token_end</th>\n",
       "      <th>label</th>\n",
       "      <th>id</th>\n",
       "      <th>text</th>\n",
       "      <th>span</th>\n",
       "    </tr>\n",
       "  </thead>\n",
       "  <tbody>\n",
       "    <tr>\n",
       "      <td>8</td>\n",
       "      <td>14</td>\n",
       "      <td>2</td>\n",
       "      <td>2</td>\n",
       "      <td>AAT_ACTIVITY</td>\n",
       "      <td><a href=\"http://vocab.getty.edu/aat/300055545\" target=\"_blank\">http://vocab.getty.edu/aat/300055545</a></td>\n",
       "      <td>assess</td>\n",
       "      <td><a target='_blank' rel='noopener noreferrer' href='http://vocab.getty.edu/aat/300055545'>assess</a></td>\n",
       "    </tr>\n",
       "    <tr>\n",
       "      <td>51</td>\n",
       "      <td>58</td>\n",
       "      <td>8</td>\n",
       "      <td>8</td>\n",
       "      <td>AAT_ACTIVITY</td>\n",
       "      <td><a href=\"http://vocab.getty.edu/aat/300053431\" target=\"_blank\">http://vocab.getty.edu/aat/300053431</a></td>\n",
       "      <td>squared</td>\n",
       "      <td><a target='_blank' rel='noopener noreferrer' href='http://vocab.getty.edu/aat/300053431'>squared</a></td>\n",
       "    </tr>\n",
       "  </tbody>\n",
       "</table>"
      ],
      "text/plain": [
       "<IPython.core.display.HTML object>"
      ]
     },
     "metadata": {},
     "output_type": "display_data"
    },
    {
     "data": {
      "text/html": [
       "<hr>"
      ],
      "text/plain": [
       "<IPython.core.display.HTML object>"
      ]
     },
     "metadata": {},
     "output_type": "display_data"
    },
    {
     "data": {
      "text/html": [
       "<h3>[ID: http://www.jstor.org/stable/42928709]</h3>"
      ],
      "text/plain": [
       "<IPython.core.display.HTML object>"
      ]
     },
     "metadata": {},
     "output_type": "display_data"
    },
    {
     "data": {
      "text/html": [
       "<div class=\"spans\" style=\"line-height: 2.5; direction: ltr\">The results confirmed the suitability of local sediments to \n",
       "<span style=\"font-weight: bold; display: inline-block; position: relative; height: 60px;\">\n",
       "    OSL\n",
       "    \n",
       "<span style=\"background: lightpink; top: 40px; height: 4px; left: -1px; width: calc(100% + 2px); position: absolute;\">\n",
       "</span>\n",
       "\n",
       "    \n",
       "<span style=\"background: lightpink; top: 40px; height: 4px; border-top-left-radius: 3px; border-bottom-left-radius: 3px; left: -1px; width: calc(100% + 2px); position: absolute;\">\n",
       "    <span style=\"background: lightpink; z-index: 10; color: #000; top: -0.5em; padding: 2px 3px; position: absolute; font-size: 0.6em; font-weight: bold; line-height: 1; border-radius: 3px\">\n",
       "        FISH_ARCHSCIENCE\n",
       "    </span>\n",
       "</span>\n",
       "\n",
       "\n",
       "</span>\n",
       "\n",
       "<span style=\"font-weight: bold; display: inline-block; position: relative; height: 60px;\">\n",
       "    dating\n",
       "    \n",
       "<span style=\"background: lightpink; top: 40px; height: 4px; left: -1px; width: calc(100% + 2px); position: absolute;\">\n",
       "</span>\n",
       "\n",
       "    \n",
       "</span>\n",
       "methods , as well as affirming our \n",
       "<span style=\"font-weight: bold; display: inline-block; position: relative; height: 60px;\">\n",
       "    working\n",
       "    \n",
       "<span style=\"background: lightpink; top: 40px; height: 4px; left: -1px; width: calc(100% + 2px); position: absolute;\">\n",
       "</span>\n",
       "\n",
       "    \n",
       "<span style=\"background: lightpink; top: 40px; height: 4px; border-top-left-radius: 3px; border-bottom-left-radius: 3px; left: -1px; width: calc(100% + 2px); position: absolute;\">\n",
       "    <span style=\"background: lightpink; z-index: 10; color: #000; top: -0.5em; padding: 2px 3px; position: absolute; font-size: 0.6em; font-weight: bold; line-height: 1; border-radius: 3px\">\n",
       "        FISH_ARCHSCIENCE\n",
       "    </span>\n",
       "</span>\n",
       "\n",
       "\n",
       "</span>\n",
       "hypothesis that the dams were \n",
       "<span style=\"font-weight: bold; display: inline-block; position: relative; height: 60px;\">\n",
       "    constructed\n",
       "    \n",
       "<span style=\"background: lightsalmon; top: 40px; height: 4px; left: -1px; width: calc(100% + 2px); position: absolute;\">\n",
       "</span>\n",
       "\n",
       "    \n",
       "<span style=\"background: lightsalmon; top: 40px; height: 4px; border-top-left-radius: 3px; border-bottom-left-radius: 3px; left: -1px; width: calc(100% + 2px); position: absolute;\">\n",
       "    <span style=\"background: lightsalmon; z-index: 10; color: #000; top: -0.5em; padding: 2px 3px; position: absolute; font-size: 0.6em; font-weight: bold; line-height: 1; border-radius: 3px\">\n",
       "        AAT_ACTIVITY\n",
       "    </span>\n",
       "</span>\n",
       "\n",
       "\n",
       "</span>\n",
       "- -along with the earliest Buddhist monuments in Central India - -in the late centuries b.c . </div>"
      ],
      "text/plain": [
       "<IPython.core.display.HTML object>"
      ]
     },
     "metadata": {},
     "output_type": "display_data"
    },
    {
     "data": {
      "text/html": [
       "<table class=\"dataframe table table-sm table-striped table-light\">\n",
       "  <thead>\n",
       "    <tr style=\"text-align: left;\">\n",
       "      <th>start</th>\n",
       "      <th>end</th>\n",
       "      <th>token_start</th>\n",
       "      <th>token_end</th>\n",
       "      <th>label</th>\n",
       "      <th>id</th>\n",
       "      <th>text</th>\n",
       "      <th>span</th>\n",
       "    </tr>\n",
       "  </thead>\n",
       "  <tbody>\n",
       "    <tr>\n",
       "      <td>60</td>\n",
       "      <td>70</td>\n",
       "      <td>9</td>\n",
       "      <td>10</td>\n",
       "      <td>FISH_ARCHSCIENCE</td>\n",
       "      <td><a href=\"http://purl.org/heritagedata/schemes/560/concepts/142177\" target=\"_blank\">http://purl.org/heritagedata/schemes/560/concepts/142177</a></td>\n",
       "      <td>OSL dating</td>\n",
       "      <td><a target='_blank' rel='noopener noreferrer' href='http://purl.org/heritagedata/schemes/560/concepts/142177'>OSL dating</a></td>\n",
       "    </tr>\n",
       "    <tr>\n",
       "      <td>105</td>\n",
       "      <td>112</td>\n",
       "      <td>18</td>\n",
       "      <td>18</td>\n",
       "      <td>FISH_ARCHSCIENCE</td>\n",
       "      <td><a href=\"http://purl.org/heritagedata/schemes/560/concepts/142215\" target=\"_blank\">http://purl.org/heritagedata/schemes/560/concepts/142215</a></td>\n",
       "      <td>working</td>\n",
       "      <td><a target='_blank' rel='noopener noreferrer' href='http://purl.org/heritagedata/schemes/560/concepts/142215'>working</a></td>\n",
       "    </tr>\n",
       "    <tr>\n",
       "      <td>143</td>\n",
       "      <td>154</td>\n",
       "      <td>24</td>\n",
       "      <td>24</td>\n",
       "      <td>AAT_ACTIVITY</td>\n",
       "      <td><a href=\"http://vocab.getty.edu/aat/300054608\" target=\"_blank\">http://vocab.getty.edu/aat/300054608</a></td>\n",
       "      <td>constructed</td>\n",
       "      <td><a target='_blank' rel='noopener noreferrer' href='http://vocab.getty.edu/aat/300054608'>constructed</a></td>\n",
       "    </tr>\n",
       "  </tbody>\n",
       "</table>"
      ],
      "text/plain": [
       "<IPython.core.display.HTML object>"
      ]
     },
     "metadata": {},
     "output_type": "display_data"
    },
    {
     "data": {
      "text/html": [
       "<hr>"
      ],
      "text/plain": [
       "<IPython.core.display.HTML object>"
      ]
     },
     "metadata": {},
     "output_type": "display_data"
    },
    {
     "data": {
      "text/html": [
       "<h3>[ID: http://www.jstor.org/stable/20177411]</h3>"
      ],
      "text/plain": [
       "<IPython.core.display.HTML object>"
      ]
     },
     "metadata": {},
     "output_type": "display_data"
    },
    {
     "data": {
      "text/plain": [
       "'One way ANOVA reveals a significant difference in alongshore meiofaunal density between the sampling station fronting the bulkhead at Site 1 and at sampling stations at a similar profile elevation at Sites 2 and 3.'"
      ]
     },
     "metadata": {},
     "output_type": "display_data"
    },
    {
     "data": {
      "text/html": [],
      "text/plain": [
       "<IPython.core.display.HTML object>"
      ]
     },
     "metadata": {},
     "output_type": "display_data"
    },
    {
     "data": {
      "text/html": [
       "<hr>"
      ],
      "text/plain": [
       "<IPython.core.display.HTML object>"
      ]
     },
     "metadata": {},
     "output_type": "display_data"
    },
    {
     "data": {
      "text/html": [
       "<h3>[ID: http://www.jstor.org/stable/25066951]</h3>"
      ],
      "text/plain": [
       "<IPython.core.display.HTML object>"
      ]
     },
     "metadata": {},
     "output_type": "display_data"
    },
    {
     "data": {
      "text/plain": [
       "'A small (one liter) flotation sample was taken from the soil surrounding and inside the skull.'"
      ]
     },
     "metadata": {},
     "output_type": "display_data"
    },
    {
     "data": {
      "text/html": [],
      "text/plain": [
       "<IPython.core.display.HTML object>"
      ]
     },
     "metadata": {},
     "output_type": "display_data"
    },
    {
     "data": {
      "text/html": [
       "<hr>"
      ],
      "text/plain": [
       "<IPython.core.display.HTML object>"
      ]
     },
     "metadata": {},
     "output_type": "display_data"
    },
    {
     "data": {
      "text/html": [
       "<h3>[ID: http://www.jstor.org/stable/25067668]</h3>"
      ],
      "text/plain": [
       "<IPython.core.display.HTML object>"
      ]
     },
     "metadata": {},
     "output_type": "display_data"
    },
    {
     "data": {
      "text/html": [
       "<div class=\"spans\" style=\"line-height: 2.5; direction: ltr\">All pieces were plotted on topographic map to \n",
       "<span style=\"font-weight: bold; display: inline-block; position: relative; height: 60px;\">\n",
       "    record\n",
       "    \n",
       "<span style=\"background: lightsalmon; top: 40px; height: 4px; left: -1px; width: calc(100% + 2px); position: absolute;\">\n",
       "</span>\n",
       "\n",
       "    \n",
       "<span style=\"background: lightsalmon; top: 40px; height: 4px; border-top-left-radius: 3px; border-bottom-left-radius: 3px; left: -1px; width: calc(100% + 2px); position: absolute;\">\n",
       "    <span style=\"background: lightsalmon; z-index: 10; color: #000; top: -0.5em; padding: 2px 3px; position: absolute; font-size: 0.6em; font-weight: bold; line-height: 1; border-radius: 3px\">\n",
       "        AAT_ACTIVITY\n",
       "    </span>\n",
       "</span>\n",
       "\n",
       "\n",
       "</span>\n",
       "all potential information . </div>"
      ],
      "text/plain": [
       "<IPython.core.display.HTML object>"
      ]
     },
     "metadata": {},
     "output_type": "display_data"
    },
    {
     "data": {
      "text/html": [
       "<table class=\"dataframe table table-sm table-striped table-light\">\n",
       "  <thead>\n",
       "    <tr style=\"text-align: left;\">\n",
       "      <th>start</th>\n",
       "      <th>end</th>\n",
       "      <th>token_start</th>\n",
       "      <th>token_end</th>\n",
       "      <th>label</th>\n",
       "      <th>id</th>\n",
       "      <th>text</th>\n",
       "      <th>span</th>\n",
       "    </tr>\n",
       "  </thead>\n",
       "  <tbody>\n",
       "    <tr>\n",
       "      <td>46</td>\n",
       "      <td>52</td>\n",
       "      <td>8</td>\n",
       "      <td>8</td>\n",
       "      <td>AAT_ACTIVITY</td>\n",
       "      <td><a href=\"http://vocab.getty.edu/aat/300077610\" target=\"_blank\">http://vocab.getty.edu/aat/300077610</a></td>\n",
       "      <td>record</td>\n",
       "      <td><a target='_blank' rel='noopener noreferrer' href='http://vocab.getty.edu/aat/300077610'>record</a></td>\n",
       "    </tr>\n",
       "  </tbody>\n",
       "</table>"
      ],
      "text/plain": [
       "<IPython.core.display.HTML object>"
      ]
     },
     "metadata": {},
     "output_type": "display_data"
    },
    {
     "data": {
      "text/html": [
       "<hr>"
      ],
      "text/plain": [
       "<IPython.core.display.HTML object>"
      ]
     },
     "metadata": {},
     "output_type": "display_data"
    },
    {
     "data": {
      "text/html": [
       "<h3>[ID: http://www.jstor.org/stable/40387217]</h3>"
      ],
      "text/plain": [
       "<IPython.core.display.HTML object>"
      ]
     },
     "metadata": {},
     "output_type": "display_data"
    },
    {
     "data": {
      "text/html": [
       "<div class=\"spans\" style=\"line-height: 2.5; direction: ltr\">\n",
       "<span style=\"font-weight: bold; display: inline-block; position: relative; height: 60px;\">\n",
       "    Amino\n",
       "    \n",
       "<span style=\"background: lightpink; top: 40px; height: 4px; left: -1px; width: calc(100% + 2px); position: absolute;\">\n",
       "</span>\n",
       "\n",
       "    \n",
       "<span style=\"background: lightpink; top: 40px; height: 4px; border-top-left-radius: 3px; border-bottom-left-radius: 3px; left: -1px; width: calc(100% + 2px); position: absolute;\">\n",
       "    <span style=\"background: lightpink; z-index: 10; color: #000; top: -0.5em; padding: 2px 3px; position: absolute; font-size: 0.6em; font-weight: bold; line-height: 1; border-radius: 3px\">\n",
       "        FISH_ARCHSCIENCE\n",
       "    </span>\n",
       "</span>\n",
       "\n",
       "\n",
       "</span>\n",
       "\n",
       "<span style=\"font-weight: bold; display: inline-block; position: relative; height: 60px;\">\n",
       "    acid\n",
       "    \n",
       "<span style=\"background: lightpink; top: 40px; height: 4px; left: -1px; width: calc(100% + 2px); position: absolute;\">\n",
       "</span>\n",
       "\n",
       "    \n",
       "</span>\n",
       "\n",
       "<span style=\"font-weight: bold; display: inline-block; position: relative; height: 60px;\">\n",
       "    racemisation\n",
       "    \n",
       "<span style=\"background: lightpink; top: 40px; height: 4px; left: -1px; width: calc(100% + 2px); position: absolute;\">\n",
       "</span>\n",
       "\n",
       "    \n",
       "</span>\n",
       "data paired with the AMS \n",
       "<span style=\"font-weight: bold; display: inline-block; position: relative; height: 60px;\">\n",
       "    dates\n",
       "    \n",
       "<span style=\"background: lightsalmon; top: 40px; height: 4px; left: -1px; width: calc(100% + 2px); position: absolute;\">\n",
       "</span>\n",
       "\n",
       "    \n",
       "<span style=\"background: lightsalmon; top: 40px; height: 4px; border-top-left-radius: 3px; border-bottom-left-radius: 3px; left: -1px; width: calc(100% + 2px); position: absolute;\">\n",
       "    <span style=\"background: lightsalmon; z-index: 10; color: #000; top: -0.5em; padding: 2px 3px; position: absolute; font-size: 0.6em; font-weight: bold; line-height: 1; border-radius: 3px\">\n",
       "        AAT_ACTIVITY\n",
       "    </span>\n",
       "</span>\n",
       "\n",
       "\n",
       "</span>\n",
       ", \n",
       "<span style=\"font-weight: bold; display: inline-block; position: relative; height: 60px;\">\n",
       "    provide\n",
       "    \n",
       "<span style=\"background: lightsalmon; top: 40px; height: 4px; left: -1px; width: calc(100% + 2px); position: absolute;\">\n",
       "</span>\n",
       "\n",
       "    \n",
       "<span style=\"background: lightsalmon; top: 40px; height: 4px; border-top-left-radius: 3px; border-bottom-left-radius: 3px; left: -1px; width: calc(100% + 2px); position: absolute;\">\n",
       "    <span style=\"background: lightsalmon; z-index: 10; color: #000; top: -0.5em; padding: 2px 3px; position: absolute; font-size: 0.6em; font-weight: bold; line-height: 1; border-radius: 3px\">\n",
       "        AAT_ACTIVITY\n",
       "    </span>\n",
       "</span>\n",
       "\n",
       "\n",
       "</span>\n",
       "additional support for the improved chronology . </div>"
      ],
      "text/plain": [
       "<IPython.core.display.HTML object>"
      ]
     },
     "metadata": {},
     "output_type": "display_data"
    },
    {
     "data": {
      "text/html": [
       "<table class=\"dataframe table table-sm table-striped table-light\">\n",
       "  <thead>\n",
       "    <tr style=\"text-align: left;\">\n",
       "      <th>start</th>\n",
       "      <th>end</th>\n",
       "      <th>token_start</th>\n",
       "      <th>token_end</th>\n",
       "      <th>label</th>\n",
       "      <th>id</th>\n",
       "      <th>text</th>\n",
       "      <th>span</th>\n",
       "    </tr>\n",
       "  </thead>\n",
       "  <tbody>\n",
       "    <tr>\n",
       "      <td>0</td>\n",
       "      <td>23</td>\n",
       "      <td>0</td>\n",
       "      <td>2</td>\n",
       "      <td>FISH_ARCHSCIENCE</td>\n",
       "      <td><a href=\"http://purl.org/heritagedata/schemes/560/concepts/142100\" target=\"_blank\">http://purl.org/heritagedata/schemes/560/concepts/142100</a></td>\n",
       "      <td>Amino acid racemisation</td>\n",
       "      <td><a target='_blank' rel='noopener noreferrer' href='http://purl.org/heritagedata/schemes/560/concepts/142100'>Amino acid racemisation</a></td>\n",
       "    </tr>\n",
       "    <tr>\n",
       "      <td>49</td>\n",
       "      <td>54</td>\n",
       "      <td>8</td>\n",
       "      <td>8</td>\n",
       "      <td>AAT_ACTIVITY</td>\n",
       "      <td><a href=\"http://vocab.getty.edu/aat/300404795\" target=\"_blank\">http://vocab.getty.edu/aat/300404795</a></td>\n",
       "      <td>dates</td>\n",
       "      <td><a target='_blank' rel='noopener noreferrer' href='http://vocab.getty.edu/aat/300404795'>dates</a></td>\n",
       "    </tr>\n",
       "    <tr>\n",
       "      <td>56</td>\n",
       "      <td>63</td>\n",
       "      <td>10</td>\n",
       "      <td>10</td>\n",
       "      <td>AAT_ACTIVITY</td>\n",
       "      <td><a href=\"http://vocab.getty.edu/aat/300137584\" target=\"_blank\">http://vocab.getty.edu/aat/300137584</a></td>\n",
       "      <td>provide</td>\n",
       "      <td><a target='_blank' rel='noopener noreferrer' href='http://vocab.getty.edu/aat/300137584'>provide</a></td>\n",
       "    </tr>\n",
       "  </tbody>\n",
       "</table>"
      ],
      "text/plain": [
       "<IPython.core.display.HTML object>"
      ]
     },
     "metadata": {},
     "output_type": "display_data"
    },
    {
     "data": {
      "text/html": [
       "<hr>"
      ],
      "text/plain": [
       "<IPython.core.display.HTML object>"
      ]
     },
     "metadata": {},
     "output_type": "display_data"
    },
    {
     "data": {
      "text/html": [
       "<h3>[ID: http://www.jstor.org/stable/43554340]</h3>"
      ],
      "text/plain": [
       "<IPython.core.display.HTML object>"
      ]
     },
     "metadata": {},
     "output_type": "display_data"
    },
    {
     "data": {
      "text/plain": [
       "'Pollen studies concluded that the pre-human island Rapa Nui was dominated by a now extinct palm, Paschalococos disperta.'"
      ]
     },
     "metadata": {},
     "output_type": "display_data"
    },
    {
     "data": {
      "text/html": [],
      "text/plain": [
       "<IPython.core.display.HTML object>"
      ]
     },
     "metadata": {},
     "output_type": "display_data"
    },
    {
     "data": {
      "text/html": [
       "<hr>"
      ],
      "text/plain": [
       "<IPython.core.display.HTML object>"
      ]
     },
     "metadata": {},
     "output_type": "display_data"
    },
    {
     "data": {
      "text/html": [
       "<h3>[ID: http://www.jstor.org/stable/44988578]</h3>"
      ],
      "text/plain": [
       "<IPython.core.display.HTML object>"
      ]
     },
     "metadata": {},
     "output_type": "display_data"
    },
    {
     "data": {
      "text/html": [
       "<div class=\"spans\" style=\"line-height: 2.5; direction: ltr\">The second hypothesis , which is termed shifting cultivation ( SC ) or slash - and - burn , \n",
       "<span style=\"font-weight: bold; display: inline-block; position: relative; height: 60px;\">\n",
       "    describes\n",
       "    \n",
       "<span style=\"background: lightsalmon; top: 40px; height: 4px; left: -1px; width: calc(100% + 2px); position: absolute;\">\n",
       "</span>\n",
       "\n",
       "    \n",
       "<span style=\"background: lightsalmon; top: 40px; height: 4px; border-top-left-radius: 3px; border-bottom-left-radius: 3px; left: -1px; width: calc(100% + 2px); position: absolute;\">\n",
       "    <span style=\"background: lightsalmon; z-index: 10; color: #000; top: -0.5em; padding: 2px 3px; position: absolute; font-size: 0.6em; font-weight: bold; line-height: 1; border-radius: 3px\">\n",
       "        AAT_ACTIVITY\n",
       "    </span>\n",
       "</span>\n",
       "\n",
       "\n",
       "</span>\n",
       "a system where fields are cultivated for a short period of 1 - 2 years only ( Ehrmann et al . 2009 , 2014 ; Rosch 1990 ; </div>"
      ],
      "text/plain": [
       "<IPython.core.display.HTML object>"
      ]
     },
     "metadata": {},
     "output_type": "display_data"
    },
    {
     "data": {
      "text/html": [
       "<table class=\"dataframe table table-sm table-striped table-light\">\n",
       "  <thead>\n",
       "    <tr style=\"text-align: left;\">\n",
       "      <th>start</th>\n",
       "      <th>end</th>\n",
       "      <th>token_start</th>\n",
       "      <th>token_end</th>\n",
       "      <th>label</th>\n",
       "      <th>id</th>\n",
       "      <th>text</th>\n",
       "      <th>span</th>\n",
       "    </tr>\n",
       "  </thead>\n",
       "  <tbody>\n",
       "    <tr>\n",
       "      <td>88</td>\n",
       "      <td>97</td>\n",
       "      <td>19</td>\n",
       "      <td>19</td>\n",
       "      <td>AAT_ACTIVITY</td>\n",
       "      <td><a href=\"http://vocab.getty.edu/aat/300080091\" target=\"_blank\">http://vocab.getty.edu/aat/300080091</a></td>\n",
       "      <td>describes</td>\n",
       "      <td><a target='_blank' rel='noopener noreferrer' href='http://vocab.getty.edu/aat/300080091'>describes</a></td>\n",
       "    </tr>\n",
       "  </tbody>\n",
       "</table>"
      ],
      "text/plain": [
       "<IPython.core.display.HTML object>"
      ]
     },
     "metadata": {},
     "output_type": "display_data"
    },
    {
     "data": {
      "text/html": [
       "<hr>"
      ],
      "text/plain": [
       "<IPython.core.display.HTML object>"
      ]
     },
     "metadata": {},
     "output_type": "display_data"
    },
    {
     "data": {
      "text/html": [
       "<h3>[ID: http://www.jstor.org/stable/43554377]</h3>"
      ],
      "text/plain": [
       "<IPython.core.display.HTML object>"
      ]
     },
     "metadata": {},
     "output_type": "display_data"
    },
    {
     "data": {
      "text/html": [
       "<div class=\"spans\" style=\"line-height: 2.5; direction: ltr\">Here we used detailed forest inventory data from north - eastern Germany to \n",
       "<span style=\"font-weight: bold; display: inline-block; position: relative; height: 60px;\">\n",
       "    investigate\n",
       "    \n",
       "<span style=\"background: lightsalmon; top: 40px; height: 4px; left: -1px; width: calc(100% + 2px); position: absolute;\">\n",
       "</span>\n",
       "\n",
       "    \n",
       "<span style=\"background: lightsalmon; top: 40px; height: 4px; border-top-left-radius: 3px; border-bottom-left-radius: 3px; left: -1px; width: calc(100% + 2px); position: absolute;\">\n",
       "    <span style=\"background: lightsalmon; z-index: 10; color: #000; top: -0.5em; padding: 2px 3px; position: absolute; font-size: 0.6em; font-weight: bold; line-height: 1; border-radius: 3px\">\n",
       "        AAT_ACTIVITY\n",
       "    </span>\n",
       "</span>\n",
       "\n",
       "\n",
       "</span>\n",
       "the effect of flowering age and understory trees on PPEs . </div>"
      ],
      "text/plain": [
       "<IPython.core.display.HTML object>"
      ]
     },
     "metadata": {},
     "output_type": "display_data"
    },
    {
     "data": {
      "text/html": [
       "<table class=\"dataframe table table-sm table-striped table-light\">\n",
       "  <thead>\n",
       "    <tr style=\"text-align: left;\">\n",
       "      <th>start</th>\n",
       "      <th>end</th>\n",
       "      <th>token_start</th>\n",
       "      <th>token_end</th>\n",
       "      <th>label</th>\n",
       "      <th>id</th>\n",
       "      <th>text</th>\n",
       "      <th>span</th>\n",
       "    </tr>\n",
       "  </thead>\n",
       "  <tbody>\n",
       "    <tr>\n",
       "      <td>76</td>\n",
       "      <td>87</td>\n",
       "      <td>13</td>\n",
       "      <td>13</td>\n",
       "      <td>AAT_ACTIVITY</td>\n",
       "      <td><a href=\"http://vocab.getty.edu/aat/300137546\" target=\"_blank\">http://vocab.getty.edu/aat/300137546</a></td>\n",
       "      <td>investigate</td>\n",
       "      <td><a target='_blank' rel='noopener noreferrer' href='http://vocab.getty.edu/aat/300137546'>investigate</a></td>\n",
       "    </tr>\n",
       "  </tbody>\n",
       "</table>"
      ],
      "text/plain": [
       "<IPython.core.display.HTML object>"
      ]
     },
     "metadata": {},
     "output_type": "display_data"
    },
    {
     "data": {
      "text/html": [
       "<hr>"
      ],
      "text/plain": [
       "<IPython.core.display.HTML object>"
      ]
     },
     "metadata": {},
     "output_type": "display_data"
    },
    {
     "data": {
      "text/html": [
       "<h3>[ID: http://www.jstor.org/stable/4603444]</h3>"
      ],
      "text/plain": [
       "<IPython.core.display.HTML object>"
      ]
     },
     "metadata": {},
     "output_type": "display_data"
    },
    {
     "data": {
      "text/html": [
       "<div class=\"spans\" style=\"line-height: 2.5; direction: ltr\">In this instance , contemporary measurements of soil materials from the upper horizons of the profiles \n",
       "<span style=\"font-weight: bold; display: inline-block; position: relative; height: 60px;\">\n",
       "    examined\n",
       "    \n",
       "<span style=\"background: lightsalmon; top: 40px; height: 4px; left: -1px; width: calc(100% + 2px); position: absolute;\">\n",
       "</span>\n",
       "\n",
       "    \n",
       "<span style=\"background: lightsalmon; top: 40px; height: 4px; border-top-left-radius: 3px; border-bottom-left-radius: 3px; left: -1px; width: calc(100% + 2px); position: absolute;\">\n",
       "    <span style=\"background: lightsalmon; z-index: 10; color: #000; top: -0.5em; padding: 2px 3px; position: absolute; font-size: 0.6em; font-weight: bold; line-height: 1; border-radius: 3px\">\n",
       "        AAT_ACTIVITY\n",
       "    </span>\n",
       "</span>\n",
       "\n",
       "\n",
       "</span>\n",
       "have been used . </div>"
      ],
      "text/plain": [
       "<IPython.core.display.HTML object>"
      ]
     },
     "metadata": {},
     "output_type": "display_data"
    },
    {
     "data": {
      "text/html": [
       "<table class=\"dataframe table table-sm table-striped table-light\">\n",
       "  <thead>\n",
       "    <tr style=\"text-align: left;\">\n",
       "      <th>start</th>\n",
       "      <th>end</th>\n",
       "      <th>token_start</th>\n",
       "      <th>token_end</th>\n",
       "      <th>label</th>\n",
       "      <th>id</th>\n",
       "      <th>text</th>\n",
       "      <th>span</th>\n",
       "    </tr>\n",
       "  </thead>\n",
       "  <tbody>\n",
       "    <tr>\n",
       "      <td>102</td>\n",
       "      <td>110</td>\n",
       "      <td>16</td>\n",
       "      <td>16</td>\n",
       "      <td>AAT_ACTIVITY</td>\n",
       "      <td><a href=\"http://vocab.getty.edu/aat/300226216\" target=\"_blank\">http://vocab.getty.edu/aat/300226216</a></td>\n",
       "      <td>examined</td>\n",
       "      <td><a target='_blank' rel='noopener noreferrer' href='http://vocab.getty.edu/aat/300226216'>examined</a></td>\n",
       "    </tr>\n",
       "  </tbody>\n",
       "</table>"
      ],
      "text/plain": [
       "<IPython.core.display.HTML object>"
      ]
     },
     "metadata": {},
     "output_type": "display_data"
    },
    {
     "data": {
      "text/html": [
       "<hr>"
      ],
      "text/plain": [
       "<IPython.core.display.HTML object>"
      ]
     },
     "metadata": {},
     "output_type": "display_data"
    },
    {
     "data": {
      "text/html": [
       "<h3>[ID: http://www.jstor.org/stable/43554211]</h3>"
      ],
      "text/plain": [
       "<IPython.core.display.HTML object>"
      ]
     },
     "metadata": {},
     "output_type": "display_data"
    },
    {
     "data": {
      "text/html": [
       "<div class=\"spans\" style=\"line-height: 2.5; direction: ltr\">The palaeoecological reconstruction is based on the results of high - resolution plant \n",
       "<span style=\"font-weight: bold; display: inline-block; position: relative; height: 60px;\">\n",
       "    macrofossil\n",
       "    \n",
       "<span style=\"background: lightsalmon; top: 40px; height: 4px; left: -1px; width: calc(100% + 2px); position: absolute;\">\n",
       "</span>\n",
       "\n",
       "    \n",
       "<span style=\"background: lightsalmon; top: 40px; height: 4px; border-top-left-radius: 3px; border-bottom-left-radius: 3px; left: -1px; width: calc(100% + 2px); position: absolute;\">\n",
       "    <span style=\"background: lightsalmon; z-index: 10; color: #000; top: -0.5em; padding: 2px 3px; position: absolute; font-size: 0.6em; font-weight: bold; line-height: 1; border-radius: 3px\">\n",
       "        AAT_ACTIVITY\n",
       "    </span>\n",
       "</span>\n",
       "\n",
       "\n",
       "</span>\n",
       "\n",
       "<span style=\"font-weight: bold; display: inline-block; position: relative; height: 60px;\">\n",
       "    analyses\n",
       "    \n",
       "<span style=\"background: lightsalmon; top: 40px; height: 4px; left: -1px; width: calc(100% + 2px); position: absolute;\">\n",
       "</span>\n",
       "\n",
       "    \n",
       "</span>\n",
       "as well as records from pollen , Cladocera and \n",
       "<span style=\"font-weight: bold; display: inline-block; position: relative; height: 60px;\">\n",
       "    radiocarbon\n",
       "    \n",
       "<span style=\"background: lightpink; top: 40px; height: 4px; left: -1px; width: calc(100% + 2px); position: absolute;\">\n",
       "</span>\n",
       "\n",
       "    \n",
       "<span style=\"background: lightpink; top: 40px; height: 4px; border-top-left-radius: 3px; border-bottom-left-radius: 3px; left: -1px; width: calc(100% + 2px); position: absolute;\">\n",
       "    <span style=\"background: lightpink; z-index: 10; color: #000; top: -0.5em; padding: 2px 3px; position: absolute; font-size: 0.6em; font-weight: bold; line-height: 1; border-radius: 3px\">\n",
       "        FISH_ARCHSCIENCE\n",
       "    </span>\n",
       "</span>\n",
       "\n",
       "\n",
       "</span>\n",
       "\n",
       "<span style=\"font-weight: bold; display: inline-block; position: relative; height: 60px;\">\n",
       "    dating\n",
       "    \n",
       "<span style=\"background: lightpink; top: 40px; height: 4px; left: -1px; width: calc(100% + 2px); position: absolute;\">\n",
       "</span>\n",
       "\n",
       "    \n",
       "</span>\n",
       ". </div>"
      ],
      "text/plain": [
       "<IPython.core.display.HTML object>"
      ]
     },
     "metadata": {},
     "output_type": "display_data"
    },
    {
     "data": {
      "text/html": [
       "<table class=\"dataframe table table-sm table-striped table-light\">\n",
       "  <thead>\n",
       "    <tr style=\"text-align: left;\">\n",
       "      <th>start</th>\n",
       "      <th>end</th>\n",
       "      <th>token_start</th>\n",
       "      <th>token_end</th>\n",
       "      <th>label</th>\n",
       "      <th>id</th>\n",
       "      <th>text</th>\n",
       "      <th>span</th>\n",
       "    </tr>\n",
       "  </thead>\n",
       "  <tbody>\n",
       "    <tr>\n",
       "      <td>87</td>\n",
       "      <td>107</td>\n",
       "      <td>13</td>\n",
       "      <td>14</td>\n",
       "      <td>AAT_ACTIVITY</td>\n",
       "      <td><a href=\"http://vocab.getty.edu/aat/300054595\" target=\"_blank\">http://vocab.getty.edu/aat/300054595</a></td>\n",
       "      <td>macrofossil analyses</td>\n",
       "      <td><a target='_blank' rel='noopener noreferrer' href='http://vocab.getty.edu/aat/300054595'>macrofossil analyses</a></td>\n",
       "    </tr>\n",
       "    <tr>\n",
       "      <td>154</td>\n",
       "      <td>172</td>\n",
       "      <td>24</td>\n",
       "      <td>25</td>\n",
       "      <td>FISH_ARCHSCIENCE</td>\n",
       "      <td><a href=\"http://purl.org/heritagedata/schemes/560/concepts/142188\" target=\"_blank\">http://purl.org/heritagedata/schemes/560/concepts/142188</a></td>\n",
       "      <td>radiocarbon dating</td>\n",
       "      <td><a target='_blank' rel='noopener noreferrer' href='http://purl.org/heritagedata/schemes/560/concepts/142188'>radiocarbon dating</a></td>\n",
       "    </tr>\n",
       "  </tbody>\n",
       "</table>"
      ],
      "text/plain": [
       "<IPython.core.display.HTML object>"
      ]
     },
     "metadata": {},
     "output_type": "display_data"
    },
    {
     "data": {
      "text/html": [
       "<hr>"
      ],
      "text/plain": [
       "<IPython.core.display.HTML object>"
      ]
     },
     "metadata": {},
     "output_type": "display_data"
    },
    {
     "data": {
      "text/html": [
       "<h3>[ID: http://www.jstor.org/stable/4603360]</h3>"
      ],
      "text/plain": [
       "<IPython.core.display.HTML object>"
      ]
     },
     "metadata": {},
     "output_type": "display_data"
    },
    {
     "data": {
      "text/html": [
       "<div class=\"spans\" style=\"line-height: 2.5; direction: ltr\">Two time periods were \n",
       "<span style=\"font-weight: bold; display: inline-block; position: relative; height: 60px;\">\n",
       "    studied\n",
       "    \n",
       "<span style=\"background: lightsalmon; top: 40px; height: 4px; left: -1px; width: calc(100% + 2px); position: absolute;\">\n",
       "</span>\n",
       "\n",
       "    \n",
       "<span style=\"background: lightsalmon; top: 40px; height: 4px; border-top-left-radius: 3px; border-bottom-left-radius: 3px; left: -1px; width: calc(100% + 2px); position: absolute;\">\n",
       "    <span style=\"background: lightsalmon; z-index: 10; color: #000; top: -0.5em; padding: 2px 3px; position: absolute; font-size: 0.6em; font-weight: bold; line-height: 1; border-radius: 3px\">\n",
       "        AAT_ACTIVITY\n",
       "    </span>\n",
       "</span>\n",
       "\n",
       "\n",
       "</span>\n",
       ": 1946 - 1960 , for which the most complete ethnographic data and complete climatic data were available ; and a period of 250 years , with climatic data rewound and repeated several times to \n",
       "<span style=\"font-weight: bold; display: inline-block; position: relative; height: 60px;\">\n",
       "    simulate\n",
       "    \n",
       "<span style=\"background: lightsalmon; top: 40px; height: 4px; left: -1px; width: calc(100% + 2px); position: absolute;\">\n",
       "</span>\n",
       "\n",
       "    \n",
       "<span style=\"background: lightsalmon; top: 40px; height: 4px; border-top-left-radius: 3px; border-bottom-left-radius: 3px; left: -1px; width: calc(100% + 2px); position: absolute;\">\n",
       "    <span style=\"background: lightsalmon; z-index: 10; color: #000; top: -0.5em; padding: 2px 3px; position: absolute; font-size: 0.6em; font-weight: bold; line-height: 1; border-radius: 3px\">\n",
       "        AAT_ACTIVITY\n",
       "    </span>\n",
       "</span>\n",
       "\n",
       "\n",
       "</span>\n",
       "shortterm variations . </div>"
      ],
      "text/plain": [
       "<IPython.core.display.HTML object>"
      ]
     },
     "metadata": {},
     "output_type": "display_data"
    },
    {
     "data": {
      "text/html": [
       "<table class=\"dataframe table table-sm table-striped table-light\">\n",
       "  <thead>\n",
       "    <tr style=\"text-align: left;\">\n",
       "      <th>start</th>\n",
       "      <th>end</th>\n",
       "      <th>token_start</th>\n",
       "      <th>token_end</th>\n",
       "      <th>label</th>\n",
       "      <th>id</th>\n",
       "      <th>text</th>\n",
       "      <th>span</th>\n",
       "    </tr>\n",
       "  </thead>\n",
       "  <tbody>\n",
       "    <tr>\n",
       "      <td>22</td>\n",
       "      <td>29</td>\n",
       "      <td>4</td>\n",
       "      <td>4</td>\n",
       "      <td>AAT_ACTIVITY</td>\n",
       "      <td><a href=\"http://vocab.getty.edu/aat/300343813\" target=\"_blank\">http://vocab.getty.edu/aat/300343813</a></td>\n",
       "      <td>studied</td>\n",
       "      <td><a target='_blank' rel='noopener noreferrer' href='http://vocab.getty.edu/aat/300343813'>studied</a></td>\n",
       "    </tr>\n",
       "    <tr>\n",
       "      <td>217</td>\n",
       "      <td>225</td>\n",
       "      <td>40</td>\n",
       "      <td>40</td>\n",
       "      <td>AAT_ACTIVITY</td>\n",
       "      <td><a href=\"http://vocab.getty.edu/aat/300237969\" target=\"_blank\">http://vocab.getty.edu/aat/300237969</a></td>\n",
       "      <td>simulate</td>\n",
       "      <td><a target='_blank' rel='noopener noreferrer' href='http://vocab.getty.edu/aat/300237969'>simulate</a></td>\n",
       "    </tr>\n",
       "  </tbody>\n",
       "</table>"
      ],
      "text/plain": [
       "<IPython.core.display.HTML object>"
      ]
     },
     "metadata": {},
     "output_type": "display_data"
    },
    {
     "data": {
      "text/html": [
       "<hr>"
      ],
      "text/plain": [
       "<IPython.core.display.HTML object>"
      ]
     },
     "metadata": {},
     "output_type": "display_data"
    },
    {
     "data": {
      "text/html": [
       "<h3>[ID: http://www.jstor.org/stable/971755]</h3>"
      ],
      "text/plain": [
       "<IPython.core.display.HTML object>"
      ]
     },
     "metadata": {},
     "output_type": "display_data"
    },
    {
     "data": {
      "text/html": [
       "<div class=\"spans\" style=\"line-height: 2.5; direction: ltr\">Two different fractions - ( 1 ) the reacidified undissolved residue and ( 2 ) a fraction reprecipitated from the base wash with 6N HC1were independently \n",
       "<span style=\"font-weight: bold; display: inline-block; position: relative; height: 60px;\">\n",
       "    washed\n",
       "    \n",
       "<span style=\"background: lightsalmon; top: 40px; height: 4px; left: -1px; width: calc(100% + 2px); position: absolute;\">\n",
       "</span>\n",
       "\n",
       "    \n",
       "<span style=\"background: lightsalmon; top: 40px; height: 4px; border-top-left-radius: 3px; border-bottom-left-radius: 3px; left: -1px; width: calc(100% + 2px); position: absolute;\">\n",
       "    <span style=\"background: lightsalmon; z-index: 10; color: #000; top: -0.5em; padding: 2px 3px; position: absolute; font-size: 0.6em; font-weight: bold; line-height: 1; border-radius: 3px\">\n",
       "        AAT_ACTIVITY\n",
       "    </span>\n",
       "</span>\n",
       "\n",
       "\n",
       "</span>\n",
       ", \n",
       "<span style=\"font-weight: bold; display: inline-block; position: relative; height: 60px;\">\n",
       "    dried\n",
       "    \n",
       "<span style=\"background: lightsalmon; top: 40px; height: 4px; left: -1px; width: calc(100% + 2px); position: absolute;\">\n",
       "</span>\n",
       "\n",
       "    \n",
       "<span style=\"background: lightsalmon; top: 40px; height: 4px; border-top-left-radius: 3px; border-bottom-left-radius: 3px; left: -1px; width: calc(100% + 2px); position: absolute;\">\n",
       "    <span style=\"background: lightsalmon; z-index: 10; color: #000; top: -0.5em; padding: 2px 3px; position: absolute; font-size: 0.6em; font-weight: bold; line-height: 1; border-radius: 3px\">\n",
       "        AAT_ACTIVITY\n",
       "    </span>\n",
       "</span>\n",
       "\n",
       "\n",
       "</span>\n",
       ", combusted , converted to graphite and \n",
       "<span style=\"font-weight: bold; display: inline-block; position: relative; height: 60px;\">\n",
       "    assayed\n",
       "    \n",
       "<span style=\"background: lightsalmon; top: 40px; height: 4px; left: -1px; width: calc(100% + 2px); position: absolute;\">\n",
       "</span>\n",
       "\n",
       "    \n",
       "<span style=\"background: lightsalmon; top: 40px; height: 4px; border-top-left-radius: 3px; border-bottom-left-radius: 3px; left: -1px; width: calc(100% + 2px); position: absolute;\">\n",
       "    <span style=\"background: lightsalmon; z-index: 10; color: #000; top: -0.5em; padding: 2px 3px; position: absolute; font-size: 0.6em; font-weight: bold; line-height: 1; border-radius: 3px\">\n",
       "        AAT_ACTIVITY\n",
       "    </span>\n",
       "</span>\n",
       "\n",
       "\n",
       "</span>\n",
       "for l4C using standard AMS techniques ( CAMS 46574 and 46575 ) . </div>"
      ],
      "text/plain": [
       "<IPython.core.display.HTML object>"
      ]
     },
     "metadata": {},
     "output_type": "display_data"
    },
    {
     "data": {
      "text/html": [
       "<table class=\"dataframe table table-sm table-striped table-light\">\n",
       "  <thead>\n",
       "    <tr style=\"text-align: left;\">\n",
       "      <th>start</th>\n",
       "      <th>end</th>\n",
       "      <th>token_start</th>\n",
       "      <th>token_end</th>\n",
       "      <th>label</th>\n",
       "      <th>id</th>\n",
       "      <th>text</th>\n",
       "      <th>span</th>\n",
       "    </tr>\n",
       "  </thead>\n",
       "  <tbody>\n",
       "    <tr>\n",
       "      <td>149</td>\n",
       "      <td>155</td>\n",
       "      <td>26</td>\n",
       "      <td>26</td>\n",
       "      <td>AAT_ACTIVITY</td>\n",
       "      <td><a href=\"http://vocab.getty.edu/aat/300182748\" target=\"_blank\">http://vocab.getty.edu/aat/300182748</a></td>\n",
       "      <td>washed</td>\n",
       "      <td><a target='_blank' rel='noopener noreferrer' href='http://vocab.getty.edu/aat/300182748'>washed</a></td>\n",
       "    </tr>\n",
       "    <tr>\n",
       "      <td>157</td>\n",
       "      <td>162</td>\n",
       "      <td>28</td>\n",
       "      <td>28</td>\n",
       "      <td>AAT_ACTIVITY</td>\n",
       "      <td><a href=\"http://vocab.getty.edu/aat/300053758\" target=\"_blank\">http://vocab.getty.edu/aat/300053758</a></td>\n",
       "      <td>dried</td>\n",
       "      <td><a target='_blank' rel='noopener noreferrer' href='http://vocab.getty.edu/aat/300053758'>dried</a></td>\n",
       "    </tr>\n",
       "    <tr>\n",
       "      <td>201</td>\n",
       "      <td>208</td>\n",
       "      <td>36</td>\n",
       "      <td>36</td>\n",
       "      <td>AAT_ACTIVITY</td>\n",
       "      <td><a href=\"http://vocab.getty.edu/aat/300194584\" target=\"_blank\">http://vocab.getty.edu/aat/300194584</a></td>\n",
       "      <td>assayed</td>\n",
       "      <td><a target='_blank' rel='noopener noreferrer' href='http://vocab.getty.edu/aat/300194584'>assayed</a></td>\n",
       "    </tr>\n",
       "  </tbody>\n",
       "</table>"
      ],
      "text/plain": [
       "<IPython.core.display.HTML object>"
      ]
     },
     "metadata": {},
     "output_type": "display_data"
    },
    {
     "data": {
      "text/html": [
       "<hr>"
      ],
      "text/plain": [
       "<IPython.core.display.HTML object>"
      ]
     },
     "metadata": {},
     "output_type": "display_data"
    },
    {
     "data": {
      "text/html": [
       "<h3>[ID: http://www.jstor.org/stable/4603597]</h3>"
      ],
      "text/plain": [
       "<IPython.core.display.HTML object>"
      ]
     },
     "metadata": {},
     "output_type": "display_data"
    },
    {
     "data": {
      "text/html": [
       "<div class=\"spans\" style=\"line-height: 2.5; direction: ltr\">The reconstructed vegetation maps , \n",
       "<span style=\"font-weight: bold; display: inline-block; position: relative; height: 60px;\">\n",
       "    showing\n",
       "    \n",
       "<span style=\"background: lightsalmon; top: 40px; height: 4px; left: -1px; width: calc(100% + 2px); position: absolute;\">\n",
       "</span>\n",
       "\n",
       "    \n",
       "<span style=\"background: lightsalmon; top: 40px; height: 4px; border-top-left-radius: 3px; border-bottom-left-radius: 3px; left: -1px; width: calc(100% + 2px); position: absolute;\">\n",
       "    <span style=\"background: lightsalmon; z-index: 10; color: #000; top: -0.5em; padding: 2px 3px; position: absolute; font-size: 0.6em; font-weight: bold; line-height: 1; border-radius: 3px\">\n",
       "        AAT_ACTIVITY\n",
       "    </span>\n",
       "</span>\n",
       "\n",
       "\n",
       "</span>\n",
       "mosaics of grassland and heathland covering much of the rangelands with rocky outcrops and mountain plateaus only sparsely vegetated , were superimposed on digital terrain models and divided by a fishnet of 5 ha cells at Leirvik and Hov , and 25 ha cells over the larger Sandur grazing area , individually covering the rangelands for \n",
       "<span style=\"font-weight: bold; display: inline-block; position: relative; height: 60px;\">\n",
       "    model\n",
       "    \n",
       "<span style=\"background: lightsalmon; top: 40px; height: 4px; left: -1px; width: calc(100% + 2px); position: absolute;\">\n",
       "</span>\n",
       "\n",
       "    \n",
       "<span style=\"background: lightsalmon; top: 40px; height: 4px; border-top-left-radius: 3px; border-bottom-left-radius: 3px; left: -1px; width: calc(100% + 2px); position: absolute;\">\n",
       "    <span style=\"background: lightsalmon; z-index: 10; color: #000; top: -0.5em; padding: 2px 3px; position: absolute; font-size: 0.6em; font-weight: bold; line-height: 1; border-radius: 3px\">\n",
       "        AAT_ACTIVITY\n",
       "    </span>\n",
       "</span>\n",
       "\n",
       "\n",
       "</span>\n",
       "\n",
       "<span style=\"font-weight: bold; display: inline-block; position: relative; height: 60px;\">\n",
       "    analyses\n",
       "    \n",
       "<span style=\"background: lightsalmon; top: 40px; height: 4px; left: -1px; width: calc(100% + 2px); position: absolute;\">\n",
       "</span>\n",
       "\n",
       "    \n",
       "</span>\n",
       ". </div>"
      ],
      "text/plain": [
       "<IPython.core.display.HTML object>"
      ]
     },
     "metadata": {},
     "output_type": "display_data"
    },
    {
     "data": {
      "text/html": [
       "<table class=\"dataframe table table-sm table-striped table-light\">\n",
       "  <thead>\n",
       "    <tr style=\"text-align: left;\">\n",
       "      <th>start</th>\n",
       "      <th>end</th>\n",
       "      <th>token_start</th>\n",
       "      <th>token_end</th>\n",
       "      <th>label</th>\n",
       "      <th>id</th>\n",
       "      <th>text</th>\n",
       "      <th>span</th>\n",
       "    </tr>\n",
       "  </thead>\n",
       "  <tbody>\n",
       "    <tr>\n",
       "      <td>35</td>\n",
       "      <td>42</td>\n",
       "      <td>5</td>\n",
       "      <td>5</td>\n",
       "      <td>AAT_ACTIVITY</td>\n",
       "      <td><a href=\"http://vocab.getty.edu/aat/300404521\" target=\"_blank\">http://vocab.getty.edu/aat/300404521</a></td>\n",
       "      <td>showing</td>\n",
       "      <td><a target='_blank' rel='noopener noreferrer' href='http://vocab.getty.edu/aat/300404521'>showing</a></td>\n",
       "    </tr>\n",
       "    <tr>\n",
       "      <td>374</td>\n",
       "      <td>388</td>\n",
       "      <td>62</td>\n",
       "      <td>63</td>\n",
       "      <td>AAT_ACTIVITY</td>\n",
       "      <td><a href=\"http://vocab.getty.edu/aat/300054595\" target=\"_blank\">http://vocab.getty.edu/aat/300054595</a></td>\n",
       "      <td>model analyses</td>\n",
       "      <td><a target='_blank' rel='noopener noreferrer' href='http://vocab.getty.edu/aat/300054595'>model analyses</a></td>\n",
       "    </tr>\n",
       "  </tbody>\n",
       "</table>"
      ],
      "text/plain": [
       "<IPython.core.display.HTML object>"
      ]
     },
     "metadata": {},
     "output_type": "display_data"
    },
    {
     "data": {
      "text/html": [
       "<hr>"
      ],
      "text/plain": [
       "<IPython.core.display.HTML object>"
      ]
     },
     "metadata": {},
     "output_type": "display_data"
    },
    {
     "data": {
      "text/html": [
       "<h3>[ID: http://www.jstor.org/stable/40387368]</h3>"
      ],
      "text/plain": [
       "<IPython.core.display.HTML object>"
      ]
     },
     "metadata": {},
     "output_type": "display_data"
    },
    {
     "data": {
      "text/plain": [
       "'The 17 radiocarbon determinations from the Pulemelei mound site were used to generate a local prehistoric sequence for the Letolo area.'"
      ]
     },
     "metadata": {},
     "output_type": "display_data"
    },
    {
     "data": {
      "text/html": [],
      "text/plain": [
       "<IPython.core.display.HTML object>"
      ]
     },
     "metadata": {},
     "output_type": "display_data"
    },
    {
     "data": {
      "text/html": [
       "<hr>"
      ],
      "text/plain": [
       "<IPython.core.display.HTML object>"
      ]
     },
     "metadata": {},
     "output_type": "display_data"
    },
    {
     "data": {
      "text/html": [
       "<h3>[ID: http://www.jstor.org/stable/27917454]</h3>"
      ],
      "text/plain": [
       "<IPython.core.display.HTML object>"
      ]
     },
     "metadata": {},
     "output_type": "display_data"
    },
    {
     "data": {
      "text/html": [
       "<div class=\"spans\" style=\"line-height: 2.5; direction: ltr\">\n",
       "<span style=\"font-weight: bold; display: inline-block; position: relative; height: 60px;\">\n",
       "    Radiocarbon\n",
       "    \n",
       "<span style=\"background: lightpink; top: 40px; height: 4px; left: -1px; width: calc(100% + 2px); position: absolute;\">\n",
       "</span>\n",
       "\n",
       "    \n",
       "<span style=\"background: lightpink; top: 40px; height: 4px; border-top-left-radius: 3px; border-bottom-left-radius: 3px; left: -1px; width: calc(100% + 2px); position: absolute;\">\n",
       "    <span style=\"background: lightpink; z-index: 10; color: #000; top: -0.5em; padding: 2px 3px; position: absolute; font-size: 0.6em; font-weight: bold; line-height: 1; border-radius: 3px\">\n",
       "        FISH_ARCHSCIENCE\n",
       "    </span>\n",
       "</span>\n",
       "\n",
       "\n",
       "</span>\n",
       "\n",
       "<span style=\"font-weight: bold; display: inline-block; position: relative; height: 60px;\">\n",
       "    dates\n",
       "    \n",
       "<span style=\"background: lightpink; top: 40px; height: 4px; left: -1px; width: calc(100% + 2px); position: absolute;\">\n",
       "</span>\n",
       "\n",
       "    \n",
       "</span>\n",
       "and \n",
       "<span style=\"font-weight: bold; display: inline-block; position: relative; height: 60px;\">\n",
       "    pollen\n",
       "    \n",
       "<span style=\"background: lightsalmon; top: 40px; height: 4px; left: -1px; width: calc(100% + 2px); position: absolute;\">\n",
       "</span>\n",
       "\n",
       "    \n",
       "<span style=\"background: lightsalmon; top: 40px; height: 4px; border-top-left-radius: 3px; border-bottom-left-radius: 3px; left: -1px; width: calc(100% + 2px); position: absolute;\">\n",
       "    <span style=\"background: lightsalmon; z-index: 10; color: #000; top: -0.5em; padding: 2px 3px; position: absolute; font-size: 0.6em; font-weight: bold; line-height: 1; border-radius: 3px\">\n",
       "        AAT_ACTIVITY\n",
       "    </span>\n",
       "</span>\n",
       "\n",
       "\n",
       "</span>\n",
       "\n",
       "<span style=\"font-weight: bold; display: inline-block; position: relative; height: 60px;\">\n",
       "    analysis\n",
       "    \n",
       "<span style=\"background: lightsalmon; top: 40px; height: 4px; left: -1px; width: calc(100% + 2px); position: absolute;\">\n",
       "</span>\n",
       "\n",
       "    \n",
       "</span>\n",
       "of deposits overlying the ford combine to indicate a date for its construction no later than the early first millennium cal BC . </div>"
      ],
      "text/plain": [
       "<IPython.core.display.HTML object>"
      ]
     },
     "metadata": {},
     "output_type": "display_data"
    },
    {
     "data": {
      "text/html": [
       "<table class=\"dataframe table table-sm table-striped table-light\">\n",
       "  <thead>\n",
       "    <tr style=\"text-align: left;\">\n",
       "      <th>start</th>\n",
       "      <th>end</th>\n",
       "      <th>token_start</th>\n",
       "      <th>token_end</th>\n",
       "      <th>label</th>\n",
       "      <th>id</th>\n",
       "      <th>text</th>\n",
       "      <th>span</th>\n",
       "    </tr>\n",
       "  </thead>\n",
       "  <tbody>\n",
       "    <tr>\n",
       "      <td>0</td>\n",
       "      <td>17</td>\n",
       "      <td>0</td>\n",
       "      <td>1</td>\n",
       "      <td>FISH_ARCHSCIENCE</td>\n",
       "      <td><a href=\"http://purl.org/heritagedata/schemes/560/concepts/142188\" target=\"_blank\">http://purl.org/heritagedata/schemes/560/concepts/142188</a></td>\n",
       "      <td>Radiocarbon dates</td>\n",
       "      <td><a target='_blank' rel='noopener noreferrer' href='http://purl.org/heritagedata/schemes/560/concepts/142188'>Radiocarbon dates</a></td>\n",
       "    </tr>\n",
       "    <tr>\n",
       "      <td>22</td>\n",
       "      <td>37</td>\n",
       "      <td>3</td>\n",
       "      <td>4</td>\n",
       "      <td>AAT_ACTIVITY</td>\n",
       "      <td><a href=\"http://vocab.getty.edu/aat/300054595\" target=\"_blank\">http://vocab.getty.edu/aat/300054595</a></td>\n",
       "      <td>pollen analysis</td>\n",
       "      <td><a target='_blank' rel='noopener noreferrer' href='http://vocab.getty.edu/aat/300054595'>pollen analysis</a></td>\n",
       "    </tr>\n",
       "  </tbody>\n",
       "</table>"
      ],
      "text/plain": [
       "<IPython.core.display.HTML object>"
      ]
     },
     "metadata": {},
     "output_type": "display_data"
    },
    {
     "data": {
      "text/html": [
       "<hr>"
      ],
      "text/plain": [
       "<IPython.core.display.HTML object>"
      ]
     },
     "metadata": {},
     "output_type": "display_data"
    },
    {
     "data": {
      "text/html": [
       "<h3>[ID: http://www.jstor.org/stable/41496802]</h3>"
      ],
      "text/plain": [
       "<IPython.core.display.HTML object>"
      ]
     },
     "metadata": {},
     "output_type": "display_data"
    },
    {
     "data": {
      "text/html": [
       "<div class=\"spans\" style=\"line-height: 2.5; direction: ltr\">\n",
       "<span style=\"font-weight: bold; display: inline-block; position: relative; height: 60px;\">\n",
       "    Spatial\n",
       "    \n",
       "<span style=\"background: lightsalmon; top: 40px; height: 4px; left: -1px; width: calc(100% + 2px); position: absolute;\">\n",
       "</span>\n",
       "\n",
       "    \n",
       "<span style=\"background: lightsalmon; top: 40px; height: 4px; border-top-left-radius: 3px; border-bottom-left-radius: 3px; left: -1px; width: calc(100% + 2px); position: absolute;\">\n",
       "    <span style=\"background: lightsalmon; z-index: 10; color: #000; top: -0.5em; padding: 2px 3px; position: absolute; font-size: 0.6em; font-weight: bold; line-height: 1; border-radius: 3px\">\n",
       "        AAT_ACTIVITY\n",
       "    </span>\n",
       "</span>\n",
       "\n",
       "\n",
       "</span>\n",
       "\n",
       "<span style=\"font-weight: bold; display: inline-block; position: relative; height: 60px;\">\n",
       "    analysis\n",
       "    \n",
       "<span style=\"background: lightsalmon; top: 40px; height: 4px; left: -1px; width: calc(100% + 2px); position: absolute;\">\n",
       "</span>\n",
       "\n",
       "    \n",
       "</span>\n",
       "of bone waste distribution has revealed , inter alia , that attitudes towards discarded rubbish appear not to have changed between the Early Natufian and PPNA and imply that discard patterns are related to dwelling - based living , but without the social order conferred by life in a village . </div>"
      ],
      "text/plain": [
       "<IPython.core.display.HTML object>"
      ]
     },
     "metadata": {},
     "output_type": "display_data"
    },
    {
     "data": {
      "text/html": [
       "<table class=\"dataframe table table-sm table-striped table-light\">\n",
       "  <thead>\n",
       "    <tr style=\"text-align: left;\">\n",
       "      <th>start</th>\n",
       "      <th>end</th>\n",
       "      <th>token_start</th>\n",
       "      <th>token_end</th>\n",
       "      <th>label</th>\n",
       "      <th>id</th>\n",
       "      <th>text</th>\n",
       "      <th>span</th>\n",
       "    </tr>\n",
       "  </thead>\n",
       "  <tbody>\n",
       "    <tr>\n",
       "      <td>0</td>\n",
       "      <td>16</td>\n",
       "      <td>0</td>\n",
       "      <td>1</td>\n",
       "      <td>AAT_ACTIVITY</td>\n",
       "      <td><a href=\"http://vocab.getty.edu/aat/300223990\" target=\"_blank\">http://vocab.getty.edu/aat/300223990</a></td>\n",
       "      <td>Spatial analysis</td>\n",
       "      <td><a target='_blank' rel='noopener noreferrer' href='http://vocab.getty.edu/aat/300223990'>Spatial analysis</a></td>\n",
       "    </tr>\n",
       "  </tbody>\n",
       "</table>"
      ],
      "text/plain": [
       "<IPython.core.display.HTML object>"
      ]
     },
     "metadata": {},
     "output_type": "display_data"
    },
    {
     "data": {
      "text/html": [
       "<hr>"
      ],
      "text/plain": [
       "<IPython.core.display.HTML object>"
      ]
     },
     "metadata": {},
     "output_type": "display_data"
    },
    {
     "data": {
      "text/html": [
       "<h3>[ID: http://www.jstor.org/stable/41620291]</h3>"
      ],
      "text/plain": [
       "<IPython.core.display.HTML object>"
      ]
     },
     "metadata": {},
     "output_type": "display_data"
    },
    {
     "data": {
      "text/html": [
       "<div class=\"spans\" style=\"line-height: 2.5; direction: ltr\">We \n",
       "<span style=\"font-weight: bold; display: inline-block; position: relative; height: 60px;\">\n",
       "    report\n",
       "    \n",
       "<span style=\"background: lightsalmon; top: 40px; height: 4px; left: -1px; width: calc(100% + 2px); position: absolute;\">\n",
       "</span>\n",
       "\n",
       "    \n",
       "<span style=\"background: lightsalmon; top: 40px; height: 4px; border-top-left-radius: 3px; border-bottom-left-radius: 3px; left: -1px; width: calc(100% + 2px); position: absolute;\">\n",
       "    <span style=\"background: lightsalmon; z-index: 10; color: #000; top: -0.5em; padding: 2px 3px; position: absolute; font-size: 0.6em; font-weight: bold; line-height: 1; border-radius: 3px\">\n",
       "        AAT_ACTIVITY\n",
       "    </span>\n",
       "</span>\n",
       "\n",
       "\n",
       "</span>\n",
       "the results of a \n",
       "<span style=\"font-weight: bold; display: inline-block; position: relative; height: 60px;\">\n",
       "    petrographie\n",
       "    \n",
       "<span style=\"background: lightsalmon; top: 40px; height: 4px; left: -1px; width: calc(100% + 2px); position: absolute;\">\n",
       "</span>\n",
       "\n",
       "    \n",
       "<span style=\"background: lightsalmon; top: 40px; height: 4px; border-top-left-radius: 3px; border-bottom-left-radius: 3px; left: -1px; width: calc(100% + 2px); position: absolute;\">\n",
       "    <span style=\"background: lightsalmon; z-index: 10; color: #000; top: -0.5em; padding: 2px 3px; position: absolute; font-size: 0.6em; font-weight: bold; line-height: 1; border-radius: 3px\">\n",
       "        AAT_ACTIVITY\n",
       "    </span>\n",
       "</span>\n",
       "\n",
       "\n",
       "</span>\n",
       "\n",
       "<span style=\"font-weight: bold; display: inline-block; position: relative; height: 60px;\">\n",
       "    analysis\n",
       "    \n",
       "<span style=\"background: lightsalmon; top: 40px; height: 4px; left: -1px; width: calc(100% + 2px); position: absolute;\">\n",
       "</span>\n",
       "\n",
       "    \n",
       "</span>\n",
       "of pottery from Kolomoki , a Middle and Late Woodland period mound and village complex in southwestern Georgia . </div>"
      ],
      "text/plain": [
       "<IPython.core.display.HTML object>"
      ]
     },
     "metadata": {},
     "output_type": "display_data"
    },
    {
     "data": {
      "text/html": [
       "<table class=\"dataframe table table-sm table-striped table-light\">\n",
       "  <thead>\n",
       "    <tr style=\"text-align: left;\">\n",
       "      <th>start</th>\n",
       "      <th>end</th>\n",
       "      <th>token_start</th>\n",
       "      <th>token_end</th>\n",
       "      <th>label</th>\n",
       "      <th>id</th>\n",
       "      <th>text</th>\n",
       "      <th>span</th>\n",
       "    </tr>\n",
       "  </thead>\n",
       "  <tbody>\n",
       "    <tr>\n",
       "      <td>3</td>\n",
       "      <td>9</td>\n",
       "      <td>1</td>\n",
       "      <td>1</td>\n",
       "      <td>AAT_ACTIVITY</td>\n",
       "      <td><a href=\"http://vocab.getty.edu/aat/300137552\" target=\"_blank\">http://vocab.getty.edu/aat/300137552</a></td>\n",
       "      <td>report</td>\n",
       "      <td><a target='_blank' rel='noopener noreferrer' href='http://vocab.getty.edu/aat/300137552'>report</a></td>\n",
       "    </tr>\n",
       "    <tr>\n",
       "      <td>27</td>\n",
       "      <td>48</td>\n",
       "      <td>6</td>\n",
       "      <td>7</td>\n",
       "      <td>AAT_ACTIVITY</td>\n",
       "      <td><a href=\"http://vocab.getty.edu/aat/300054595\" target=\"_blank\">http://vocab.getty.edu/aat/300054595</a></td>\n",
       "      <td>petrographie analysis</td>\n",
       "      <td><a target='_blank' rel='noopener noreferrer' href='http://vocab.getty.edu/aat/300054595'>petrographie analysis</a></td>\n",
       "    </tr>\n",
       "  </tbody>\n",
       "</table>"
      ],
      "text/plain": [
       "<IPython.core.display.HTML object>"
      ]
     },
     "metadata": {},
     "output_type": "display_data"
    },
    {
     "data": {
      "text/html": [
       "<hr>"
      ],
      "text/plain": [
       "<IPython.core.display.HTML object>"
      ]
     },
     "metadata": {},
     "output_type": "display_data"
    },
    {
     "data": {
      "text/html": [
       "<h3>[ID: http://www.jstor.org/stable/27821531]</h3>"
      ],
      "text/plain": [
       "<IPython.core.display.HTML object>"
      ]
     },
     "metadata": {},
     "output_type": "display_data"
    },
    {
     "data": {
      "text/plain": [
       "'A series of AMS 14C dates indicate that most of the ochres and all pieces of facetted ochre were deposited between 1200 and 1400 years ago.'"
      ]
     },
     "metadata": {},
     "output_type": "display_data"
    },
    {
     "data": {
      "text/html": [],
      "text/plain": [
       "<IPython.core.display.HTML object>"
      ]
     },
     "metadata": {},
     "output_type": "display_data"
    },
    {
     "data": {
      "text/html": [
       "<hr>"
      ],
      "text/plain": [
       "<IPython.core.display.HTML object>"
      ]
     },
     "metadata": {},
     "output_type": "display_data"
    },
    {
     "data": {
      "text/html": [
       "<h3>[ID: http://www.jstor.org/stable/27821531]</h3>"
      ],
      "text/plain": [
       "<IPython.core.display.HTML object>"
      ]
     },
     "metadata": {},
     "output_type": "display_data"
    },
    {
     "data": {
      "text/html": [
       "<div class=\"spans\" style=\"line-height: 2.5; direction: ltr\">Furthermore , measure ments of xylem RWC carried out over several years in areas where understorey shrubs had been \n",
       "<span style=\"font-weight: bold; display: inline-block; position: relative; height: 60px;\">\n",
       "    removed\n",
       "    \n",
       "<span style=\"background: lightsalmon; top: 40px; height: 4px; left: -1px; width: calc(100% + 2px); position: absolute;\">\n",
       "</span>\n",
       "\n",
       "    \n",
       "<span style=\"background: lightsalmon; top: 40px; height: 4px; border-top-left-radius: 3px; border-bottom-left-radius: 3px; left: -1px; width: calc(100% + 2px); position: absolute;\">\n",
       "    <span style=\"background: lightsalmon; z-index: 10; color: #000; top: -0.5em; padding: 2px 3px; position: absolute; font-size: 0.6em; font-weight: bold; line-height: 1; border-radius: 3px\">\n",
       "        AAT_ACTIVITY\n",
       "    </span>\n",
       "</span>\n",
       "\n",
       "\n",
       "</span>\n",
       "and the tree stand was thinned , to \n",
       "<span style=\"font-weight: bold; display: inline-block; position: relative; height: 60px;\">\n",
       "    reduce\n",
       "    \n",
       "<span style=\"background: lightsalmon; top: 40px; height: 4px; left: -1px; width: calc(100% + 2px); position: absolute;\">\n",
       "</span>\n",
       "\n",
       "    \n",
       "<span style=\"background: lightsalmon; top: 40px; height: 4px; border-top-left-radius: 3px; border-bottom-left-radius: 3px; left: -1px; width: calc(100% + 2px); position: absolute;\">\n",
       "    <span style=\"background: lightsalmon; z-index: 10; color: #000; top: -0.5em; padding: 2px 3px; position: absolute; font-size: 0.6em; font-weight: bold; line-height: 1; border-radius: 3px\">\n",
       "        AAT_ACTIVITY\n",
       "    </span>\n",
       "</span>\n",
       "\n",
       "\n",
       "</span>\n",
       "competi tion for water , have confirmed the presence of lower rates of embolism \n",
       "<span style=\"font-weight: bold; display: inline-block; position: relative; height: 60px;\">\n",
       "    compared\n",
       "    \n",
       "<span style=\"background: lightsalmon; top: 40px; height: 4px; left: -1px; width: calc(100% + 2px); position: absolute;\">\n",
       "</span>\n",
       "\n",
       "    \n",
       "<span style=\"background: lightsalmon; top: 40px; height: 4px; border-top-left-radius: 3px; border-bottom-left-radius: 3px; left: -1px; width: calc(100% + 2px); position: absolute;\">\n",
       "    <span style=\"background: lightsalmon; z-index: 10; color: #000; top: -0.5em; padding: 2px 3px; position: absolute; font-size: 0.6em; font-weight: bold; line-height: 1; border-radius: 3px\">\n",
       "        AAT_ACTIVITY\n",
       "    </span>\n",
       "</span>\n",
       "\n",
       "\n",
       "</span>\n",
       "to unthinned areas ( De Capua and Mencuccini 1993 ; Gandolfo and Piussi 1996 ) . </div>"
      ],
      "text/plain": [
       "<IPython.core.display.HTML object>"
      ]
     },
     "metadata": {},
     "output_type": "display_data"
    },
    {
     "data": {
      "text/html": [
       "<table class=\"dataframe table table-sm table-striped table-light\">\n",
       "  <thead>\n",
       "    <tr style=\"text-align: left;\">\n",
       "      <th>start</th>\n",
       "      <th>end</th>\n",
       "      <th>token_start</th>\n",
       "      <th>token_end</th>\n",
       "      <th>label</th>\n",
       "      <th>id</th>\n",
       "      <th>text</th>\n",
       "      <th>span</th>\n",
       "    </tr>\n",
       "  </thead>\n",
       "  <tbody>\n",
       "    <tr>\n",
       "      <td>114</td>\n",
       "      <td>121</td>\n",
       "      <td>19</td>\n",
       "      <td>19</td>\n",
       "      <td>AAT_ACTIVITY</td>\n",
       "      <td><a href=\"http://vocab.getty.edu/aat/300224146\" target=\"_blank\">http://vocab.getty.edu/aat/300224146</a></td>\n",
       "      <td>removed</td>\n",
       "      <td><a target='_blank' rel='noopener noreferrer' href='http://vocab.getty.edu/aat/300224146'>removed</a></td>\n",
       "    </tr>\n",
       "    <tr>\n",
       "      <td>157</td>\n",
       "      <td>163</td>\n",
       "      <td>28</td>\n",
       "      <td>28</td>\n",
       "      <td>AAT_ACTIVITY</td>\n",
       "      <td><a href=\"http://vocab.getty.edu/aat/300053564\" target=\"_blank\">http://vocab.getty.edu/aat/300053564</a></td>\n",
       "      <td>reduce</td>\n",
       "      <td><a target='_blank' rel='noopener noreferrer' href='http://vocab.getty.edu/aat/300053564'>reduce</a></td>\n",
       "    </tr>\n",
       "    <tr>\n",
       "      <td>243</td>\n",
       "      <td>251</td>\n",
       "      <td>43</td>\n",
       "      <td>43</td>\n",
       "      <td>AAT_ACTIVITY</td>\n",
       "      <td><a href=\"http://vocab.getty.edu/aat/300077124\" target=\"_blank\">http://vocab.getty.edu/aat/300077124</a></td>\n",
       "      <td>compared</td>\n",
       "      <td><a target='_blank' rel='noopener noreferrer' href='http://vocab.getty.edu/aat/300077124'>compared</a></td>\n",
       "    </tr>\n",
       "  </tbody>\n",
       "</table>"
      ],
      "text/plain": [
       "<IPython.core.display.HTML object>"
      ]
     },
     "metadata": {},
     "output_type": "display_data"
    },
    {
     "data": {
      "text/html": [
       "<hr>"
      ],
      "text/plain": [
       "<IPython.core.display.HTML object>"
      ]
     },
     "metadata": {},
     "output_type": "display_data"
    },
    {
     "data": {
      "text/html": [
       "<h3>[ID: http://www.jstor.org/stable/25067649]</h3>"
      ],
      "text/plain": [
       "<IPython.core.display.HTML object>"
      ]
     },
     "metadata": {},
     "output_type": "display_data"
    },
    {
     "data": {
      "text/plain": [
       "'Background In 1997, we conducted exca vations on the banks of Ain Soda, a pool in the marshland of the Azraq Oasis in eastern Jordan, along the shore of what was once a large Pleistocene lake.'"
      ]
     },
     "metadata": {},
     "output_type": "display_data"
    },
    {
     "data": {
      "text/html": [],
      "text/plain": [
       "<IPython.core.display.HTML object>"
      ]
     },
     "metadata": {},
     "output_type": "display_data"
    },
    {
     "data": {
      "text/html": [
       "<hr>"
      ],
      "text/plain": [
       "<IPython.core.display.HTML object>"
      ]
     },
     "metadata": {},
     "output_type": "display_data"
    },
    {
     "data": {
      "text/html": [
       "<h3>[ID: http://www.jstor.org/stable/43916758]</h3>"
      ],
      "text/plain": [
       "<IPython.core.display.HTML object>"
      ]
     },
     "metadata": {},
     "output_type": "display_data"
    },
    {
     "data": {
      "text/html": [
       "<div class=\"spans\" style=\"line-height: 2.5; direction: ltr\">A compilation of existing data including \n",
       "<span style=\"font-weight: bold; display: inline-block; position: relative; height: 60px;\">\n",
       "    principal\n",
       "    \n",
       "<span style=\"background: lightsalmon; top: 40px; height: 4px; left: -1px; width: calc(100% + 2px); position: absolute;\">\n",
       "</span>\n",
       "\n",
       "    \n",
       "<span style=\"background: lightsalmon; top: 40px; height: 4px; border-top-left-radius: 3px; border-bottom-left-radius: 3px; left: -1px; width: calc(100% + 2px); position: absolute;\">\n",
       "    <span style=\"background: lightsalmon; z-index: 10; color: #000; top: -0.5em; padding: 2px 3px; position: absolute; font-size: 0.6em; font-weight: bold; line-height: 1; border-radius: 3px\">\n",
       "        AAT_ACTIVITY\n",
       "    </span>\n",
       "</span>\n",
       "\n",
       "\n",
       "</span>\n",
       "\n",
       "<span style=\"font-weight: bold; display: inline-block; position: relative; height: 60px;\">\n",
       "    component\n",
       "    \n",
       "<span style=\"background: lightsalmon; top: 40px; height: 4px; left: -1px; width: calc(100% + 2px); position: absolute;\">\n",
       "</span>\n",
       "\n",
       "    \n",
       "</span>\n",
       "\n",
       "<span style=\"font-weight: bold; display: inline-block; position: relative; height: 60px;\">\n",
       "    analysis\n",
       "    \n",
       "<span style=\"background: lightsalmon; top: 40px; height: 4px; left: -1px; width: calc(100% + 2px); position: absolute;\">\n",
       "</span>\n",
       "\n",
       "    \n",
       "</span>\n",
       "of pollen suggested broad trends , ranging from variably arid and \n",
       "<span style=\"font-weight: bold; display: inline-block; position: relative; height: 60px;\">\n",
       "    open\n",
       "    \n",
       "<span style=\"background: lightsalmon; top: 40px; height: 4px; left: -1px; width: calc(100% + 2px); position: absolute;\">\n",
       "</span>\n",
       "\n",
       "    \n",
       "<span style=\"background: lightsalmon; top: 40px; height: 4px; border-top-left-radius: 3px; border-bottom-left-radius: 3px; left: -1px; width: calc(100% + 2px); position: absolute;\">\n",
       "    <span style=\"background: lightsalmon; z-index: 10; color: #000; top: -0.5em; padding: 2px 3px; position: absolute; font-size: 0.6em; font-weight: bold; line-height: 1; border-radius: 3px\">\n",
       "        AAT_ACTIVITY\n",
       "    </span>\n",
       "</span>\n",
       "\n",
       "\n",
       "</span>\n",
       "in the early Holocene to moister conditions from about 7500 to 5000 years , followed by aridity thereafter . </div>"
      ],
      "text/plain": [
       "<IPython.core.display.HTML object>"
      ]
     },
     "metadata": {},
     "output_type": "display_data"
    },
    {
     "data": {
      "text/html": [
       "<table class=\"dataframe table table-sm table-striped table-light\">\n",
       "  <thead>\n",
       "    <tr style=\"text-align: left;\">\n",
       "      <th>start</th>\n",
       "      <th>end</th>\n",
       "      <th>token_start</th>\n",
       "      <th>token_end</th>\n",
       "      <th>label</th>\n",
       "      <th>id</th>\n",
       "      <th>text</th>\n",
       "      <th>span</th>\n",
       "    </tr>\n",
       "  </thead>\n",
       "  <tbody>\n",
       "    <tr>\n",
       "      <td>41</td>\n",
       "      <td>69</td>\n",
       "      <td>6</td>\n",
       "      <td>8</td>\n",
       "      <td>AAT_ACTIVITY</td>\n",
       "      <td><a href=\"http://vocab.getty.edu/aat/300379555\" target=\"_blank\">http://vocab.getty.edu/aat/300379555</a></td>\n",
       "      <td>principal component analysis</td>\n",
       "      <td><a target='_blank' rel='noopener noreferrer' href='http://vocab.getty.edu/aat/300379555'>principal component analysis</a></td>\n",
       "    </tr>\n",
       "    <tr>\n",
       "      <td>135</td>\n",
       "      <td>139</td>\n",
       "      <td>20</td>\n",
       "      <td>20</td>\n",
       "      <td>AAT_ACTIVITY</td>\n",
       "      <td><a href=\"http://vocab.getty.edu/aat/300054769\" target=\"_blank\">http://vocab.getty.edu/aat/300054769</a></td>\n",
       "      <td>open</td>\n",
       "      <td><a target='_blank' rel='noopener noreferrer' href='http://vocab.getty.edu/aat/300054769'>open</a></td>\n",
       "    </tr>\n",
       "  </tbody>\n",
       "</table>"
      ],
      "text/plain": [
       "<IPython.core.display.HTML object>"
      ]
     },
     "metadata": {},
     "output_type": "display_data"
    },
    {
     "data": {
      "text/html": [
       "<hr>"
      ],
      "text/plain": [
       "<IPython.core.display.HTML object>"
      ]
     },
     "metadata": {},
     "output_type": "display_data"
    },
    {
     "data": {
      "text/html": [
       "<h3>[ID: http://www.jstor.org/stable/43554200]</h3>"
      ],
      "text/plain": [
       "<IPython.core.display.HTML object>"
      ]
     },
     "metadata": {},
     "output_type": "display_data"
    },
    {
     "data": {
      "text/html": [
       "<div class=\"spans\" style=\"line-height: 2.5; direction: ltr\">A Perspex ( r ) tube and piston was used to \n",
       "<span style=\"font-weight: bold; display: inline-block; position: relative; height: 60px;\">\n",
       "    collect\n",
       "    \n",
       "<span style=\"background: lightsalmon; top: 40px; height: 4px; left: -1px; width: calc(100% + 2px); position: absolute;\">\n",
       "</span>\n",
       "\n",
       "    \n",
       "<span style=\"background: lightsalmon; top: 40px; height: 4px; border-top-left-radius: 3px; border-bottom-left-radius: 3px; left: -1px; width: calc(100% + 2px); position: absolute;\">\n",
       "    <span style=\"background: lightsalmon; z-index: 10; color: #000; top: -0.5em; padding: 2px 3px; position: absolute; font-size: 0.6em; font-weight: bold; line-height: 1; border-radius: 3px\">\n",
       "        AAT_ACTIVITY\n",
       "    </span>\n",
       "</span>\n",
       "\n",
       "\n",
       "</span>\n",
       "the uppermost unconsolidated sediments below the sediment - water interface . </div>"
      ],
      "text/plain": [
       "<IPython.core.display.HTML object>"
      ]
     },
     "metadata": {},
     "output_type": "display_data"
    },
    {
     "data": {
      "text/html": [
       "<table class=\"dataframe table table-sm table-striped table-light\">\n",
       "  <thead>\n",
       "    <tr style=\"text-align: left;\">\n",
       "      <th>start</th>\n",
       "      <th>end</th>\n",
       "      <th>token_start</th>\n",
       "      <th>token_end</th>\n",
       "      <th>label</th>\n",
       "      <th>id</th>\n",
       "      <th>text</th>\n",
       "      <th>span</th>\n",
       "    </tr>\n",
       "  </thead>\n",
       "  <tbody>\n",
       "    <tr>\n",
       "      <td>42</td>\n",
       "      <td>49</td>\n",
       "      <td>11</td>\n",
       "      <td>11</td>\n",
       "      <td>AAT_ACTIVITY</td>\n",
       "      <td><a href=\"http://vocab.getty.edu/aat/300077121\" target=\"_blank\">http://vocab.getty.edu/aat/300077121</a></td>\n",
       "      <td>collect</td>\n",
       "      <td><a target='_blank' rel='noopener noreferrer' href='http://vocab.getty.edu/aat/300077121'>collect</a></td>\n",
       "    </tr>\n",
       "  </tbody>\n",
       "</table>"
      ],
      "text/plain": [
       "<IPython.core.display.HTML object>"
      ]
     },
     "metadata": {},
     "output_type": "display_data"
    },
    {
     "data": {
      "text/html": [
       "<hr>"
      ],
      "text/plain": [
       "<IPython.core.display.HTML object>"
      ]
     },
     "metadata": {},
     "output_type": "display_data"
    },
    {
     "data": {
      "text/html": [
       "<h3>[ID: http://www.jstor.org/stable/4603595]</h3>"
      ],
      "text/plain": [
       "<IPython.core.display.HTML object>"
      ]
     },
     "metadata": {},
     "output_type": "display_data"
    },
    {
     "data": {
      "text/html": [
       "<div class=\"spans\" style=\"line-height: 2.5; direction: ltr\">Contexts are \n",
       "<span style=\"font-weight: bold; display: inline-block; position: relative; height: 60px;\">\n",
       "    listed\n",
       "    \n",
       "<span style=\"background: lightsalmon; top: 40px; height: 4px; left: -1px; width: calc(100% + 2px); position: absolute;\">\n",
       "</span>\n",
       "\n",
       "    \n",
       "<span style=\"background: lightsalmon; top: 40px; height: 4px; border-top-left-radius: 3px; border-bottom-left-radius: 3px; left: -1px; width: calc(100% + 2px); position: absolute;\">\n",
       "    <span style=\"background: lightsalmon; z-index: 10; color: #000; top: -0.5em; padding: 2px 3px; position: absolute; font-size: 0.6em; font-weight: bold; line-height: 1; border-radius: 3px\">\n",
       "        AAT_ACTIVITY\n",
       "    </span>\n",
       "</span>\n",
       "\n",
       "\n",
       "</span>\n",
       "in Table II . 694 Vickers , Bending , Buckland , Edwards , Hansen , and Cook \n",
       "<span style=\"font-weight: bold; display: inline-block; position: relative; height: 60px;\">\n",
       "    Radiocarbon\n",
       "    \n",
       "<span style=\"background: lightpink; top: 40px; height: 4px; left: -1px; width: calc(100% + 2px); position: absolute;\">\n",
       "</span>\n",
       "\n",
       "    \n",
       "<span style=\"background: lightpink; top: 40px; height: 4px; border-top-left-radius: 3px; border-bottom-left-radius: 3px; left: -1px; width: calc(100% + 2px); position: absolute;\">\n",
       "    <span style=\"background: lightpink; z-index: 10; color: #000; top: -0.5em; padding: 2px 3px; position: absolute; font-size: 0.6em; font-weight: bold; line-height: 1; border-radius: 3px\">\n",
       "        FISH_ARCHSCIENCE\n",
       "    </span>\n",
       "</span>\n",
       "\n",
       "\n",
       "</span>\n",
       "\n",
       "<span style=\"font-weight: bold; display: inline-block; position: relative; height: 60px;\">\n",
       "    Dating\n",
       "    \n",
       "<span style=\"background: lightpink; top: 40px; height: 4px; left: -1px; width: calc(100% + 2px); position: absolute;\">\n",
       "</span>\n",
       "\n",
       "    \n",
       "</span>\n",
       "Six new AMS ( \n",
       "<span style=\"font-weight: bold; display: inline-block; position: relative; height: 60px;\">\n",
       "    accelerator\n",
       "    \n",
       "<span style=\"background: lightsalmon; top: 40px; height: 4px; left: -1px; width: calc(100% + 2px); position: absolute;\">\n",
       "</span>\n",
       "\n",
       "    \n",
       "<span style=\"background: lightsalmon; top: 40px; height: 4px; border-top-left-radius: 3px; border-bottom-left-radius: 3px; left: -1px; width: calc(100% + 2px); position: absolute;\">\n",
       "    <span style=\"background: lightsalmon; z-index: 10; color: #000; top: -0.5em; padding: 2px 3px; position: absolute; font-size: 0.6em; font-weight: bold; line-height: 1; border-radius: 3px\">\n",
       "        AAT_ACTIVITY\n",
       "    </span>\n",
       "</span>\n",
       "\n",
       "\n",
       "</span>\n",
       "\n",
       "<span style=\"font-weight: bold; display: inline-block; position: relative; height: 60px;\">\n",
       "    mass\n",
       "    \n",
       "<span style=\"background: lightsalmon; top: 40px; height: 4px; left: -1px; width: calc(100% + 2px); position: absolute;\">\n",
       "</span>\n",
       "\n",
       "    \n",
       "</span>\n",
       "\n",
       "<span style=\"font-weight: bold; display: inline-block; position: relative; height: 60px;\">\n",
       "    spectrometry\n",
       "    \n",
       "<span style=\"background: lightsalmon; top: 40px; height: 4px; left: -1px; width: calc(100% + 2px); position: absolute;\">\n",
       "</span>\n",
       "\n",
       "    \n",
       "</span>\n",
       ") radioacarbon ( 14C ) age measurements were obtained from material retrieved from site materials . </div>"
      ],
      "text/plain": [
       "<IPython.core.display.HTML object>"
      ]
     },
     "metadata": {},
     "output_type": "display_data"
    },
    {
     "data": {
      "text/html": [
       "<table class=\"dataframe table table-sm table-striped table-light\">\n",
       "  <thead>\n",
       "    <tr style=\"text-align: left;\">\n",
       "      <th>start</th>\n",
       "      <th>end</th>\n",
       "      <th>token_start</th>\n",
       "      <th>token_end</th>\n",
       "      <th>label</th>\n",
       "      <th>id</th>\n",
       "      <th>text</th>\n",
       "      <th>span</th>\n",
       "    </tr>\n",
       "  </thead>\n",
       "  <tbody>\n",
       "    <tr>\n",
       "      <td>13</td>\n",
       "      <td>19</td>\n",
       "      <td>2</td>\n",
       "      <td>2</td>\n",
       "      <td>AAT_ACTIVITY</td>\n",
       "      <td><a href=\"http://vocab.getty.edu/aat/300077506\" target=\"_blank\">http://vocab.getty.edu/aat/300077506</a></td>\n",
       "      <td>listed</td>\n",
       "      <td><a target='_blank' rel='noopener noreferrer' href='http://vocab.getty.edu/aat/300077506'>listed</a></td>\n",
       "    </tr>\n",
       "    <tr>\n",
       "      <td>91</td>\n",
       "      <td>109</td>\n",
       "      <td>20</td>\n",
       "      <td>21</td>\n",
       "      <td>FISH_ARCHSCIENCE</td>\n",
       "      <td><a href=\"http://purl.org/heritagedata/schemes/560/concepts/142188\" target=\"_blank\">http://purl.org/heritagedata/schemes/560/concepts/142188</a></td>\n",
       "      <td>Radiocarbon Dating</td>\n",
       "      <td><a target='_blank' rel='noopener noreferrer' href='http://purl.org/heritagedata/schemes/560/concepts/142188'>Radiocarbon Dating</a></td>\n",
       "    </tr>\n",
       "    <tr>\n",
       "      <td>123</td>\n",
       "      <td>152</td>\n",
       "      <td>26</td>\n",
       "      <td>28</td>\n",
       "      <td>AAT_ACTIVITY</td>\n",
       "      <td><a href=\"http://vocab.getty.edu/aat/300264220\" target=\"_blank\">http://vocab.getty.edu/aat/300264220</a></td>\n",
       "      <td>accelerator mass spectrometry</td>\n",
       "      <td><a target='_blank' rel='noopener noreferrer' href='http://vocab.getty.edu/aat/300264220'>accelerator mass spectrometry</a></td>\n",
       "    </tr>\n",
       "  </tbody>\n",
       "</table>"
      ],
      "text/plain": [
       "<IPython.core.display.HTML object>"
      ]
     },
     "metadata": {},
     "output_type": "display_data"
    },
    {
     "data": {
      "text/html": [
       "<hr>"
      ],
      "text/plain": [
       "<IPython.core.display.HTML object>"
      ]
     },
     "metadata": {},
     "output_type": "display_data"
    },
    {
     "data": {
      "text/html": [
       "<h3>[ID: http://www.jstor.org/stable/23419006]</h3>"
      ],
      "text/plain": [
       "<IPython.core.display.HTML object>"
      ]
     },
     "metadata": {},
     "output_type": "display_data"
    },
    {
     "data": {
      "text/html": [
       "<div class=\"spans\" style=\"line-height: 2.5; direction: ltr\">Besides using \n",
       "<span style=\"font-weight: bold; display: inline-block; position: relative; height: 60px;\">\n",
       "    dendrochronological\n",
       "    \n",
       "<span style=\"background: lightsalmon; top: 40px; height: 4px; left: -1px; width: calc(100% + 2px); position: absolute;\">\n",
       "</span>\n",
       "\n",
       "    \n",
       "<span style=\"background: lightsalmon; top: 40px; height: 4px; border-top-left-radius: 3px; border-bottom-left-radius: 3px; left: -1px; width: calc(100% + 2px); position: absolute;\">\n",
       "    <span style=\"background: lightsalmon; z-index: 10; color: #000; top: -0.5em; padding: 2px 3px; position: absolute; font-size: 0.6em; font-weight: bold; line-height: 1; border-radius: 3px\">\n",
       "        AAT_ACTIVITY\n",
       "    </span>\n",
       "</span>\n",
       "\n",
       "\n",
       "</span>\n",
       "\n",
       "<span style=\"font-weight: bold; display: inline-block; position: relative; height: 60px;\">\n",
       "    analyses\n",
       "    \n",
       "<span style=\"background: lightsalmon; top: 40px; height: 4px; left: -1px; width: calc(100% + 2px); position: absolute;\">\n",
       "</span>\n",
       "\n",
       "    \n",
       "</span>\n",
       ", \n",
       "<span style=\"font-weight: bold; display: inline-block; position: relative; height: 60px;\">\n",
       "    radiocarbon\n",
       "    \n",
       "<span style=\"background: lightpink; top: 40px; height: 4px; left: -1px; width: calc(100% + 2px); position: absolute;\">\n",
       "</span>\n",
       "\n",
       "    \n",
       "<span style=\"background: lightpink; top: 40px; height: 4px; border-top-left-radius: 3px; border-bottom-left-radius: 3px; left: -1px; width: calc(100% + 2px); position: absolute;\">\n",
       "    <span style=\"background: lightpink; z-index: 10; color: #000; top: -0.5em; padding: 2px 3px; position: absolute; font-size: 0.6em; font-weight: bold; line-height: 1; border-radius: 3px\">\n",
       "        FISH_ARCHSCIENCE\n",
       "    </span>\n",
       "</span>\n",
       "\n",
       "\n",
       "</span>\n",
       "\n",
       "<span style=\"font-weight: bold; display: inline-block; position: relative; height: 60px;\">\n",
       "    dating\n",
       "    \n",
       "<span style=\"background: lightpink; top: 40px; height: 4px; left: -1px; width: calc(100% + 2px); position: absolute;\">\n",
       "</span>\n",
       "\n",
       "    \n",
       "</span>\n",
       "\n",
       "<span style=\"font-weight: bold; display: inline-block; position: relative; height: 60px;\">\n",
       "    served\n",
       "    \n",
       "<span style=\"background: lightsalmon; top: 40px; height: 4px; left: -1px; width: calc(100% + 2px); position: absolute;\">\n",
       "</span>\n",
       "\n",
       "    \n",
       "<span style=\"background: lightsalmon; top: 40px; height: 4px; border-top-left-radius: 3px; border-bottom-left-radius: 3px; left: -1px; width: calc(100% + 2px); position: absolute;\">\n",
       "    <span style=\"background: lightsalmon; z-index: 10; color: #000; top: -0.5em; padding: 2px 3px; position: absolute; font-size: 0.6em; font-weight: bold; line-height: 1; border-radius: 3px\">\n",
       "        AAT_ACTIVITY\n",
       "    </span>\n",
       "</span>\n",
       "\n",
       "\n",
       "</span>\n",
       "as a means of obtaining the age of some logs . </div>"
      ],
      "text/plain": [
       "<IPython.core.display.HTML object>"
      ]
     },
     "metadata": {},
     "output_type": "display_data"
    },
    {
     "data": {
      "text/html": [
       "<table class=\"dataframe table table-sm table-striped table-light\">\n",
       "  <thead>\n",
       "    <tr style=\"text-align: left;\">\n",
       "      <th>start</th>\n",
       "      <th>end</th>\n",
       "      <th>token_start</th>\n",
       "      <th>token_end</th>\n",
       "      <th>label</th>\n",
       "      <th>id</th>\n",
       "      <th>text</th>\n",
       "      <th>span</th>\n",
       "    </tr>\n",
       "  </thead>\n",
       "  <tbody>\n",
       "    <tr>\n",
       "      <td>14</td>\n",
       "      <td>42</td>\n",
       "      <td>2</td>\n",
       "      <td>3</td>\n",
       "      <td>AAT_ACTIVITY</td>\n",
       "      <td><a href=\"http://vocab.getty.edu/aat/300054595\" target=\"_blank\">http://vocab.getty.edu/aat/300054595</a></td>\n",
       "      <td>dendrochronological analyses</td>\n",
       "      <td><a target='_blank' rel='noopener noreferrer' href='http://vocab.getty.edu/aat/300054595'>dendrochronological analyses</a></td>\n",
       "    </tr>\n",
       "    <tr>\n",
       "      <td>44</td>\n",
       "      <td>62</td>\n",
       "      <td>5</td>\n",
       "      <td>6</td>\n",
       "      <td>FISH_ARCHSCIENCE</td>\n",
       "      <td><a href=\"http://purl.org/heritagedata/schemes/560/concepts/142188\" target=\"_blank\">http://purl.org/heritagedata/schemes/560/concepts/142188</a></td>\n",
       "      <td>radiocarbon dating</td>\n",
       "      <td><a target='_blank' rel='noopener noreferrer' href='http://purl.org/heritagedata/schemes/560/concepts/142188'>radiocarbon dating</a></td>\n",
       "    </tr>\n",
       "    <tr>\n",
       "      <td>63</td>\n",
       "      <td>69</td>\n",
       "      <td>7</td>\n",
       "      <td>7</td>\n",
       "      <td>AAT_ACTIVITY</td>\n",
       "      <td><a href=\"http://vocab.getty.edu/aat/300393207\" target=\"_blank\">http://vocab.getty.edu/aat/300393207</a></td>\n",
       "      <td>served</td>\n",
       "      <td><a target='_blank' rel='noopener noreferrer' href='http://vocab.getty.edu/aat/300393207'>served</a></td>\n",
       "    </tr>\n",
       "  </tbody>\n",
       "</table>"
      ],
      "text/plain": [
       "<IPython.core.display.HTML object>"
      ]
     },
     "metadata": {},
     "output_type": "display_data"
    },
    {
     "data": {
      "text/html": [
       "<hr>"
      ],
      "text/plain": [
       "<IPython.core.display.HTML object>"
      ]
     },
     "metadata": {},
     "output_type": "display_data"
    },
    {
     "data": {
      "text/html": [
       "<h3>[ID: http://www.jstor.org/stable/972085]</h3>"
      ],
      "text/plain": [
       "<IPython.core.display.HTML object>"
      ]
     },
     "metadata": {},
     "output_type": "display_data"
    },
    {
     "data": {
      "text/html": [
       "<div class=\"spans\" style=\"line-height: 2.5; direction: ltr\">As a further test of sample integrity for the bioapatite stable isotope data , \n",
       "<span style=\"font-weight: bold; display: inline-block; position: relative; height: 60px;\">\n",
       "    infrared\n",
       "    \n",
       "<span style=\"background: lightsalmon; top: 40px; height: 4px; left: -1px; width: calc(100% + 2px); position: absolute;\">\n",
       "</span>\n",
       "\n",
       "    \n",
       "<span style=\"background: lightsalmon; top: 40px; height: 4px; border-top-left-radius: 3px; border-bottom-left-radius: 3px; left: -1px; width: calc(100% + 2px); position: absolute;\">\n",
       "    <span style=\"background: lightsalmon; z-index: 10; color: #000; top: -0.5em; padding: 2px 3px; position: absolute; font-size: 0.6em; font-weight: bold; line-height: 1; border-radius: 3px\">\n",
       "        AAT_ACTIVITY\n",
       "    </span>\n",
       "</span>\n",
       "\n",
       "\n",
       "</span>\n",
       "\n",
       "<span style=\"font-weight: bold; display: inline-block; position: relative; height: 60px;\">\n",
       "    analyses\n",
       "    \n",
       "<span style=\"background: lightsalmon; top: 40px; height: 4px; left: -1px; width: calc(100% + 2px); position: absolute;\">\n",
       "</span>\n",
       "\n",
       "    \n",
       "</span>\n",
       "were performed on a subset of 33 samples of bone bioapatite that included all samples with greater than 1.2 percent or less than .7 percent carbonate carbon by weight . </div>"
      ],
      "text/plain": [
       "<IPython.core.display.HTML object>"
      ]
     },
     "metadata": {},
     "output_type": "display_data"
    },
    {
     "data": {
      "text/html": [
       "<table class=\"dataframe table table-sm table-striped table-light\">\n",
       "  <thead>\n",
       "    <tr style=\"text-align: left;\">\n",
       "      <th>start</th>\n",
       "      <th>end</th>\n",
       "      <th>token_start</th>\n",
       "      <th>token_end</th>\n",
       "      <th>label</th>\n",
       "      <th>id</th>\n",
       "      <th>text</th>\n",
       "      <th>span</th>\n",
       "    </tr>\n",
       "  </thead>\n",
       "  <tbody>\n",
       "    <tr>\n",
       "      <td>78</td>\n",
       "      <td>95</td>\n",
       "      <td>14</td>\n",
       "      <td>15</td>\n",
       "      <td>AAT_ACTIVITY</td>\n",
       "      <td><a href=\"http://vocab.getty.edu/aat/300054595\" target=\"_blank\">http://vocab.getty.edu/aat/300054595</a></td>\n",
       "      <td>infrared analyses</td>\n",
       "      <td><a target='_blank' rel='noopener noreferrer' href='http://vocab.getty.edu/aat/300054595'>infrared analyses</a></td>\n",
       "    </tr>\n",
       "  </tbody>\n",
       "</table>"
      ],
      "text/plain": [
       "<IPython.core.display.HTML object>"
      ]
     },
     "metadata": {},
     "output_type": "display_data"
    },
    {
     "data": {
      "text/html": [
       "<hr>"
      ],
      "text/plain": [
       "<IPython.core.display.HTML object>"
      ]
     },
     "metadata": {},
     "output_type": "display_data"
    },
    {
     "data": {
      "text/html": [
       "<h3>[ID: http://www.jstor.org/stable/43554335]</h3>"
      ],
      "text/plain": [
       "<IPython.core.display.HTML object>"
      ]
     },
     "metadata": {},
     "output_type": "display_data"
    },
    {
     "data": {
      "text/html": [
       "<div class=\"spans\" style=\"line-height: 2.5; direction: ltr\">Neighbour \n",
       "<span style=\"font-weight: bold; display: inline-block; position: relative; height: 60px;\">\n",
       "    joining\n",
       "    \n",
       "<span style=\"background: lightsalmon; top: 40px; height: 4px; left: -1px; width: calc(100% + 2px); position: absolute;\">\n",
       "</span>\n",
       "\n",
       "    \n",
       "<span style=\"background: lightsalmon; top: 40px; height: 4px; border-top-left-radius: 3px; border-bottom-left-radius: 3px; left: -1px; width: calc(100% + 2px); position: absolute;\">\n",
       "    <span style=\"background: lightsalmon; z-index: 10; color: #000; top: -0.5em; padding: 2px 3px; position: absolute; font-size: 0.6em; font-weight: bold; line-height: 1; border-radius: 3px\">\n",
       "        AAT_ACTIVITY\n",
       "    </span>\n",
       "</span>\n",
       "\n",
       "\n",
       "</span>\n",
       "and principal \n",
       "<span style=\"font-weight: bold; display: inline-block; position: relative; height: 60px;\">\n",
       "    coordinate\n",
       "    \n",
       "<span style=\"background: lightsalmon; top: 40px; height: 4px; left: -1px; width: calc(100% + 2px); position: absolute;\">\n",
       "</span>\n",
       "\n",
       "    \n",
       "<span style=\"background: lightsalmon; top: 40px; height: 4px; border-top-left-radius: 3px; border-bottom-left-radius: 3px; left: -1px; width: calc(100% + 2px); position: absolute;\">\n",
       "    <span style=\"background: lightsalmon; z-index: 10; color: #000; top: -0.5em; padding: 2px 3px; position: absolute; font-size: 0.6em; font-weight: bold; line-height: 1; border-radius: 3px\">\n",
       "        AAT_ACTIVITY\n",
       "    </span>\n",
       "</span>\n",
       "\n",
       "\n",
       "</span>\n",
       "\n",
       "<span style=\"font-weight: bold; display: inline-block; position: relative; height: 60px;\">\n",
       "    analyses\n",
       "    \n",
       "<span style=\"background: lightsalmon; top: 40px; height: 4px; left: -1px; width: calc(100% + 2px); position: absolute;\">\n",
       "</span>\n",
       "\n",
       "    \n",
       "</span>\n",
       "revealed three well - \n",
       "<span style=\"font-weight: bold; display: inline-block; position: relative; height: 60px;\">\n",
       "    supported\n",
       "    \n",
       "<span style=\"background: lightsalmon; top: 40px; height: 4px; left: -1px; width: calc(100% + 2px); position: absolute;\">\n",
       "</span>\n",
       "\n",
       "    \n",
       "<span style=\"background: lightsalmon; top: 40px; height: 4px; border-top-left-radius: 3px; border-bottom-left-radius: 3px; left: -1px; width: calc(100% + 2px); position: absolute;\">\n",
       "    <span style=\"background: lightsalmon; z-index: 10; color: #000; top: -0.5em; padding: 2px 3px; position: absolute; font-size: 0.6em; font-weight: bold; line-height: 1; border-radius: 3px\">\n",
       "        AAT_ACTIVITY\n",
       "    </span>\n",
       "</span>\n",
       "\n",
       "\n",
       "</span>\n",
       "phylogeographical groups of populations corresponding to three disjunct geographical regions - the Alps and the western and south - eastern Carpathians . </div>"
      ],
      "text/plain": [
       "<IPython.core.display.HTML object>"
      ]
     },
     "metadata": {},
     "output_type": "display_data"
    },
    {
     "data": {
      "text/html": [
       "<table class=\"dataframe table table-sm table-striped table-light\">\n",
       "  <thead>\n",
       "    <tr style=\"text-align: left;\">\n",
       "      <th>start</th>\n",
       "      <th>end</th>\n",
       "      <th>token_start</th>\n",
       "      <th>token_end</th>\n",
       "      <th>label</th>\n",
       "      <th>id</th>\n",
       "      <th>text</th>\n",
       "      <th>span</th>\n",
       "    </tr>\n",
       "  </thead>\n",
       "  <tbody>\n",
       "    <tr>\n",
       "      <td>10</td>\n",
       "      <td>17</td>\n",
       "      <td>1</td>\n",
       "      <td>1</td>\n",
       "      <td>AAT_ACTIVITY</td>\n",
       "      <td><a href=\"http://vocab.getty.edu/aat/300137062\" target=\"_blank\">http://vocab.getty.edu/aat/300137062</a></td>\n",
       "      <td>joining</td>\n",
       "      <td><a target='_blank' rel='noopener noreferrer' href='http://vocab.getty.edu/aat/300137062'>joining</a></td>\n",
       "    </tr>\n",
       "    <tr>\n",
       "      <td>32</td>\n",
       "      <td>51</td>\n",
       "      <td>4</td>\n",
       "      <td>5</td>\n",
       "      <td>AAT_ACTIVITY</td>\n",
       "      <td><a href=\"http://vocab.getty.edu/aat/300054595\" target=\"_blank\">http://vocab.getty.edu/aat/300054595</a></td>\n",
       "      <td>coordinate analyses</td>\n",
       "      <td><a target='_blank' rel='noopener noreferrer' href='http://vocab.getty.edu/aat/300054595'>coordinate analyses</a></td>\n",
       "    </tr>\n",
       "    <tr>\n",
       "      <td>74</td>\n",
       "      <td>83</td>\n",
       "      <td>10</td>\n",
       "      <td>10</td>\n",
       "      <td>AAT_ACTIVITY</td>\n",
       "      <td><a href=\"http://vocab.getty.edu/aat/300053768\" target=\"_blank\">http://vocab.getty.edu/aat/300053768</a></td>\n",
       "      <td>supported</td>\n",
       "      <td><a target='_blank' rel='noopener noreferrer' href='http://vocab.getty.edu/aat/300053768'>supported</a></td>\n",
       "    </tr>\n",
       "  </tbody>\n",
       "</table>"
      ],
      "text/plain": [
       "<IPython.core.display.HTML object>"
      ]
     },
     "metadata": {},
     "output_type": "display_data"
    },
    {
     "data": {
      "text/html": [
       "<hr>"
      ],
      "text/plain": [
       "<IPython.core.display.HTML object>"
      ]
     },
     "metadata": {},
     "output_type": "display_data"
    },
    {
     "data": {
      "text/html": [
       "<h3>[ID: http://www.jstor.org/stable/43554335]</h3>"
      ],
      "text/plain": [
       "<IPython.core.display.HTML object>"
      ]
     },
     "metadata": {},
     "output_type": "display_data"
    },
    {
     "data": {
      "text/html": [
       "<div class=\"spans\" style=\"line-height: 2.5; direction: ltr\">A randomised block , split - split - plot design was used within each site with grazing as the first split plot ( grazed and ungrazed by \n",
       "<span style=\"font-weight: bold; display: inline-block; position: relative; height: 60px;\">\n",
       "    fencing\n",
       "    \n",
       "<span style=\"background: lightsalmon; top: 40px; height: 4px; left: -1px; width: calc(100% + 2px); position: absolute;\">\n",
       "</span>\n",
       "\n",
       "    \n",
       "<span style=\"background: lightsalmon; top: 40px; height: 4px; border-top-left-radius: 3px; border-bottom-left-radius: 3px; left: -1px; width: calc(100% + 2px); position: absolute;\">\n",
       "    <span style=\"background: lightsalmon; z-index: 10; color: #000; top: -0.5em; padding: 2px 3px; position: absolute; font-size: 0.6em; font-weight: bold; line-height: 1; border-radius: 3px\">\n",
       "        AAT_ACTIVITY\n",
       "    </span>\n",
       "</span>\n",
       "\n",
       "\n",
       "</span>\n",
       "out stock , rabbits , hares and macropods with a fine mesh fence ) , then by seedling establishment of a native eucalypt ( Eucalyptus blakelyi ) as the second split ( two levels : none and nine seedlings \n",
       "<span style=\"font-weight: bold; display: inline-block; position: relative; height: 60px;\">\n",
       "    planted\n",
       "    \n",
       "<span style=\"background: lightsalmon; top: 40px; height: 4px; left: -1px; width: calc(100% + 2px); position: absolute;\">\n",
       "</span>\n",
       "\n",
       "    \n",
       "<span style=\"background: lightsalmon; top: 40px; height: 4px; border-top-left-radius: 3px; border-bottom-left-radius: 3px; left: -1px; width: calc(100% + 2px); position: absolute;\">\n",
       "    <span style=\"background: lightsalmon; z-index: 10; color: #000; top: -0.5em; padding: 2px 3px; position: absolute; font-size: 0.6em; font-weight: bold; line-height: 1; border-radius: 3px\">\n",
       "        AAT_ACTIVITY\n",
       "    </span>\n",
       "</span>\n",
       "\n",
       "\n",
       "</span>\n",
       "50 cm apart in the central section of each plot ) and 18 plots per split - split plot , \n",
       "<span style=\"font-weight: bold; display: inline-block; position: relative; height: 60px;\">\n",
       "    representing\n",
       "    \n",
       "<span style=\"background: lightsalmon; top: 40px; height: 4px; left: -1px; width: calc(100% + 2px); position: absolute;\">\n",
       "</span>\n",
       "\n",
       "    \n",
       "<span style=\"background: lightsalmon; top: 40px; height: 4px; border-top-left-radius: 3px; border-bottom-left-radius: 3px; left: -1px; width: calc(100% + 2px); position: absolute;\">\n",
       "    <span style=\"background: lightsalmon; z-index: 10; color: #000; top: -0.5em; padding: 2px 3px; position: absolute; font-size: 0.6em; font-weight: bold; line-height: 1; border-radius: 3px\">\n",
       "        AAT_ACTIVITY\n",
       "    </span>\n",
       "</span>\n",
       "\n",
       "\n",
       "</span>\n",
       "a completely randomised , factorial arrangement of the five treat ments ( 288 plots in total ) . </div>"
      ],
      "text/plain": [
       "<IPython.core.display.HTML object>"
      ]
     },
     "metadata": {},
     "output_type": "display_data"
    },
    {
     "data": {
      "text/html": [
       "<table class=\"dataframe table table-sm table-striped table-light\">\n",
       "  <thead>\n",
       "    <tr style=\"text-align: left;\">\n",
       "      <th>start</th>\n",
       "      <th>end</th>\n",
       "      <th>token_start</th>\n",
       "      <th>token_end</th>\n",
       "      <th>label</th>\n",
       "      <th>id</th>\n",
       "      <th>text</th>\n",
       "      <th>span</th>\n",
       "    </tr>\n",
       "  </thead>\n",
       "  <tbody>\n",
       "    <tr>\n",
       "      <td>135</td>\n",
       "      <td>142</td>\n",
       "      <td>27</td>\n",
       "      <td>27</td>\n",
       "      <td>AAT_ACTIVITY</td>\n",
       "      <td><a href=\"http://vocab.getty.edu/aat/300379753\" target=\"_blank\">http://vocab.getty.edu/aat/300379753</a></td>\n",
       "      <td>fencing</td>\n",
       "      <td><a target='_blank' rel='noopener noreferrer' href='http://vocab.getty.edu/aat/300379753'>fencing</a></td>\n",
       "    </tr>\n",
       "    <tr>\n",
       "      <td>340</td>\n",
       "      <td>347</td>\n",
       "      <td>67</td>\n",
       "      <td>67</td>\n",
       "      <td>AAT_ACTIVITY</td>\n",
       "      <td><a href=\"http://vocab.getty.edu/aat/300054711\" target=\"_blank\">http://vocab.getty.edu/aat/300054711</a></td>\n",
       "      <td>planted</td>\n",
       "      <td><a target='_blank' rel='noopener noreferrer' href='http://vocab.getty.edu/aat/300054711'>planted</a></td>\n",
       "    </tr>\n",
       "    <tr>\n",
       "      <td>434</td>\n",
       "      <td>446</td>\n",
       "      <td>88</td>\n",
       "      <td>88</td>\n",
       "      <td>AAT_ACTIVITY</td>\n",
       "      <td><a href=\"http://vocab.getty.edu/aat/300137847\" target=\"_blank\">http://vocab.getty.edu/aat/300137847</a></td>\n",
       "      <td>representing</td>\n",
       "      <td><a target='_blank' rel='noopener noreferrer' href='http://vocab.getty.edu/aat/300137847'>representing</a></td>\n",
       "    </tr>\n",
       "  </tbody>\n",
       "</table>"
      ],
      "text/plain": [
       "<IPython.core.display.HTML object>"
      ]
     },
     "metadata": {},
     "output_type": "display_data"
    },
    {
     "data": {
      "text/html": [
       "<hr>"
      ],
      "text/plain": [
       "<IPython.core.display.HTML object>"
      ]
     },
     "metadata": {},
     "output_type": "display_data"
    },
    {
     "data": {
      "text/html": [
       "<h3>[ID: http://www.jstor.org/stable/20622430]</h3>"
      ],
      "text/plain": [
       "<IPython.core.display.HTML object>"
      ]
     },
     "metadata": {},
     "output_type": "display_data"
    },
    {
     "data": {
      "text/html": [
       "<div class=\"spans\" style=\"line-height: 2.5; direction: ltr\">In this article we \n",
       "<span style=\"font-weight: bold; display: inline-block; position: relative; height: 60px;\">\n",
       "    describe\n",
       "    \n",
       "<span style=\"background: lightsalmon; top: 40px; height: 4px; left: -1px; width: calc(100% + 2px); position: absolute;\">\n",
       "</span>\n",
       "\n",
       "    \n",
       "<span style=\"background: lightsalmon; top: 40px; height: 4px; border-top-left-radius: 3px; border-bottom-left-radius: 3px; left: -1px; width: calc(100% + 2px); position: absolute;\">\n",
       "    <span style=\"background: lightsalmon; z-index: 10; color: #000; top: -0.5em; padding: 2px 3px; position: absolute; font-size: 0.6em; font-weight: bold; line-height: 1; border-radius: 3px\">\n",
       "        AAT_ACTIVITY\n",
       "    </span>\n",
       "</span>\n",
       "\n",
       "\n",
       "</span>\n",
       "and discuss the first application of \n",
       "<span style=\"font-weight: bold; display: inline-block; position: relative; height: 60px;\">\n",
       "    accelerator\n",
       "    \n",
       "<span style=\"background: lightsalmon; top: 40px; height: 4px; left: -1px; width: calc(100% + 2px); position: absolute;\">\n",
       "</span>\n",
       "\n",
       "    \n",
       "<span style=\"background: lightsalmon; top: 40px; height: 4px; border-top-left-radius: 3px; border-bottom-left-radius: 3px; left: -1px; width: calc(100% + 2px); position: absolute;\">\n",
       "    <span style=\"background: lightsalmon; z-index: 10; color: #000; top: -0.5em; padding: 2px 3px; position: absolute; font-size: 0.6em; font-weight: bold; line-height: 1; border-radius: 3px\">\n",
       "        AAT_ACTIVITY\n",
       "    </span>\n",
       "</span>\n",
       "\n",
       "\n",
       "</span>\n",
       "\n",
       "<span style=\"font-weight: bold; display: inline-block; position: relative; height: 60px;\">\n",
       "    mass\n",
       "    \n",
       "<span style=\"background: lightsalmon; top: 40px; height: 4px; left: -1px; width: calc(100% + 2px); position: absolute;\">\n",
       "</span>\n",
       "\n",
       "    \n",
       "</span>\n",
       "\n",
       "<span style=\"font-weight: bold; display: inline-block; position: relative; height: 60px;\">\n",
       "    spectrometry\n",
       "    \n",
       "<span style=\"background: lightsalmon; top: 40px; height: 4px; left: -1px; width: calc(100% + 2px); position: absolute;\">\n",
       "</span>\n",
       "\n",
       "    \n",
       "</span>\n",
       "( AMS ) to directly date temper particles in shell - \n",
       "<span style=\"font-weight: bold; display: inline-block; position: relative; height: 60px;\">\n",
       "    tempered\n",
       "    \n",
       "<span style=\"background: lightsalmon; top: 40px; height: 4px; left: -1px; width: calc(100% + 2px); position: absolute;\">\n",
       "</span>\n",
       "\n",
       "    \n",
       "<span style=\"background: lightsalmon; top: 40px; height: 4px; border-top-left-radius: 3px; border-bottom-left-radius: 3px; left: -1px; width: calc(100% + 2px); position: absolute;\">\n",
       "    <span style=\"background: lightsalmon; z-index: 10; color: #000; top: -0.5em; padding: 2px 3px; position: absolute; font-size: 0.6em; font-weight: bold; line-height: 1; border-radius: 3px\">\n",
       "        AAT_ACTIVITY\n",
       "    </span>\n",
       "</span>\n",
       "\n",
       "\n",
       "</span>\n",
       "pottery . </div>"
      ],
      "text/plain": [
       "<IPython.core.display.HTML object>"
      ]
     },
     "metadata": {},
     "output_type": "display_data"
    },
    {
     "data": {
      "text/html": [
       "<table class=\"dataframe table table-sm table-striped table-light\">\n",
       "  <thead>\n",
       "    <tr style=\"text-align: left;\">\n",
       "      <th>start</th>\n",
       "      <th>end</th>\n",
       "      <th>token_start</th>\n",
       "      <th>token_end</th>\n",
       "      <th>label</th>\n",
       "      <th>id</th>\n",
       "      <th>text</th>\n",
       "      <th>span</th>\n",
       "    </tr>\n",
       "  </thead>\n",
       "  <tbody>\n",
       "    <tr>\n",
       "      <td>19</td>\n",
       "      <td>27</td>\n",
       "      <td>4</td>\n",
       "      <td>4</td>\n",
       "      <td>AAT_ACTIVITY</td>\n",
       "      <td><a href=\"http://vocab.getty.edu/aat/300080091\" target=\"_blank\">http://vocab.getty.edu/aat/300080091</a></td>\n",
       "      <td>describe</td>\n",
       "      <td><a target='_blank' rel='noopener noreferrer' href='http://vocab.getty.edu/aat/300080091'>describe</a></td>\n",
       "    </tr>\n",
       "    <tr>\n",
       "      <td>65</td>\n",
       "      <td>94</td>\n",
       "      <td>11</td>\n",
       "      <td>13</td>\n",
       "      <td>AAT_ACTIVITY</td>\n",
       "      <td><a href=\"http://vocab.getty.edu/aat/300264220\" target=\"_blank\">http://vocab.getty.edu/aat/300264220</a></td>\n",
       "      <td>accelerator mass spectrometry</td>\n",
       "      <td><a target='_blank' rel='noopener noreferrer' href='http://vocab.getty.edu/aat/300264220'>accelerator mass spectrometry</a></td>\n",
       "    </tr>\n",
       "    <tr>\n",
       "      <td>146</td>\n",
       "      <td>154</td>\n",
       "      <td>25</td>\n",
       "      <td>25</td>\n",
       "      <td>AAT_ACTIVITY</td>\n",
       "      <td><a href=\"http://vocab.getty.edu/aat/300053890\" target=\"_blank\">http://vocab.getty.edu/aat/300053890</a></td>\n",
       "      <td>tempered</td>\n",
       "      <td><a target='_blank' rel='noopener noreferrer' href='http://vocab.getty.edu/aat/300053890'>tempered</a></td>\n",
       "    </tr>\n",
       "  </tbody>\n",
       "</table>"
      ],
      "text/plain": [
       "<IPython.core.display.HTML object>"
      ]
     },
     "metadata": {},
     "output_type": "display_data"
    },
    {
     "data": {
      "text/html": [
       "<hr>"
      ],
      "text/plain": [
       "<IPython.core.display.HTML object>"
      ]
     },
     "metadata": {},
     "output_type": "display_data"
    },
    {
     "data": {
      "text/html": [
       "<h3>[ID: http://www.jstor.org/stable/23417987]</h3>"
      ],
      "text/plain": [
       "<IPython.core.display.HTML object>"
      ]
     },
     "metadata": {},
     "output_type": "display_data"
    },
    {
     "data": {
      "text/html": [
       "<div class=\"spans\" style=\"line-height: 2.5; direction: ltr\">\n",
       "<span style=\"font-weight: bold; display: inline-block; position: relative; height: 60px;\">\n",
       "    Pollen\n",
       "    \n",
       "<span style=\"background: lightsalmon; top: 40px; height: 4px; left: -1px; width: calc(100% + 2px); position: absolute;\">\n",
       "</span>\n",
       "\n",
       "    \n",
       "<span style=\"background: lightsalmon; top: 40px; height: 4px; border-top-left-radius: 3px; border-bottom-left-radius: 3px; left: -1px; width: calc(100% + 2px); position: absolute;\">\n",
       "    <span style=\"background: lightsalmon; z-index: 10; color: #000; top: -0.5em; padding: 2px 3px; position: absolute; font-size: 0.6em; font-weight: bold; line-height: 1; border-radius: 3px\">\n",
       "        AAT_ACTIVITY\n",
       "    </span>\n",
       "</span>\n",
       "\n",
       "\n",
       "</span>\n",
       "\n",
       "<span style=\"font-weight: bold; display: inline-block; position: relative; height: 60px;\">\n",
       "    analysis\n",
       "    \n",
       "<span style=\"background: lightsalmon; top: 40px; height: 4px; left: -1px; width: calc(100% + 2px); position: absolute;\">\n",
       "</span>\n",
       "\n",
       "    \n",
       "</span>\n",
       "\n",
       "<span style=\"font-weight: bold; display: inline-block; position: relative; height: 60px;\">\n",
       "    provides\n",
       "    \n",
       "<span style=\"background: lightsalmon; top: 40px; height: 4px; left: -1px; width: calc(100% + 2px); position: absolute;\">\n",
       "</span>\n",
       "\n",
       "    \n",
       "<span style=\"background: lightsalmon; top: 40px; height: 4px; border-top-left-radius: 3px; border-bottom-left-radius: 3px; left: -1px; width: calc(100% + 2px); position: absolute;\">\n",
       "    <span style=\"background: lightsalmon; z-index: 10; color: #000; top: -0.5em; padding: 2px 3px; position: absolute; font-size: 0.6em; font-weight: bold; line-height: 1; border-radius: 3px\">\n",
       "        AAT_ACTIVITY\n",
       "    </span>\n",
       "</span>\n",
       "\n",
       "\n",
       "</span>\n",
       "little information as to why trees were \n",
       "<span style=\"font-weight: bold; display: inline-block; position: relative; height: 60px;\">\n",
       "    felled\n",
       "    \n",
       "<span style=\"background: lightsalmon; top: 40px; height: 4px; left: -1px; width: calc(100% + 2px); position: absolute;\">\n",
       "</span>\n",
       "\n",
       "    \n",
       "<span style=\"background: lightsalmon; top: 40px; height: 4px; border-top-left-radius: 3px; border-bottom-left-radius: 3px; left: -1px; width: calc(100% + 2px); position: absolute;\">\n",
       "    <span style=\"background: lightsalmon; z-index: 10; color: #000; top: -0.5em; padding: 2px 3px; position: absolute; font-size: 0.6em; font-weight: bold; line-height: 1; border-radius: 3px\">\n",
       "        AAT_ACTIVITY\n",
       "    </span>\n",
       "</span>\n",
       "\n",
       "\n",
       "</span>\n",
       "thus archaeological evidence is needed . </div>"
      ],
      "text/plain": [
       "<IPython.core.display.HTML object>"
      ]
     },
     "metadata": {},
     "output_type": "display_data"
    },
    {
     "data": {
      "text/html": [
       "<table class=\"dataframe table table-sm table-striped table-light\">\n",
       "  <thead>\n",
       "    <tr style=\"text-align: left;\">\n",
       "      <th>start</th>\n",
       "      <th>end</th>\n",
       "      <th>token_start</th>\n",
       "      <th>token_end</th>\n",
       "      <th>label</th>\n",
       "      <th>id</th>\n",
       "      <th>text</th>\n",
       "      <th>span</th>\n",
       "    </tr>\n",
       "  </thead>\n",
       "  <tbody>\n",
       "    <tr>\n",
       "      <td>0</td>\n",
       "      <td>15</td>\n",
       "      <td>0</td>\n",
       "      <td>1</td>\n",
       "      <td>AAT_ACTIVITY</td>\n",
       "      <td><a href=\"http://vocab.getty.edu/aat/300054595\" target=\"_blank\">http://vocab.getty.edu/aat/300054595</a></td>\n",
       "      <td>Pollen analysis</td>\n",
       "      <td><a target='_blank' rel='noopener noreferrer' href='http://vocab.getty.edu/aat/300054595'>Pollen analysis</a></td>\n",
       "    </tr>\n",
       "    <tr>\n",
       "      <td>16</td>\n",
       "      <td>24</td>\n",
       "      <td>2</td>\n",
       "      <td>2</td>\n",
       "      <td>AAT_ACTIVITY</td>\n",
       "      <td><a href=\"http://vocab.getty.edu/aat/300137584\" target=\"_blank\">http://vocab.getty.edu/aat/300137584</a></td>\n",
       "      <td>provides</td>\n",
       "      <td><a target='_blank' rel='noopener noreferrer' href='http://vocab.getty.edu/aat/300137584'>provides</a></td>\n",
       "    </tr>\n",
       "    <tr>\n",
       "      <td>65</td>\n",
       "      <td>71</td>\n",
       "      <td>10</td>\n",
       "      <td>10</td>\n",
       "      <td>AAT_ACTIVITY</td>\n",
       "      <td><a href=\"http://vocab.getty.edu/aat/300417305\" target=\"_blank\">http://vocab.getty.edu/aat/300417305</a></td>\n",
       "      <td>felled</td>\n",
       "      <td><a target='_blank' rel='noopener noreferrer' href='http://vocab.getty.edu/aat/300417305'>felled</a></td>\n",
       "    </tr>\n",
       "  </tbody>\n",
       "</table>"
      ],
      "text/plain": [
       "<IPython.core.display.HTML object>"
      ]
     },
     "metadata": {},
     "output_type": "display_data"
    },
    {
     "data": {
      "text/html": [
       "<hr>"
      ],
      "text/plain": [
       "<IPython.core.display.HTML object>"
      ]
     },
     "metadata": {},
     "output_type": "display_data"
    },
    {
     "data": {
      "text/html": [
       "<h3>[ID: http://www.jstor.org/stable/41725317]</h3>"
      ],
      "text/plain": [
       "<IPython.core.display.HTML object>"
      ]
     },
     "metadata": {},
     "output_type": "display_data"
    },
    {
     "data": {
      "text/html": [
       "<div class=\"spans\" style=\"line-height: 2.5; direction: ltr\">The marble of seven under - lifesize sculptures of barbarians , now in the archaeological museums of Naples , Venice and the Vatican , commonly considered to be Roman copies of the Pergamene Lesser Dedication in Athens , comes from the Goktepe marble quarries near Aphrodisias , as is \n",
       "<span style=\"font-weight: bold; display: inline-block; position: relative; height: 60px;\">\n",
       "    shown\n",
       "    \n",
       "<span style=\"background: lightsalmon; top: 40px; height: 4px; left: -1px; width: calc(100% + 2px); position: absolute;\">\n",
       "</span>\n",
       "\n",
       "    \n",
       "<span style=\"background: lightsalmon; top: 40px; height: 4px; border-top-left-radius: 3px; border-bottom-left-radius: 3px; left: -1px; width: calc(100% + 2px); position: absolute;\">\n",
       "    <span style=\"background: lightsalmon; z-index: 10; color: #000; top: -0.5em; padding: 2px 3px; position: absolute; font-size: 0.6em; font-weight: bold; line-height: 1; border-radius: 3px\">\n",
       "        AAT_ACTIVITY\n",
       "    </span>\n",
       "</span>\n",
       "\n",
       "\n",
       "</span>\n",
       "by isotopic , electron paramagnetic resonance , \n",
       "<span style=\"font-weight: bold; display: inline-block; position: relative; height: 60px;\">\n",
       "    trace\n",
       "    \n",
       "<span style=\"background: lightsalmon; top: 40px; height: 4px; left: -1px; width: calc(100% + 2px); position: absolute;\">\n",
       "</span>\n",
       "\n",
       "    \n",
       "<span style=\"background: lightsalmon; top: 40px; height: 4px; border-top-left-radius: 3px; border-bottom-left-radius: 3px; left: -1px; width: calc(100% + 2px); position: absolute;\">\n",
       "    <span style=\"background: lightsalmon; z-index: 10; color: #000; top: -0.5em; padding: 2px 3px; position: absolute; font-size: 0.6em; font-weight: bold; line-height: 1; border-radius: 3px\">\n",
       "        AAT_ACTIVITY\n",
       "    </span>\n",
       "</span>\n",
       "\n",
       "\n",
       "</span>\n",
       "\n",
       "<span style=\"font-weight: bold; display: inline-block; position: relative; height: 60px;\">\n",
       "    analyses\n",
       "    \n",
       "<span style=\"background: lightsalmon; top: 40px; height: 4px; left: -1px; width: calc(100% + 2px); position: absolute;\">\n",
       "</span>\n",
       "\n",
       "    \n",
       "</span>\n",
       ", and of petrographie data . </div>"
      ],
      "text/plain": [
       "<IPython.core.display.HTML object>"
      ]
     },
     "metadata": {},
     "output_type": "display_data"
    },
    {
     "data": {
      "text/html": [
       "<table class=\"dataframe table table-sm table-striped table-light\">\n",
       "  <thead>\n",
       "    <tr style=\"text-align: left;\">\n",
       "      <th>start</th>\n",
       "      <th>end</th>\n",
       "      <th>token_start</th>\n",
       "      <th>token_end</th>\n",
       "      <th>label</th>\n",
       "      <th>id</th>\n",
       "      <th>text</th>\n",
       "      <th>span</th>\n",
       "    </tr>\n",
       "  </thead>\n",
       "  <tbody>\n",
       "    <tr>\n",
       "      <td>280</td>\n",
       "      <td>285</td>\n",
       "      <td>49</td>\n",
       "      <td>49</td>\n",
       "      <td>AAT_ACTIVITY</td>\n",
       "      <td><a href=\"http://vocab.getty.edu/aat/300404521\" target=\"_blank\">http://vocab.getty.edu/aat/300404521</a></td>\n",
       "      <td>shown</td>\n",
       "      <td><a target='_blank' rel='noopener noreferrer' href='http://vocab.getty.edu/aat/300404521'>shown</a></td>\n",
       "    </tr>\n",
       "    <tr>\n",
       "      <td>332</td>\n",
       "      <td>346</td>\n",
       "      <td>57</td>\n",
       "      <td>58</td>\n",
       "      <td>AAT_ACTIVITY</td>\n",
       "      <td><a href=\"http://vocab.getty.edu/aat/300054595\" target=\"_blank\">http://vocab.getty.edu/aat/300054595</a></td>\n",
       "      <td>trace analyses</td>\n",
       "      <td><a target='_blank' rel='noopener noreferrer' href='http://vocab.getty.edu/aat/300054595'>trace analyses</a></td>\n",
       "    </tr>\n",
       "  </tbody>\n",
       "</table>"
      ],
      "text/plain": [
       "<IPython.core.display.HTML object>"
      ]
     },
     "metadata": {},
     "output_type": "display_data"
    },
    {
     "data": {
      "text/html": [
       "<hr>"
      ],
      "text/plain": [
       "<IPython.core.display.HTML object>"
      ]
     },
     "metadata": {},
     "output_type": "display_data"
    },
    {
     "data": {
      "text/html": [
       "<h3>[ID: http://www.jstor.org/stable/25067649]</h3>"
      ],
      "text/plain": [
       "<IPython.core.display.HTML object>"
      ]
     },
     "metadata": {},
     "output_type": "display_data"
    },
    {
     "data": {
      "text/html": [
       "<div class=\"spans\" style=\"line-height: 2.5; direction: ltr\">In 2003 , we re - \n",
       "<span style=\"font-weight: bold; display: inline-block; position: relative; height: 60px;\">\n",
       "    analyzed\n",
       "    \n",
       "<span style=\"background: lightsalmon; top: 40px; height: 4px; left: -1px; width: calc(100% + 2px); position: absolute;\">\n",
       "</span>\n",
       "\n",
       "    \n",
       "<span style=\"background: lightsalmon; top: 40px; height: 4px; border-top-left-radius: 3px; border-bottom-left-radius: 3px; left: -1px; width: calc(100% + 2px); position: absolute;\">\n",
       "    <span style=\"background: lightsalmon; z-index: 10; color: #000; top: -0.5em; padding: 2px 3px; position: absolute; font-size: 0.6em; font-weight: bold; line-height: 1; border-radius: 3px\">\n",
       "        AAT_ACTIVITY\n",
       "    </span>\n",
       "</span>\n",
       "\n",
       "\n",
       "</span>\n",
       "1,126 bifaces from the excavations undertaken by Arthur Jelinek at Tabun in the 1967 - ? 972 seasons . </div>"
      ],
      "text/plain": [
       "<IPython.core.display.HTML object>"
      ]
     },
     "metadata": {},
     "output_type": "display_data"
    },
    {
     "data": {
      "text/html": [
       "<table class=\"dataframe table table-sm table-striped table-light\">\n",
       "  <thead>\n",
       "    <tr style=\"text-align: left;\">\n",
       "      <th>start</th>\n",
       "      <th>end</th>\n",
       "      <th>token_start</th>\n",
       "      <th>token_end</th>\n",
       "      <th>label</th>\n",
       "      <th>id</th>\n",
       "      <th>text</th>\n",
       "      <th>span</th>\n",
       "    </tr>\n",
       "  </thead>\n",
       "  <tbody>\n",
       "    <tr>\n",
       "      <td>17</td>\n",
       "      <td>25</td>\n",
       "      <td>6</td>\n",
       "      <td>6</td>\n",
       "      <td>AAT_ACTIVITY</td>\n",
       "      <td><a href=\"http://vocab.getty.edu/aat/300054595\" target=\"_blank\">http://vocab.getty.edu/aat/300054595</a></td>\n",
       "      <td>analyzed</td>\n",
       "      <td><a target='_blank' rel='noopener noreferrer' href='http://vocab.getty.edu/aat/300054595'>analyzed</a></td>\n",
       "    </tr>\n",
       "  </tbody>\n",
       "</table>"
      ],
      "text/plain": [
       "<IPython.core.display.HTML object>"
      ]
     },
     "metadata": {},
     "output_type": "display_data"
    },
    {
     "data": {
      "text/html": [
       "<hr>"
      ],
      "text/plain": [
       "<IPython.core.display.HTML object>"
      ]
     },
     "metadata": {},
     "output_type": "display_data"
    },
    {
     "data": {
      "text/html": [
       "<h3>[ID: http://www.jstor.org/stable/2694808]</h3>"
      ],
      "text/plain": [
       "<IPython.core.display.HTML object>"
      ]
     },
     "metadata": {},
     "output_type": "display_data"
    },
    {
     "data": {
      "text/plain": [
       "'Coring proved an accurate and cost-effective alternative to traditional test-excavation, and its application in only two short field seasons doubled the number of sites tested in this region.'"
      ]
     },
     "metadata": {},
     "output_type": "display_data"
    },
    {
     "data": {
      "text/html": [],
      "text/plain": [
       "<IPython.core.display.HTML object>"
      ]
     },
     "metadata": {},
     "output_type": "display_data"
    },
    {
     "data": {
      "text/html": [
       "<hr>"
      ],
      "text/plain": [
       "<IPython.core.display.HTML object>"
      ]
     },
     "metadata": {},
     "output_type": "display_data"
    },
    {
     "data": {
      "text/html": [
       "<h3>[ID: http://www.jstor.org/stable/44988700]</h3>"
      ],
      "text/plain": [
       "<IPython.core.display.HTML object>"
      ]
     },
     "metadata": {},
     "output_type": "display_data"
    },
    {
     "data": {
      "text/html": [
       "<div class=\"spans\" style=\"line-height: 2.5; direction: ltr\">We \n",
       "<span style=\"font-weight: bold; display: inline-block; position: relative; height: 60px;\">\n",
       "    report\n",
       "    \n",
       "<span style=\"background: lightsalmon; top: 40px; height: 4px; left: -1px; width: calc(100% + 2px); position: absolute;\">\n",
       "</span>\n",
       "\n",
       "    \n",
       "<span style=\"background: lightsalmon; top: 40px; height: 4px; border-top-left-radius: 3px; border-bottom-left-radius: 3px; left: -1px; width: calc(100% + 2px); position: absolute;\">\n",
       "    <span style=\"background: lightsalmon; z-index: 10; color: #000; top: -0.5em; padding: 2px 3px; position: absolute; font-size: 0.6em; font-weight: bold; line-height: 1; border-radius: 3px\">\n",
       "        AAT_ACTIVITY\n",
       "    </span>\n",
       "</span>\n",
       "\n",
       "\n",
       "</span>\n",
       "the results of carbon , nitrogen and strontium \n",
       "<span style=\"font-weight: bold; display: inline-block; position: relative; height: 60px;\">\n",
       "    isotope\n",
       "    \n",
       "<span style=\"background: lightsalmon; top: 40px; height: 4px; left: -1px; width: calc(100% + 2px); position: absolute;\">\n",
       "</span>\n",
       "\n",
       "    \n",
       "<span style=\"background: lightsalmon; top: 40px; height: 4px; border-top-left-radius: 3px; border-bottom-left-radius: 3px; left: -1px; width: calc(100% + 2px); position: absolute;\">\n",
       "    <span style=\"background: lightsalmon; z-index: 10; color: #000; top: -0.5em; padding: 2px 3px; position: absolute; font-size: 0.6em; font-weight: bold; line-height: 1; border-radius: 3px\">\n",
       "        AAT_ACTIVITY\n",
       "    </span>\n",
       "</span>\n",
       "\n",
       "\n",
       "</span>\n",
       "\n",
       "<span style=\"font-weight: bold; display: inline-block; position: relative; height: 60px;\">\n",
       "    analysis\n",
       "    \n",
       "<span style=\"background: lightsalmon; top: 40px; height: 4px; left: -1px; width: calc(100% + 2px); position: absolute;\">\n",
       "</span>\n",
       "\n",
       "    \n",
       "</span>\n",
       "to explore the origins and procurement of this ivory , in combination with Zooarchaeology by \n",
       "<span style=\"font-weight: bold; display: inline-block; position: relative; height: 60px;\">\n",
       "    Mass\n",
       "    \n",
       "<span style=\"background: lightsalmon; top: 40px; height: 4px; left: -1px; width: calc(100% + 2px); position: absolute;\">\n",
       "</span>\n",
       "\n",
       "    \n",
       "<span style=\"background: lightsalmon; top: 40px; height: 4px; border-top-left-radius: 3px; border-bottom-left-radius: 3px; left: -1px; width: calc(100% + 2px); position: absolute;\">\n",
       "    <span style=\"background: lightsalmon; z-index: 10; color: #000; top: -0.5em; padding: 2px 3px; position: absolute; font-size: 0.6em; font-weight: bold; line-height: 1; border-radius: 3px\">\n",
       "        AAT_ACTIVITY\n",
       "    </span>\n",
       "</span>\n",
       "\n",
       "\n",
       "</span>\n",
       "\n",
       "<span style=\"font-weight: bold; display: inline-block; position: relative; height: 60px;\">\n",
       "    Spectrometry\n",
       "    \n",
       "<span style=\"background: lightsalmon; top: 40px; height: 4px; left: -1px; width: calc(100% + 2px); position: absolute;\">\n",
       "</span>\n",
       "\n",
       "    \n",
       "</span>\n",
       "( ZooMS ) to \n",
       "<span style=\"font-weight: bold; display: inline-block; position: relative; height: 60px;\">\n",
       "    identify\n",
       "    \n",
       "<span style=\"background: lightsalmon; top: 40px; height: 4px; left: -1px; width: calc(100% + 2px); position: absolute;\">\n",
       "</span>\n",
       "\n",
       "    \n",
       "<span style=\"background: lightsalmon; top: 40px; height: 4px; border-top-left-radius: 3px; border-bottom-left-radius: 3px; left: -1px; width: calc(100% + 2px); position: absolute;\">\n",
       "    <span style=\"background: lightsalmon; z-index: 10; color: #000; top: -0.5em; padding: 2px 3px; position: absolute; font-size: 0.6em; font-weight: bold; line-height: 1; border-radius: 3px\">\n",
       "        AAT_ACTIVITY\n",
       "    </span>\n",
       "</span>\n",
       "\n",
       "\n",
       "</span>\n",
       "the species of animals from which it was derived . </div>"
      ],
      "text/plain": [
       "<IPython.core.display.HTML object>"
      ]
     },
     "metadata": {},
     "output_type": "display_data"
    },
    {
     "data": {
      "text/html": [
       "<table class=\"dataframe table table-sm table-striped table-light\">\n",
       "  <thead>\n",
       "    <tr style=\"text-align: left;\">\n",
       "      <th>start</th>\n",
       "      <th>end</th>\n",
       "      <th>token_start</th>\n",
       "      <th>token_end</th>\n",
       "      <th>label</th>\n",
       "      <th>id</th>\n",
       "      <th>text</th>\n",
       "      <th>span</th>\n",
       "    </tr>\n",
       "  </thead>\n",
       "  <tbody>\n",
       "    <tr>\n",
       "      <td>3</td>\n",
       "      <td>9</td>\n",
       "      <td>1</td>\n",
       "      <td>1</td>\n",
       "      <td>AAT_ACTIVITY</td>\n",
       "      <td><a href=\"http://vocab.getty.edu/aat/300137552\" target=\"_blank\">http://vocab.getty.edu/aat/300137552</a></td>\n",
       "      <td>report</td>\n",
       "      <td><a target='_blank' rel='noopener noreferrer' href='http://vocab.getty.edu/aat/300137552'>report</a></td>\n",
       "    </tr>\n",
       "    <tr>\n",
       "      <td>56</td>\n",
       "      <td>72</td>\n",
       "      <td>10</td>\n",
       "      <td>11</td>\n",
       "      <td>AAT_ACTIVITY</td>\n",
       "      <td><a href=\"http://vocab.getty.edu/aat/300054595\" target=\"_blank\">http://vocab.getty.edu/aat/300054595</a></td>\n",
       "      <td>isotope analysis</td>\n",
       "      <td><a target='_blank' rel='noopener noreferrer' href='http://vocab.getty.edu/aat/300054595'>isotope analysis</a></td>\n",
       "    </tr>\n",
       "    <tr>\n",
       "      <td>165</td>\n",
       "      <td>182</td>\n",
       "      <td>27</td>\n",
       "      <td>28</td>\n",
       "      <td>AAT_ACTIVITY</td>\n",
       "      <td><a href=\"http://vocab.getty.edu/aat/300225881\" target=\"_blank\">http://vocab.getty.edu/aat/300225881</a></td>\n",
       "      <td>Mass Spectrometry</td>\n",
       "      <td><a target='_blank' rel='noopener noreferrer' href='http://vocab.getty.edu/aat/300225881'>Mass Spectrometry</a></td>\n",
       "    </tr>\n",
       "    <tr>\n",
       "      <td>194</td>\n",
       "      <td>202</td>\n",
       "      <td>33</td>\n",
       "      <td>33</td>\n",
       "      <td>AAT_ACTIVITY</td>\n",
       "      <td><a href=\"http://vocab.getty.edu/aat/300137570\" target=\"_blank\">http://vocab.getty.edu/aat/300137570</a></td>\n",
       "      <td>identify</td>\n",
       "      <td><a target='_blank' rel='noopener noreferrer' href='http://vocab.getty.edu/aat/300137570'>identify</a></td>\n",
       "    </tr>\n",
       "  </tbody>\n",
       "</table>"
      ],
      "text/plain": [
       "<IPython.core.display.HTML object>"
      ]
     },
     "metadata": {},
     "output_type": "display_data"
    },
    {
     "data": {
      "text/html": [
       "<hr>"
      ],
      "text/plain": [
       "<IPython.core.display.HTML object>"
      ]
     },
     "metadata": {},
     "output_type": "display_data"
    },
    {
     "data": {
      "text/html": [
       "<h3>[ID: http://www.jstor.org/stable/44988700]</h3>"
      ],
      "text/plain": [
       "<IPython.core.display.HTML object>"
      ]
     },
     "metadata": {},
     "output_type": "display_data"
    },
    {
     "data": {
      "text/html": [
       "<div class=\"spans\" style=\"line-height: 2.5; direction: ltr\">The results are \n",
       "<span style=\"font-weight: bold; display: inline-block; position: relative; height: 60px;\">\n",
       "    examined\n",
       "    \n",
       "<span style=\"background: lightsalmon; top: 40px; height: 4px; left: -1px; width: calc(100% + 2px); position: absolute;\">\n",
       "</span>\n",
       "\n",
       "    \n",
       "<span style=\"background: lightsalmon; top: 40px; height: 4px; border-top-left-radius: 3px; border-bottom-left-radius: 3px; left: -1px; width: calc(100% + 2px); position: absolute;\">\n",
       "    <span style=\"background: lightsalmon; z-index: 10; color: #000; top: -0.5em; padding: 2px 3px; position: absolute; font-size: 0.6em; font-weight: bold; line-height: 1; border-radius: 3px\">\n",
       "        AAT_ACTIVITY\n",
       "    </span>\n",
       "</span>\n",
       "\n",
       "\n",
       "</span>\n",
       "against other petrographic studies of Irish stone axeheads , with reference to similar studies that have been undertaken in Britain . </div>"
      ],
      "text/plain": [
       "<IPython.core.display.HTML object>"
      ]
     },
     "metadata": {},
     "output_type": "display_data"
    },
    {
     "data": {
      "text/html": [
       "<table class=\"dataframe table table-sm table-striped table-light\">\n",
       "  <thead>\n",
       "    <tr style=\"text-align: left;\">\n",
       "      <th>start</th>\n",
       "      <th>end</th>\n",
       "      <th>token_start</th>\n",
       "      <th>token_end</th>\n",
       "      <th>label</th>\n",
       "      <th>id</th>\n",
       "      <th>text</th>\n",
       "      <th>span</th>\n",
       "    </tr>\n",
       "  </thead>\n",
       "  <tbody>\n",
       "    <tr>\n",
       "      <td>16</td>\n",
       "      <td>24</td>\n",
       "      <td>3</td>\n",
       "      <td>3</td>\n",
       "      <td>AAT_ACTIVITY</td>\n",
       "      <td><a href=\"http://vocab.getty.edu/aat/300226216\" target=\"_blank\">http://vocab.getty.edu/aat/300226216</a></td>\n",
       "      <td>examined</td>\n",
       "      <td><a target='_blank' rel='noopener noreferrer' href='http://vocab.getty.edu/aat/300226216'>examined</a></td>\n",
       "    </tr>\n",
       "  </tbody>\n",
       "</table>"
      ],
      "text/plain": [
       "<IPython.core.display.HTML object>"
      ]
     },
     "metadata": {},
     "output_type": "display_data"
    },
    {
     "data": {
      "text/html": [
       "<hr>"
      ],
      "text/plain": [
       "<IPython.core.display.HTML object>"
      ]
     },
     "metadata": {},
     "output_type": "display_data"
    },
    {
     "data": {
      "text/html": [
       "<h3>[ID: http://www.jstor.org/stable/4603360]</h3>"
      ],
      "text/plain": [
       "<IPython.core.display.HTML object>"
      ]
     },
     "metadata": {},
     "output_type": "display_data"
    },
    {
     "data": {
      "text/plain": [
       "'Since CENTURY models only the top 20 cm of the soil, a uniform bulk density of 1.35 g cm-3, based on the mean of five measurements from fixed-depth 15 to 23 cm samples, was used throughout to calculate outputs on a per unit area basis.'"
      ]
     },
     "metadata": {},
     "output_type": "display_data"
    },
    {
     "data": {
      "text/html": [],
      "text/plain": [
       "<IPython.core.display.HTML object>"
      ]
     },
     "metadata": {},
     "output_type": "display_data"
    },
    {
     "data": {
      "text/html": [
       "<hr>"
      ],
      "text/plain": [
       "<IPython.core.display.HTML object>"
      ]
     },
     "metadata": {},
     "output_type": "display_data"
    },
    {
     "data": {
      "text/html": [
       "<h3>[ID: http://www.jstor.org/stable/23419839]</h3>"
      ],
      "text/plain": [
       "<IPython.core.display.HTML object>"
      ]
     },
     "metadata": {},
     "output_type": "display_data"
    },
    {
     "data": {
      "text/html": [
       "<div class=\"spans\" style=\"line-height: 2.5; direction: ltr\">Subsequently , \n",
       "<span style=\"font-weight: bold; display: inline-block; position: relative; height: 60px;\">\n",
       "    phytosociological\n",
       "    \n",
       "<span style=\"background: lightsalmon; top: 40px; height: 4px; left: -1px; width: calc(100% + 2px); position: absolute;\">\n",
       "</span>\n",
       "\n",
       "    \n",
       "<span style=\"background: lightsalmon; top: 40px; height: 4px; border-top-left-radius: 3px; border-bottom-left-radius: 3px; left: -1px; width: calc(100% + 2px); position: absolute;\">\n",
       "    <span style=\"background: lightsalmon; z-index: 10; color: #000; top: -0.5em; padding: 2px 3px; position: absolute; font-size: 0.6em; font-weight: bold; line-height: 1; border-radius: 3px\">\n",
       "        AAT_ACTIVITY\n",
       "    </span>\n",
       "</span>\n",
       "\n",
       "\n",
       "</span>\n",
       "\n",
       "<span style=\"font-weight: bold; display: inline-block; position: relative; height: 60px;\">\n",
       "    analysis\n",
       "    \n",
       "<span style=\"background: lightsalmon; top: 40px; height: 4px; left: -1px; width: calc(100% + 2px); position: absolute;\">\n",
       "</span>\n",
       "\n",
       "    \n",
       "</span>\n",
       "was performed on the subfossil taxon groups using the software package PALAEOASSOCIA , \n",
       "<span style=\"font-weight: bold; display: inline-block; position: relative; height: 60px;\">\n",
       "    adjusted\n",
       "    \n",
       "<span style=\"background: lightsalmon; top: 40px; height: 4px; left: -1px; width: calc(100% + 2px); position: absolute;\">\n",
       "</span>\n",
       "\n",
       "    \n",
       "<span style=\"background: lightsalmon; top: 40px; height: 4px; border-top-left-radius: 3px; border-bottom-left-radius: 3px; left: -1px; width: calc(100% + 2px); position: absolute;\">\n",
       "    <span style=\"background: lightsalmon; z-index: 10; color: #000; top: -0.5em; padding: 2px 3px; position: absolute; font-size: 0.6em; font-weight: bold; line-height: 1; border-radius: 3px\">\n",
       "        AAT_ACTIVITY\n",
       "    </span>\n",
       "</span>\n",
       "\n",
       "\n",
       "</span>\n",
       "for this type of research . </div>"
      ],
      "text/plain": [
       "<IPython.core.display.HTML object>"
      ]
     },
     "metadata": {},
     "output_type": "display_data"
    },
    {
     "data": {
      "text/html": [
       "<table class=\"dataframe table table-sm table-striped table-light\">\n",
       "  <thead>\n",
       "    <tr style=\"text-align: left;\">\n",
       "      <th>start</th>\n",
       "      <th>end</th>\n",
       "      <th>token_start</th>\n",
       "      <th>token_end</th>\n",
       "      <th>label</th>\n",
       "      <th>id</th>\n",
       "      <th>text</th>\n",
       "      <th>span</th>\n",
       "    </tr>\n",
       "  </thead>\n",
       "  <tbody>\n",
       "    <tr>\n",
       "      <td>14</td>\n",
       "      <td>40</td>\n",
       "      <td>2</td>\n",
       "      <td>3</td>\n",
       "      <td>AAT_ACTIVITY</td>\n",
       "      <td><a href=\"http://vocab.getty.edu/aat/300054595\" target=\"_blank\">http://vocab.getty.edu/aat/300054595</a></td>\n",
       "      <td>phytosociological analysis</td>\n",
       "      <td><a target='_blank' rel='noopener noreferrer' href='http://vocab.getty.edu/aat/300054595'>phytosociological analysis</a></td>\n",
       "    </tr>\n",
       "    <tr>\n",
       "      <td>127</td>\n",
       "      <td>135</td>\n",
       "      <td>17</td>\n",
       "      <td>17</td>\n",
       "      <td>AAT_ACTIVITY</td>\n",
       "      <td><a href=\"http://vocab.getty.edu/aat/300236367\" target=\"_blank\">http://vocab.getty.edu/aat/300236367</a></td>\n",
       "      <td>adjusted</td>\n",
       "      <td><a target='_blank' rel='noopener noreferrer' href='http://vocab.getty.edu/aat/300236367'>adjusted</a></td>\n",
       "    </tr>\n",
       "  </tbody>\n",
       "</table>"
      ],
      "text/plain": [
       "<IPython.core.display.HTML object>"
      ]
     },
     "metadata": {},
     "output_type": "display_data"
    },
    {
     "data": {
      "text/html": [
       "<hr>"
      ],
      "text/plain": [
       "<IPython.core.display.HTML object>"
      ]
     },
     "metadata": {},
     "output_type": "display_data"
    },
    {
     "data": {
      "text/html": [
       "<h3>[ID: http://www.jstor.org/stable/25801161]</h3>"
      ],
      "text/plain": [
       "<IPython.core.display.HTML object>"
      ]
     },
     "metadata": {},
     "output_type": "display_data"
    },
    {
     "data": {
      "text/html": [
       "<div class=\"spans\" style=\"line-height: 2.5; direction: ltr\">Based on the \n",
       "<span style=\"font-weight: bold; display: inline-block; position: relative; height: 60px;\">\n",
       "    trace\n",
       "    \n",
       "<span style=\"background: lightsalmon; top: 40px; height: 4px; left: -1px; width: calc(100% + 2px); position: absolute;\">\n",
       "</span>\n",
       "\n",
       "    \n",
       "<span style=\"background: lightsalmon; top: 40px; height: 4px; border-top-left-radius: 3px; border-bottom-left-radius: 3px; left: -1px; width: calc(100% + 2px); position: absolute;\">\n",
       "    <span style=\"background: lightsalmon; z-index: 10; color: #000; top: -0.5em; padding: 2px 3px; position: absolute; font-size: 0.6em; font-weight: bold; line-height: 1; border-radius: 3px\">\n",
       "        AAT_ACTIVITY\n",
       "    </span>\n",
       "</span>\n",
       "\n",
       "\n",
       "</span>\n",
       "\n",
       "<span style=\"font-weight: bold; display: inline-block; position: relative; height: 60px;\">\n",
       "    element\n",
       "    \n",
       "<span style=\"background: lightsalmon; top: 40px; height: 4px; left: -1px; width: calc(100% + 2px); position: absolute;\">\n",
       "</span>\n",
       "\n",
       "    \n",
       "</span>\n",
       "\n",
       "<span style=\"font-weight: bold; display: inline-block; position: relative; height: 60px;\">\n",
       "    analysis\n",
       "    \n",
       "<span style=\"background: lightsalmon; top: 40px; height: 4px; left: -1px; width: calc(100% + 2px); position: absolute;\">\n",
       "</span>\n",
       "\n",
       "    \n",
       "</span>\n",
       "of obsidian artefacts from 160 archaeological sites , it can be established that the two major deposits of obsidian were being exploited by 9400 BP , and that volcanic glass was being \n",
       "<span style=\"font-weight: bold; display: inline-block; position: relative; height: 60px;\">\n",
       "    transported\n",
       "    \n",
       "<span style=\"background: lightsalmon; top: 40px; height: 4px; left: -1px; width: calc(100% + 2px); position: absolute;\">\n",
       "</span>\n",
       "\n",
       "    \n",
       "<span style=\"background: lightsalmon; top: 40px; height: 4px; border-top-left-radius: 3px; border-bottom-left-radius: 3px; left: -1px; width: calc(100% + 2px); position: absolute;\">\n",
       "    <span style=\"background: lightsalmon; z-index: 10; color: #000; top: -0.5em; padding: 2px 3px; position: absolute; font-size: 0.6em; font-weight: bold; line-height: 1; border-radius: 3px\">\n",
       "        AAT_ACTIVITY\n",
       "    </span>\n",
       "</span>\n",
       "\n",
       "\n",
       "</span>\n",
       "over long distances throughout Andean prehistory . </div>"
      ],
      "text/plain": [
       "<IPython.core.display.HTML object>"
      ]
     },
     "metadata": {},
     "output_type": "display_data"
    },
    {
     "data": {
      "text/html": [
       "<table class=\"dataframe table table-sm table-striped table-light\">\n",
       "  <thead>\n",
       "    <tr style=\"text-align: left;\">\n",
       "      <th>start</th>\n",
       "      <th>end</th>\n",
       "      <th>token_start</th>\n",
       "      <th>token_end</th>\n",
       "      <th>label</th>\n",
       "      <th>id</th>\n",
       "      <th>text</th>\n",
       "      <th>span</th>\n",
       "    </tr>\n",
       "  </thead>\n",
       "  <tbody>\n",
       "    <tr>\n",
       "      <td>13</td>\n",
       "      <td>35</td>\n",
       "      <td>3</td>\n",
       "      <td>5</td>\n",
       "      <td>AAT_ACTIVITY</td>\n",
       "      <td><a href=\"http://vocab.getty.edu/aat/300081693\" target=\"_blank\">http://vocab.getty.edu/aat/300081693</a></td>\n",
       "      <td>trace element analysis</td>\n",
       "      <td><a target='_blank' rel='noopener noreferrer' href='http://vocab.getty.edu/aat/300081693'>trace element analysis</a></td>\n",
       "    </tr>\n",
       "    <tr>\n",
       "      <td>218</td>\n",
       "      <td>229</td>\n",
       "      <td>38</td>\n",
       "      <td>38</td>\n",
       "      <td>AAT_ACTIVITY</td>\n",
       "      <td><a href=\"http://vocab.getty.edu/aat/300053892\" target=\"_blank\">http://vocab.getty.edu/aat/300053892</a></td>\n",
       "      <td>transported</td>\n",
       "      <td><a target='_blank' rel='noopener noreferrer' href='http://vocab.getty.edu/aat/300053892'>transported</a></td>\n",
       "    </tr>\n",
       "  </tbody>\n",
       "</table>"
      ],
      "text/plain": [
       "<IPython.core.display.HTML object>"
      ]
     },
     "metadata": {},
     "output_type": "display_data"
    },
    {
     "data": {
      "text/html": [
       "<hr>"
      ],
      "text/plain": [
       "<IPython.core.display.HTML object>"
      ]
     },
     "metadata": {},
     "output_type": "display_data"
    },
    {
     "data": {
      "text/html": [
       "<h3>[ID: http://www.jstor.org/stable/4603360]</h3>"
      ],
      "text/plain": [
       "<IPython.core.display.HTML object>"
      ]
     },
     "metadata": {},
     "output_type": "display_data"
    },
    {
     "data": {
      "text/html": [
       "<div class=\"spans\" style=\"line-height: 2.5; direction: ltr\">\n",
       "<span style=\"font-weight: bold; display: inline-block; position: relative; height: 60px;\">\n",
       "    Running\n",
       "    \n",
       "<span style=\"background: lightsalmon; top: 40px; height: 4px; left: -1px; width: calc(100% + 2px); position: absolute;\">\n",
       "</span>\n",
       "\n",
       "    \n",
       "<span style=\"background: lightsalmon; top: 40px; height: 4px; border-top-left-radius: 3px; border-bottom-left-radius: 3px; left: -1px; width: calc(100% + 2px); position: absolute;\">\n",
       "    <span style=\"background: lightsalmon; z-index: 10; color: #000; top: -0.5em; padding: 2px 3px; position: absolute; font-size: 0.6em; font-weight: bold; line-height: 1; border-radius: 3px\">\n",
       "        AAT_ACTIVITY\n",
       "    </span>\n",
       "</span>\n",
       "\n",
       "\n",
       "</span>\n",
       "the CENTURY Model The modelled data were \n",
       "<span style=\"font-weight: bold; display: inline-block; position: relative; height: 60px;\">\n",
       "    analyzed\n",
       "    \n",
       "<span style=\"background: lightsalmon; top: 40px; height: 4px; left: -1px; width: calc(100% + 2px); position: absolute;\">\n",
       "</span>\n",
       "\n",
       "    \n",
       "<span style=\"background: lightsalmon; top: 40px; height: 4px; border-top-left-radius: 3px; border-bottom-left-radius: 3px; left: -1px; width: calc(100% + 2px); position: absolute;\">\n",
       "    <span style=\"background: lightsalmon; z-index: 10; color: #000; top: -0.5em; padding: 2px 3px; position: absolute; font-size: 0.6em; font-weight: bold; line-height: 1; border-radius: 3px\">\n",
       "        AAT_ACTIVITY\n",
       "    </span>\n",
       "</span>\n",
       "\n",
       "\n",
       "</span>\n",
       "in two batches of runs of the CENTURY model , using the generated range of 20 starting values . </div>"
      ],
      "text/plain": [
       "<IPython.core.display.HTML object>"
      ]
     },
     "metadata": {},
     "output_type": "display_data"
    },
    {
     "data": {
      "text/html": [
       "<table class=\"dataframe table table-sm table-striped table-light\">\n",
       "  <thead>\n",
       "    <tr style=\"text-align: left;\">\n",
       "      <th>start</th>\n",
       "      <th>end</th>\n",
       "      <th>token_start</th>\n",
       "      <th>token_end</th>\n",
       "      <th>label</th>\n",
       "      <th>id</th>\n",
       "      <th>text</th>\n",
       "      <th>span</th>\n",
       "    </tr>\n",
       "  </thead>\n",
       "  <tbody>\n",
       "    <tr>\n",
       "      <td>0</td>\n",
       "      <td>7</td>\n",
       "      <td>0</td>\n",
       "      <td>0</td>\n",
       "      <td>AAT_ACTIVITY</td>\n",
       "      <td><a href=\"http://vocab.getty.edu/aat/300239496\" target=\"_blank\">http://vocab.getty.edu/aat/300239496</a></td>\n",
       "      <td>Running</td>\n",
       "      <td><a target='_blank' rel='noopener noreferrer' href='http://vocab.getty.edu/aat/300239496'>Running</a></td>\n",
       "    </tr>\n",
       "    <tr>\n",
       "      <td>49</td>\n",
       "      <td>57</td>\n",
       "      <td>8</td>\n",
       "      <td>8</td>\n",
       "      <td>AAT_ACTIVITY</td>\n",
       "      <td><a href=\"http://vocab.getty.edu/aat/300054595\" target=\"_blank\">http://vocab.getty.edu/aat/300054595</a></td>\n",
       "      <td>analyzed</td>\n",
       "      <td><a target='_blank' rel='noopener noreferrer' href='http://vocab.getty.edu/aat/300054595'>analyzed</a></td>\n",
       "    </tr>\n",
       "  </tbody>\n",
       "</table>"
      ],
      "text/plain": [
       "<IPython.core.display.HTML object>"
      ]
     },
     "metadata": {},
     "output_type": "display_data"
    },
    {
     "data": {
      "text/html": [
       "<hr>"
      ],
      "text/plain": [
       "<IPython.core.display.HTML object>"
      ]
     },
     "metadata": {},
     "output_type": "display_data"
    }
   ],
   "source": [
    "import spacy # for NER processing\n",
    "from spacy import displacy # for visualisation of NER tagged text\n",
    "from spacy.tokens import Span\n",
    "import srsly # for JSONL serialization/deserialization\n",
    "import os\n",
    "import json\n",
    "from slugify import slugify # for valid filenames\n",
    "from rematch2 import VocabularyRuler, DocSummary, TextNormalizer, child_span_remover # custom vocabulary-based NER components\n",
    "from IPython.display import display, HTML\n",
    "\n",
    "\n",
    "# check if a given span exists in a list of spans\n",
    "# comparing start/end positions and label\n",
    "def span_exists(span: dict, lst: list) -> bool:\n",
    "    #start = span.start #or 0\n",
    "    #end = span.end #or 0\n",
    "    #label = span.label #or \"\"\n",
    "    return any(\n",
    "        item[\"start\"] == span.get(\"start\", 0)\n",
    "        and item[\"end\"] == span.get(\"end\", 0) \n",
    "        and item[\"label\"] == span.get(\"label\", \"\") for item in lst\n",
    "    )           \n",
    "\n",
    "# for reading supplementary lists from JSON files\n",
    "def read_json(file_name):\n",
    "    data = []\n",
    "    try:\n",
    "        with open(file_name, \"r\") as f:\n",
    "            data = json.load(f)\n",
    "    except Exception as e:\n",
    "        print(f\"Problem reading \\\"{file_name}\\\": {e}\")\n",
    "    return data\n",
    "\n",
    "if __name__ == '__main__':\n",
    "    # read JSONL input data from file\n",
    "    input_file_path = \"./data/athena\"\n",
    "    input_file_name1 = \"sample_input.jsonl\"\n",
    "    input_file_name2 = \"sample_annotated_output.jsonl\"\n",
    "    #input_file_name3 = \"journal_metadata.jsonl\"\n",
    "    #input_file_name4 = \"report_metadata.jsonl\"\n",
    "\n",
    "    supp_list_act = read_json(\"./supp_list_en_AAT_ACTIVITIES.json\")\n",
    "\n",
    "    # change this to process other files   \n",
    "    input_file_name = input_file_name2 \n",
    "\n",
    "    input_file_full = os.path.join(input_file_path, input_file_name) \n",
    "    data: list = list(srsly.read_jsonl(input_file_full))\n",
    "\n",
    "    # set up default base NER pipeline (English)\n",
    "    nlp = spacy.load(\"en_core_web_sm\", disable = ['ner'])\n",
    "    \n",
    "    # add custom pipeline NER components\n",
    "    nlp.add_pipe(\"normalize_text\", before = \"tagger\")\n",
    "    nlp.add_pipe(\"fish_event_types_ruler\", last=True)   \n",
    "    nlp.add_pipe(\"fish_archsciences_ruler\", last=True) \n",
    "    nlp.add_pipe(\"aat_activities_ruler\", last=True, config={\"supp_list\": supp_list_act}) \n",
    "    nlp.add_pipe(\"child_span_remover\", last=True) \n",
    "    \n",
    "    # process each item in the input data\n",
    "    for item in data:\n",
    "        identifier = item.get(\"meta\", {}).get(\"id\", \"\").strip()\n",
    "        text = item.get(\"text\", \"\")\n",
    "        # run NER pipeline against input text\n",
    "        doc = nlp(text)\n",
    "        \n",
    "        # display HTML summary of NER results (see below)\n",
    "        summary = DocSummary(doc)\n",
    "        display(HTML(f\"<h3>[ID: {identifier}]</h3>\"))\n",
    "        if(len(summary.spans) == 0):\n",
    "            display(text)\n",
    "        else:\n",
    "            display(HTML(summary.doctext_to_html()))\n",
    "        \n",
    "        display(HTML(summary.spans_to_html()))\n",
    "        #display(HTML(summary.tokens(format=\"html\")))\n",
    "        display(HTML(\"<hr>\"))\n",
    "\n",
    "        # add new spans to the existing spans array,\n",
    "        # checking for duplicates (in case multiple runs)\n",
    "        the_spans: list = item.get(\"spans\", []) \n",
    "        new_spans = summary.spans_to_list()\n",
    "        for span in new_spans:\n",
    "            if not span_exists(span, the_spans):\n",
    "                the_spans.append(span)\n",
    "        item[\"spans\"] = the_spans\n",
    "        #item[\"tokens2\"] = summary.tokens_to_list()\n",
    "    \n",
    "    # create output file path if it does not already exist\n",
    "    output_file_path = os.path.join(input_file_path, \"output\")\n",
    "    if not os.path.exists(output_file_path):\n",
    "        os.makedirs(output_file_path)\n",
    "\n",
    "    # output the modified structure to a (new) JSONL file    \n",
    "    output_file_name = os.path.join(output_file_path, f\"{slugify(input_file_name)}-plus-vocab-ner.jsonl\") \n",
    "    srsly.write_jsonl(output_file_name, data) \n"
   ]
  }
 ],
 "metadata": {
  "kernelspec": {
   "display_name": "Python 3",
   "language": "python",
   "name": "python3"
  },
  "language_info": {
   "codemirror_mode": {
    "name": "ipython",
    "version": 3
   },
   "file_extension": ".py",
   "mimetype": "text/x-python",
   "name": "python",
   "nbconvert_exporter": "python",
   "pygments_lexer": "ipython3",
   "version": "3.12.1"
  }
 },
 "nbformat": 4,
 "nbformat_minor": 2
}
