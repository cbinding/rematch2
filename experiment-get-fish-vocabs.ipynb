{
 "cells": [
  {
   "cell_type": "code",
   "execution_count": 1,
   "metadata": {},
   "outputs": [],
   "source": [
    "%%capture\n",
    "\n",
    "import warnings\n",
    "# suppress user warnings during execution\n",
    "warnings.filterwarnings(action='ignore', category=UserWarning)\n",
    "\n",
    "# load required dependencies\n",
    "%pip install --upgrade pip"
   ]
  },
  {
   "cell_type": "code",
   "execution_count": 11,
   "metadata": {},
   "outputs": [],
   "source": [
    "import os\n",
    "import requests\n",
    "import zipfile\n",
    "from slugify import slugify\n",
    "import sqlite3\n",
    "import pandas\n",
    "from urllib.parse import urlparse, unquote\n",
    "\n",
    "def download_file(url: str, local_file_name: str, chunk_size: int=128):    \n",
    "    response = requests.get(remote_url, timeout=30, stream=True)\n",
    "    with open(local_file_name, 'wb') as f:\n",
    "        for chunk in response.iter_content(chunk_size=chunk_size):\n",
    "            f.write(chunk)\n",
    "\n",
    "\n",
    "# get zip files of CSV data from https://heritage-standards.org.uk/fish-vocabularies/    \n",
    "remote_file_urls = [\n",
    "    r\"https://heritage-standards.org.uk/2024/zip_files/FISH_Archaeological_Objects.zip\",\n",
    "    r\"https://heritage-standards.org.uk/2024/zip_files/FISH_Archaeological_Science.zip\",\n",
    "    r\"https://heritage-standards.org.uk/2024/zip_files/FISH_Monument_Type.zip\"    \n",
    "]\n",
    "\n",
    "# ensure local file path exists first\n",
    "local_file_path = r\"./data/fish/\"\n",
    "if not os.path.exists(local_file_path):\n",
    "    os.makedirs(local_file_path)\n",
    "\n",
    "for url in remote_file_urls:\n",
    "    file_name = unquote(urlparse(url).path.split(\"/\")[-1])\n",
    "\n",
    "    # cache the zip file locally\n",
    "    local_file_name = os.path.join(local_file_path, file_name)\n",
    "    download_file(remote_file_url, local_file_name)\n",
    "\n",
    "    # create directory to extract zip contents into\n",
    "    local_directory = os.path.join(local_file_path, slugify(file_name))\n",
    "    if not os.path.exists(local_directory):\n",
    "        os.makedirs(local_directory)\n",
    "\n",
    "    # extract zip contents locally    \n",
    "    with zipfile.ZipFile(local_file_name, 'r') as zf:\n",
    "        zf.extractall(local_directory)\n",
    "\n",
    "    # import CSV and consolidate to DB to query it\n",
    "    conn = sqlite3.connect(\"mydata.db\")\n",
    "\n",
    "    # then do this for EACH csv file extracted...\n",
    "    #df = pandas.read_csv(csvfile)\n",
    "    #df.to_sql(table_name, conn, if_exists='overwrite', index=False) \n",
    "    conn.close()\n",
    "    # clean data then convert to SKOS\n",
    "\n",
    "\n",
    "    # save converted SKOS locally\n",
    "\n"
   ]
  }
 ],
 "metadata": {
  "kernelspec": {
   "display_name": "Python 3",
   "language": "python",
   "name": "python3"
  },
  "language_info": {
   "codemirror_mode": {
    "name": "ipython",
    "version": 3
   },
   "file_extension": ".py",
   "mimetype": "text/x-python",
   "name": "python",
   "nbconvert_exporter": "python",
   "pygments_lexer": "ipython3",
   "version": "3.12.3"
  }
 },
 "nbformat": 4,
 "nbformat_minor": 2
}
