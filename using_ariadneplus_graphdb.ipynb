{
 "cells": [
  {
   "cell_type": "code",
   "execution_count": 1,
   "metadata": {},
   "outputs": [
    {
     "name": "stdout",
     "output_type": "stream",
     "text": [
      "Collecting SPARQLWrapper\n",
      "  Downloading SPARQLWrapper-2.0.0-py3-none-any.whl (28 kB)\n",
      "Collecting rdflib>=6.1.1\n",
      "  Downloading rdflib-6.2.0-py3-none-any.whl (500 kB)\n",
      "\u001b[2K     \u001b[90m━━━━━━━━━━━━━━━━━━━━━━━━━━━━━━━━━━━━━━\u001b[0m \u001b[32m500.3/500.3 kB\u001b[0m \u001b[31m35.7 MB/s\u001b[0m eta \u001b[36m0:00:00\u001b[0m\n",
      "\u001b[?25hRequirement already satisfied: pyparsing in /home/gitpod/.pyenv/versions/3.8.13/lib/python3.8/site-packages (from rdflib>=6.1.1->SPARQLWrapper) (3.0.9)\n",
      "Requirement already satisfied: setuptools in /home/gitpod/.pyenv/versions/3.8.13/lib/python3.8/site-packages (from rdflib>=6.1.1->SPARQLWrapper) (62.5.0)\n",
      "Collecting isodate\n",
      "  Downloading isodate-0.6.1-py2.py3-none-any.whl (41 kB)\n",
      "\u001b[2K     \u001b[90m━━━━━━━━━━━━━━━━━━━━━━━━━━━━━━━━━━━━━━━━\u001b[0m \u001b[32m41.7/41.7 kB\u001b[0m \u001b[31m18.6 MB/s\u001b[0m eta \u001b[36m0:00:00\u001b[0m\n",
      "\u001b[?25hRequirement already satisfied: six in /home/gitpod/.pyenv/versions/3.8.13/lib/python3.8/site-packages (from isodate->rdflib>=6.1.1->SPARQLWrapper) (1.16.0)\n",
      "Installing collected packages: isodate, rdflib, SPARQLWrapper\n",
      "Successfully installed SPARQLWrapper-2.0.0 isodate-0.6.1 rdflib-6.2.0\n",
      "\n",
      "\u001b[1m[\u001b[0m\u001b[34;49mnotice\u001b[0m\u001b[1;39;49m]\u001b[0m\u001b[39;49m A new release of pip available: \u001b[0m\u001b[31;49m22.1.2\u001b[0m\u001b[39;49m -> \u001b[0m\u001b[32;49m22.2.2\u001b[0m\n",
      "\u001b[1m[\u001b[0m\u001b[34;49mnotice\u001b[0m\u001b[1;39;49m]\u001b[0m\u001b[39;49m To update, run: \u001b[0m\u001b[32;49mpip install --upgrade pip\u001b[0m\n",
      "Note: you may need to restart the kernel to use updated packages.\n",
      "Collecting prettytable\n",
      "  Downloading prettytable-3.4.1-py3-none-any.whl (26 kB)\n",
      "Requirement already satisfied: wcwidth in /home/gitpod/.pyenv/versions/3.8.13/lib/python3.8/site-packages (from prettytable) (0.2.5)\n",
      "Installing collected packages: prettytable\n",
      "Successfully installed prettytable-3.4.1\n",
      "\n",
      "\u001b[1m[\u001b[0m\u001b[34;49mnotice\u001b[0m\u001b[1;39;49m]\u001b[0m\u001b[39;49m A new release of pip available: \u001b[0m\u001b[31;49m22.1.2\u001b[0m\u001b[39;49m -> \u001b[0m\u001b[32;49m22.2.2\u001b[0m\n",
      "\u001b[1m[\u001b[0m\u001b[34;49mnotice\u001b[0m\u001b[1;39;49m]\u001b[0m\u001b[39;49m To update, run: \u001b[0m\u001b[32;49mpip install --upgrade pip\u001b[0m\n",
      "Note: you may need to restart the kernel to use updated packages.\n"
     ]
    }
   ],
   "source": [
    "#install libraries\n",
    "%pip install rdflib\n",
    "%pip install SPARQLWrapper\n",
    "%pip install prettytable"
   ]
  },
  {
   "cell_type": "code",
   "execution_count": 9,
   "metadata": {},
   "outputs": [
    {
     "name": "stdout",
     "output_type": "stream",
     "text": [
      "https://www.ariadne-infrastructure.eu/resource/ao/cat/1.1/AO_Spatial_Region_Point 14486434\n",
      "https://www.ariadne-infrastructure.eu/resource/ao/cat/1.1/AO_Individual_Data_Resource 1772570\n",
      "http://www.w3.org/2002/07/owl#Thing 1685478\n",
      "https://www.ariadne-infrastructure.eu/resource/ao/cat/1.1/AO_Object 1527745\n",
      "http://www.cidoc-crm.org/cidoc-crm/E31_Document 601428\n",
      "https://www.ariadne-infrastructure.eu/resource/ao/cat/1.1/AO_Event 524722\n",
      "https://www.ariadne-infrastructure.eu/resource/ao/cat/1.1/AO_Spatial_Region 498317\n",
      "https://www.ariadne-infrastructure.eu/resource/ao/cat/1.1/AO_Temporal_Region 374339\n",
      "https://www.ariadne-infrastructure.eu/resource/ao/cat/1.1/AO_Spatial_Region_Polygon 273378\n",
      "https://www.ariadne-infrastructure.eu/resource/ao/cat/1.1/AO_Document 184472\n"
     ]
    }
   ],
   "source": [
    "#imports\n",
    "from rdflib import Graph\n",
    "from SPARQLWrapper import SPARQLWrapper, JSON, N3\n",
    "from pprint import pprint\n",
    "\n",
    "# endpoints and repositories\n",
    "ENDPOINT_STAGING = r\"https://graphdb-test.ariadne.d4science.org/\"\n",
    "REPOSITORY_STAGING = f\"{ENDPOINT_STAGING}repositories/ariadneplus-ts01\"\n",
    "\n",
    "ENDPOINT_PRODUCTION = r\"https://graphdb-test.ariadne.d4science.org/\"\n",
    "REPOSITORY_PRODUCTION = f\"{ENDPOINT_PRODUCTION}repositories/ariadneplus-pr01\"\n",
    "\n",
    "sparql = SPARQLWrapper(REPOSITORY_STAGING)\n",
    "\n",
    "query1 = \"\"\"\n",
    "    PREFIX  aocat: <https://www.ariadne-infrastructure.eu/resource/ao/cat/1.1/>\n",
    "    SELECT *\n",
    "    WHERE { \n",
    "        ?c rdf:type aocat:AO_Collection .\n",
    "        ?c ?p ?o .\n",
    "    }\n",
    "    LIMIT 10\n",
    "\"\"\"\n",
    "# to test queries use https://graphdb-test.ariadne.d4science.org/sparql\n",
    "query2 = \"\"\"\n",
    "    PREFIX  aocat: <https://www.ariadne-infrastructure.eu/resource/ao/cat/1.1/>\n",
    "    PREFIX rdf: <http://www.w3.org/1999/02/22-rdf-syntax-ns#>\n",
    "    SELECT ?t (COUNT(?t) AS ?counter)\n",
    "    WHERE { \n",
    "        ?c rdf:type ?t .        \n",
    "    }\n",
    "    GROUP BY ?t \n",
    "    ORDER BY DESC(?counter)\n",
    "    LIMIT 10\n",
    "\"\"\"\n",
    "\n",
    "sparql.setQuery(query2)\n",
    "sparql.setReturnFormat(JSON)\n",
    "sparql.setMethod('POST')\n",
    "qres = sparql.query().convert()\n",
    "for result in qres['results']['bindings']:\n",
    "    #s,p,o = result['c']['value'], result['p']['value'].rsplit('/', 1)[1], result['o']['value']\n",
    "    #print(f'{s} | {p} | {o}' )\n",
    "   \n",
    "    print(f\"{result['t']['value']} {result['counter']['value']}\")"
   ]
  }
 ],
 "metadata": {
  "kernelspec": {
   "display_name": "Python 3.8.13 64-bit ('3.8.13')",
   "language": "python",
   "name": "python3"
  },
  "language_info": {
   "codemirror_mode": {
    "name": "ipython",
    "version": 3
   },
   "file_extension": ".py",
   "mimetype": "text/x-python",
   "name": "python",
   "nbconvert_exporter": "python",
   "pygments_lexer": "ipython3",
   "version": "3.8.13"
  },
  "orig_nbformat": 4,
  "vscode": {
   "interpreter": {
    "hash": "110cc1dee26208153f2972f08a2ad52b6a56238dc66d48e87fb757ef2996db56"
   }
  }
 },
 "nbformat": 4,
 "nbformat_minor": 2
}
