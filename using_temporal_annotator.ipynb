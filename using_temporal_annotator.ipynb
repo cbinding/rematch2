{
 "cells": [
  {
   "cell_type": "code",
   "execution_count": 1,
   "metadata": {},
   "outputs": [
    {
     "name": "stdout",
     "output_type": "stream",
     "text": [
      "Defaulting to user installation because normal site-packages is not writeable\n",
      "Requirement already satisfied: spacy in /home/gitpod/.local/lib/python3.9/site-packages (3.5.0)\n",
      "Requirement already satisfied: srsly<3.0.0,>=2.4.3 in /home/gitpod/.local/lib/python3.9/site-packages (from spacy) (2.4.5)\n",
      "Requirement already satisfied: typer<0.8.0,>=0.3.0 in /home/gitpod/.local/lib/python3.9/site-packages (from spacy) (0.7.0)\n",
      "Requirement already satisfied: packaging>=20.0 in /home/gitpod/.local/lib/python3.9/site-packages (from spacy) (23.0)\n",
      "Requirement already satisfied: cymem<2.1.0,>=2.0.2 in /home/gitpod/.local/lib/python3.9/site-packages (from spacy) (2.0.7)\n",
      "Requirement already satisfied: pathy>=0.10.0 in /home/gitpod/.local/lib/python3.9/site-packages (from spacy) (0.10.1)\n",
      "Requirement already satisfied: numpy>=1.15.0 in /home/gitpod/.local/lib/python3.9/site-packages (from spacy) (1.24.1)\n",
      "Requirement already satisfied: tqdm<5.0.0,>=4.38.0 in /home/gitpod/.local/lib/python3.9/site-packages (from spacy) (4.64.1)\n",
      "Requirement already satisfied: spacy-legacy<3.1.0,>=3.0.11 in /home/gitpod/.local/lib/python3.9/site-packages (from spacy) (3.0.12)\n",
      "Requirement already satisfied: spacy-loggers<2.0.0,>=1.0.0 in /home/gitpod/.local/lib/python3.9/site-packages (from spacy) (1.0.4)\n",
      "Requirement already satisfied: smart-open<7.0.0,>=5.2.1 in /home/gitpod/.local/lib/python3.9/site-packages (from spacy) (6.3.0)\n",
      "Requirement already satisfied: jinja2 in /home/gitpod/.local/lib/python3.9/site-packages (from spacy) (3.1.2)\n",
      "Requirement already satisfied: langcodes<4.0.0,>=3.2.0 in /home/gitpod/.local/lib/python3.9/site-packages (from spacy) (3.3.0)\n",
      "Requirement already satisfied: preshed<3.1.0,>=3.0.2 in /home/gitpod/.local/lib/python3.9/site-packages (from spacy) (3.0.8)\n",
      "Requirement already satisfied: thinc<8.2.0,>=8.1.0 in /home/gitpod/.local/lib/python3.9/site-packages (from spacy) (8.1.7)\n",
      "Requirement already satisfied: requests<3.0.0,>=2.13.0 in /home/gitpod/.local/lib/python3.9/site-packages (from spacy) (2.28.2)\n",
      "Requirement already satisfied: pydantic!=1.8,!=1.8.1,<1.11.0,>=1.7.4 in /home/gitpod/.local/lib/python3.9/site-packages (from spacy) (1.10.4)\n",
      "Requirement already satisfied: catalogue<2.1.0,>=2.0.6 in /home/gitpod/.local/lib/python3.9/site-packages (from spacy) (2.0.8)\n",
      "Requirement already satisfied: wasabi<1.2.0,>=0.9.1 in /home/gitpod/.local/lib/python3.9/site-packages (from spacy) (1.1.1)\n",
      "Requirement already satisfied: murmurhash<1.1.0,>=0.28.0 in /home/gitpod/.local/lib/python3.9/site-packages (from spacy) (1.0.9)\n",
      "Requirement already satisfied: setuptools in /usr/local/lib/python3.9/site-packages (from spacy) (58.1.0)\n",
      "Requirement already satisfied: typing-extensions>=4.2.0 in /home/gitpod/.local/lib/python3.9/site-packages (from pydantic!=1.8,!=1.8.1,<1.11.0,>=1.7.4->spacy) (4.4.0)\n",
      "Requirement already satisfied: charset-normalizer<4,>=2 in /home/gitpod/.local/lib/python3.9/site-packages (from requests<3.0.0,>=2.13.0->spacy) (3.0.1)\n",
      "Requirement already satisfied: idna<4,>=2.5 in /home/gitpod/.local/lib/python3.9/site-packages (from requests<3.0.0,>=2.13.0->spacy) (3.4)\n",
      "Requirement already satisfied: urllib3<1.27,>=1.21.1 in /home/gitpod/.local/lib/python3.9/site-packages (from requests<3.0.0,>=2.13.0->spacy) (1.26.14)\n",
      "Requirement already satisfied: certifi>=2017.4.17 in /usr/local/lib/python3.9/site-packages (from requests<3.0.0,>=2.13.0->spacy) (2022.9.24)\n",
      "Requirement already satisfied: confection<1.0.0,>=0.0.1 in /home/gitpod/.local/lib/python3.9/site-packages (from thinc<8.2.0,>=8.1.0->spacy) (0.0.4)\n",
      "Requirement already satisfied: blis<0.8.0,>=0.7.8 in /home/gitpod/.local/lib/python3.9/site-packages (from thinc<8.2.0,>=8.1.0->spacy) (0.7.9)\n",
      "Requirement already satisfied: click<9.0.0,>=7.1.1 in /home/gitpod/.local/lib/python3.9/site-packages (from typer<0.8.0,>=0.3.0->spacy) (8.1.3)\n",
      "Requirement already satisfied: MarkupSafe>=2.0 in /home/gitpod/.local/lib/python3.9/site-packages (from jinja2->spacy) (2.1.2)\n",
      "Note: you may need to restart the kernel to use updated packages.\n",
      "Defaulting to user installation because normal site-packages is not writeable\n",
      "Requirement already satisfied: ipywidgets in /home/gitpod/.local/lib/python3.9/site-packages (8.0.4)\n",
      "Requirement already satisfied: jupyterlab-widgets~=3.0 in /home/gitpod/.local/lib/python3.9/site-packages (from ipywidgets) (3.0.5)\n",
      "Requirement already satisfied: ipykernel>=4.5.1 in /home/gitpod/.local/lib/python3.9/site-packages (from ipywidgets) (6.20.2)\n",
      "Requirement already satisfied: ipython>=6.1.0 in /home/gitpod/.local/lib/python3.9/site-packages (from ipywidgets) (8.8.0)\n",
      "Requirement already satisfied: traitlets>=4.3.1 in /home/gitpod/.local/lib/python3.9/site-packages (from ipywidgets) (5.8.1)\n",
      "Requirement already satisfied: widgetsnbextension~=4.0 in /home/gitpod/.local/lib/python3.9/site-packages (from ipywidgets) (4.0.5)\n",
      "Requirement already satisfied: comm>=0.1.1 in /home/gitpod/.local/lib/python3.9/site-packages (from ipykernel>=4.5.1->ipywidgets) (0.1.2)\n",
      "Requirement already satisfied: matplotlib-inline>=0.1 in /home/gitpod/.local/lib/python3.9/site-packages (from ipykernel>=4.5.1->ipywidgets) (0.1.6)\n",
      "Requirement already satisfied: tornado>=6.1 in /home/gitpod/.local/lib/python3.9/site-packages (from ipykernel>=4.5.1->ipywidgets) (6.2)\n",
      "Requirement already satisfied: packaging in /home/gitpod/.local/lib/python3.9/site-packages (from ipykernel>=4.5.1->ipywidgets) (23.0)\n",
      "Requirement already satisfied: nest-asyncio in /home/gitpod/.local/lib/python3.9/site-packages (from ipykernel>=4.5.1->ipywidgets) (1.5.6)\n",
      "Requirement already satisfied: pyzmq>=17 in /home/gitpod/.local/lib/python3.9/site-packages (from ipykernel>=4.5.1->ipywidgets) (25.0.0)\n",
      "Requirement already satisfied: jupyter-client>=6.1.12 in /home/gitpod/.local/lib/python3.9/site-packages (from ipykernel>=4.5.1->ipywidgets) (7.4.9)\n",
      "Requirement already satisfied: debugpy>=1.0 in /home/gitpod/.local/lib/python3.9/site-packages (from ipykernel>=4.5.1->ipywidgets) (1.6.6)\n",
      "Requirement already satisfied: psutil in /home/gitpod/.local/lib/python3.9/site-packages (from ipykernel>=4.5.1->ipywidgets) (5.9.4)\n",
      "Requirement already satisfied: backcall in /home/gitpod/.local/lib/python3.9/site-packages (from ipython>=6.1.0->ipywidgets) (0.2.0)\n",
      "Requirement already satisfied: pexpect>4.3 in /home/gitpod/.local/lib/python3.9/site-packages (from ipython>=6.1.0->ipywidgets) (4.8.0)\n",
      "Requirement already satisfied: jedi>=0.16 in /home/gitpod/.local/lib/python3.9/site-packages (from ipython>=6.1.0->ipywidgets) (0.18.2)\n",
      "Requirement already satisfied: pygments>=2.4.0 in /home/gitpod/.local/lib/python3.9/site-packages (from ipython>=6.1.0->ipywidgets) (2.14.0)\n",
      "Requirement already satisfied: prompt-toolkit<3.1.0,>=3.0.11 in /home/gitpod/.local/lib/python3.9/site-packages (from ipython>=6.1.0->ipywidgets) (3.0.36)\n",
      "Requirement already satisfied: pickleshare in /home/gitpod/.local/lib/python3.9/site-packages (from ipython>=6.1.0->ipywidgets) (0.7.5)\n",
      "Requirement already satisfied: decorator in /home/gitpod/.local/lib/python3.9/site-packages (from ipython>=6.1.0->ipywidgets) (5.1.1)\n",
      "Requirement already satisfied: stack-data in /home/gitpod/.local/lib/python3.9/site-packages (from ipython>=6.1.0->ipywidgets) (0.6.2)\n",
      "Requirement already satisfied: parso<0.9.0,>=0.8.0 in /home/gitpod/.local/lib/python3.9/site-packages (from jedi>=0.16->ipython>=6.1.0->ipywidgets) (0.8.3)\n",
      "Requirement already satisfied: python-dateutil>=2.8.2 in /home/gitpod/.local/lib/python3.9/site-packages (from jupyter-client>=6.1.12->ipykernel>=4.5.1->ipywidgets) (2.8.2)\n",
      "Requirement already satisfied: entrypoints in /home/gitpod/.local/lib/python3.9/site-packages (from jupyter-client>=6.1.12->ipykernel>=4.5.1->ipywidgets) (0.4)\n",
      "Requirement already satisfied: jupyter-core>=4.9.2 in /home/gitpod/.local/lib/python3.9/site-packages (from jupyter-client>=6.1.12->ipykernel>=4.5.1->ipywidgets) (5.1.4)\n",
      "Requirement already satisfied: ptyprocess>=0.5 in /home/gitpod/.local/lib/python3.9/site-packages (from pexpect>4.3->ipython>=6.1.0->ipywidgets) (0.7.0)\n",
      "Requirement already satisfied: wcwidth in /home/gitpod/.local/lib/python3.9/site-packages (from prompt-toolkit<3.1.0,>=3.0.11->ipython>=6.1.0->ipywidgets) (0.2.6)\n",
      "Requirement already satisfied: pure-eval in /home/gitpod/.local/lib/python3.9/site-packages (from stack-data->ipython>=6.1.0->ipywidgets) (0.2.2)\n",
      "Requirement already satisfied: asttokens>=2.1.0 in /home/gitpod/.local/lib/python3.9/site-packages (from stack-data->ipython>=6.1.0->ipywidgets) (2.2.1)\n",
      "Requirement already satisfied: executing>=1.2.0 in /home/gitpod/.local/lib/python3.9/site-packages (from stack-data->ipython>=6.1.0->ipywidgets) (1.2.0)\n",
      "Requirement already satisfied: six in /home/gitpod/.local/lib/python3.9/site-packages (from asttokens>=2.1.0->stack-data->ipython>=6.1.0->ipywidgets) (1.16.0)\n",
      "Requirement already satisfied: platformdirs>=2.5 in /usr/local/lib/python3.9/site-packages (from jupyter-core>=4.9.2->jupyter-client>=6.1.12->ipykernel>=4.5.1->ipywidgets) (2.5.4)\n",
      "Note: you may need to restart the kernel to use updated packages.\n"
     ]
    }
   ],
   "source": [
    "# pre-install required libraries\n",
    "import warnings\n",
    "#%pip install -upgrade pip\n",
    "%pip install spacy\n",
    "%pip install ipywidgets\n",
    "#%pip install -U jupyter\n",
    "%sx python -m spacy download de_core_news_sm\n",
    "%sx python -m spacy download en_core_web_sm\n",
    "%sx python -m spacy download es_core_news_sm\n",
    "%sx python -m spacy download fr_core_news_sm\n",
    "%sx python -m spacy download it_core_news_sm\n",
    "%sx python -m spacy download nl_core_news_sm\n",
    "%sx python -m spacy download nb_core_news_sm\n",
    "%sx python -m spacy download sv_core_news_sm\n",
    "\n",
    "# suppress user warnings during execution\n",
    "warnings.filterwarnings(action='ignore', category=UserWarning)\n"
   ]
  },
  {
   "cell_type": "markdown",
   "metadata": {},
   "source": [
    "# Using the TemporalAnnotator\n",
    "## Introduction\n",
    "The TemporalAnnotator includes a series of custom spaCy pipeline components to perform matching on temporal terms or phrases as observed in archaeology texts. It identifies the following entity types:\n",
    "\n",
    "| Entity Type | Description | Examples |\n",
    "| ------------|-------------| --------:|\n",
    "| CENTURY     | Ordinal century expressions | *early 15th century BC to late fifteenth century AD* |\n",
    "| YEARSPAN    | Spans of years (possibly with prefixes and/or suffixes) | *early 1300 to late 1350 AD* |\n",
    "| NAMEDPERIOD | Period labels from a specified [Perio.do](https://perio.do/en/) authority | *Bronze Age, Early Medieval, Victorian* |\n",
    "\n",
    "The following example code tests the TemporalAnnotator with some example text. For looking up named periods it uses Perio.do authority id [p0kh9ds](http://n2t.net/ark:/99152/p0kh9ds) (references the Historic England Periods List)"
   ]
  },
  {
   "cell_type": "code",
   "execution_count": 2,
   "metadata": {},
   "outputs": [
    {
     "data": {
      "text/html": [
       "<span class=\"tex2jax_ignore\"><div class=\"entities\" style=\"line-height: 2.5; direction: ltr\">This collection comprises site data(reports, images, GIS data and a project database) from an archaeological excavation at Lydney B Phase II, Archers Walk, Lydney, Gloucestershire undertaken by Cotswold Archaeology between February and \n",
       "<mark class=\"entity\" style=\"background: steelblue; padding: 0.45em 0.6em; margin: 0 0.25em; line-height: 1; border-radius: 0.35em;\">\n",
       "    May 2018\n",
       "    <span style=\"font-size: 0.8em; font-weight: bold; line-height: 1; border-radius: 0.35em; vertical-align: middle; margin-left: 0.5rem\">YEARSPAN</span>\n",
       "</mark>\n",
       ". An area of 1.47ha was excavated within this part of a wider development area. The earliest remains comprised three broadly datable flints, all found as residual finds. An \n",
       "<mark class=\"entity\" style=\"background: lightpink; padding: 0.45em 0.6em; margin: 0 0.25em; line-height: 1; border-radius: 0.35em;\">\n",
       "    Early Bronze Age\n",
       "    <span style=\"font-size: 0.8em; font-weight: bold; line-height: 1; border-radius: 0.35em; vertical-align: middle; margin-left: 0.5rem\">NAMEDPERIOD</span>\n",
       "</mark>\n",
       " collared urn within a small pit may be the remains of a grave, although no human remains were found. The first evidence for occupation is from the \n",
       "<mark class=\"entity\" style=\"background: lightpink; padding: 0.45em 0.6em; margin: 0 0.25em; line-height: 1; border-radius: 0.35em;\">\n",
       "    Roman\n",
       "    <span style=\"font-size: 0.8em; font-weight: bold; line-height: 1; border-radius: 0.35em; vertical-align: middle; margin-left: 0.5rem\">NAMEDPERIOD</span>\n",
       "</mark>\n",
       " period, with finds spanning the \n",
       "<mark class=\"entity\" style=\"background: lightgreen; padding: 0.45em 0.6em; margin: 0 0.25em; line-height: 1; border-radius: 0.35em;\">\n",
       "    1st to 3rd centuries AD\n",
       "    <span style=\"font-size: 0.8em; font-weight: bold; line-height: 1; border-radius: 0.35em; vertical-align: middle; margin-left: 0.5rem\">CENTURY</span>\n",
       "</mark>\n",
       ", with a clear focus within the \n",
       "<mark class=\"entity\" style=\"background: lightgreen; padding: 0.45em 0.6em; margin: 0 0.25em; line-height: 1; border-radius: 0.35em;\">\n",
       "    2nd to 3rd centuries\n",
       "    <span style=\"font-size: 0.8em; font-weight: bold; line-height: 1; border-radius: 0.35em; vertical-align: middle; margin-left: 0.5rem\">CENTURY</span>\n",
       "</mark>\n",
       ". Two phases of \n",
       "<mark class=\"entity\" style=\"background: lightpink; padding: 0.45em 0.6em; margin: 0 0.25em; line-height: 1; border-radius: 0.35em;\">\n",
       "    Roman\n",
       "    <span style=\"font-size: 0.8em; font-weight: bold; line-height: 1; border-radius: 0.35em; vertical-align: middle; margin-left: 0.5rem\">NAMEDPERIOD</span>\n",
       "</mark>\n",
       " activity were identified, the first comprising cereal-processing ovens and two crescent-shaped ditches, one associated with metalworking debris. The later phase comprised stone founded buildings associated with wells, enclosures, trackways and a single cremation deposit. These seem to indicate a Romanised farm below the status of a villa. Little animal bone survived, but the enclosures are suggestive of livestock farming. Occupation seems to have ended in the \n",
       "<mark class=\"entity\" style=\"background: lightgreen; padding: 0.45em 0.6em; margin: 0 0.25em; line-height: 1; border-radius: 0.35em;\">\n",
       "    mid 3rd century\n",
       "    <span style=\"font-size: 0.8em; font-weight: bold; line-height: 1; border-radius: 0.35em; vertical-align: middle; margin-left: 0.5rem\">CENTURY</span>\n",
       "</mark>\n",
       ", although the reasons for this are not apparent. Further use of the site dates to the \n",
       "<mark class=\"entity\" style=\"background: lightpink; padding: 0.45em 0.6em; margin: 0 0.25em; line-height: 1; border-radius: 0.35em;\">\n",
       "    medieval\n",
       "    <span style=\"font-size: 0.8em; font-weight: bold; line-height: 1; border-radius: 0.35em; vertical-align: middle; margin-left: 0.5rem\">NAMEDPERIOD</span>\n",
       "</mark>\n",
       " period, between the late 12th and \n",
       "<mark class=\"entity\" style=\"background: lightgreen; padding: 0.45em 0.6em; margin: 0 0.25em; line-height: 1; border-radius: 0.35em;\">\n",
       "    15th centuries\n",
       "    <span style=\"font-size: 0.8em; font-weight: bold; line-height: 1; border-radius: 0.35em; vertical-align: middle; margin-left: 0.5rem\">CENTURY</span>\n",
       "</mark>\n",
       ", when an agricultural building was constructed, probably an outlier of a manorial farm previously excavated to the west.</div></span>"
      ],
      "text/plain": [
       "<IPython.core.display.HTML object>"
      ]
     },
     "metadata": {},
     "output_type": "display_data"
    },
    {
     "data": {
      "text/plain": [
       "None"
      ]
     },
     "metadata": {},
     "output_type": "display_data"
    }
   ],
   "source": [
    "# simple example using TemporalAnnotator on a passage of text\n",
    "from rematch2.TemporalAnnotator import TemporalAnnotator\n",
    "from IPython.display import display, HTML\n",
    "\n",
    "# example test input text copied from https://doi.org/10.5284/1100092\n",
    "test_text = \"This collection comprises site data(reports, images, GIS data and a project database) from an archaeological excavation at Lydney B Phase II, Archers Walk, Lydney, Gloucestershire undertaken by Cotswold Archaeology between February and May 2018. An area of 1.47ha was excavated within this part of a wider development area. The earliest remains comprised three broadly datable flints, all found as residual finds. An Early Bronze Age collared urn within a small pit may be the remains of a grave, although no human remains were found. The first evidence for occupation is from the Roman period, with finds spanning the 1st to 3rd centuries AD, with a clear focus within the 2nd to 3rd centuries. Two phases of Roman activity were identified, the first comprising cereal-processing ovens and two crescent-shaped ditches, one associated with metalworking debris. The later phase comprised stone founded buildings associated with wells, enclosures, trackways and a single cremation deposit. These seem to indicate a Romanised farm below the status of a villa. Little animal bone survived, but the enclosures are suggestive of livestock farming. Occupation seems to have ended in the mid 3rd century, although the reasons for this are not apparent. Further use of the site dates to the medieval period, between the late 12th and 15th centuries, when an agricultural building was constructed, probably an outlier of a manorial farm previously excavated to the west.\"\n",
    "\n",
    "# required output format options: html|csv|json|dataframe|doc\n",
    "# 'html' returns inline markup for visualising annotations in context\n",
    "# 'dataframe' useful for visualising tabular data in python notebook\n",
    "# 'csv' and 'json' are useful textual interchange formats\n",
    "# 'doc' returns the spaCy document object for further processing\n",
    "output_format = \"html\"  # options: html|csv|json|dataframe|doc\n",
    "\n",
    "# if not specified, default ISO639-1 two character language code is \"en\"\n",
    "# if not specified, default periodo id is \"p0kh9ds\" (Historic England periods list)\n",
    "annotator = TemporalAnnotator(language=\"en\", periodo_authority_id=\"p0kh9ds\")\n",
    "\n",
    "# process example text and display the results in required output format\n",
    "results = annotator.annotateText(input_text=test_text, format=output_format)\n",
    "display(results)\n"
   ]
  },
  {
   "cell_type": "markdown",
   "metadata": {},
   "source": [
    "The following example tests the TemporalAnnotator on a range of multilingual example texts. It allows you to choose the language-specific test to run and the output format required"
   ]
  },
  {
   "cell_type": "code",
   "execution_count": 3,
   "metadata": {},
   "outputs": [
    {
     "data": {
      "application/vnd.jupyter.widget-view+json": {
       "model_id": "f75701de7dcf4cffb0d976deb38ad94e",
       "version_major": 2,
       "version_minor": 0
      },
      "text/plain": [
       "HBox(children=(Dropdown(description='Language:', index=1, options=(['German', 'de'], ['English', 'en'], ['Span…"
      ]
     },
     "metadata": {},
     "output_type": "display_data"
    },
    {
     "data": {
      "application/vnd.jupyter.widget-view+json": {
       "model_id": "f2c08c54bb984dc4b2bf8d5753dead70",
       "version_major": 2,
       "version_minor": 0
      },
      "text/plain": [
       "Output(layout=Layout(border_bottom='1px solid black', border_left='1px solid black', border_right='1px solid b…"
      ]
     },
     "metadata": {},
     "output_type": "display_data"
    }
   ],
   "source": [
    "# UI to test TemporalAnnotator on a range of example texts\n",
    "import ipywidgets as widgets\n",
    "from IPython.display import display, HTML\n",
    "from rematch2.TemporalAnnotator import TemporalAnnotator\n",
    "from test_examples_multilingual import test_examples_multilingual\n",
    "\n",
    "# TODO - choose these as checkboxes in UI\n",
    "\n",
    "def run(btn):\n",
    "    # clear any previous output\n",
    "    output.clear_output(wait=True)\n",
    "\n",
    "    # get the test text for the for the chosen id\n",
    "    selected_test = next(\n",
    "        filter(lambda test: test.get(\"language\", \"en\") == dropdown_language.value, test_examples_multilingual), None)\n",
    "    if(selected_test):\n",
    "        language = selected_test.get(\"language\", \"en\")        \n",
    "        periodo_authority_id = selected_test.get(\"periodo_authority_id\", \"p0kh9ds\")\n",
    "        annotator = TemporalAnnotator(language=language, periodo_authority_id=periodo_authority_id)\n",
    "\n",
    "        # get annotation results\n",
    "        output_format = dropdown_format.value\n",
    "        results = annotator.annotateText(\n",
    "            input_text=selected_test.get(\"text\", \"\"), format=output_format)\n",
    "        # display annotation results\n",
    "        with output:\n",
    "            if(output_format == \"html\"):\n",
    "                display(HTML(results))\n",
    "            else:\n",
    "                display(results)\n",
    "\n",
    "# define language selector dropdown UI component\n",
    "dropdown_language = widgets.Dropdown(\n",
    "    options=[\n",
    "        [\"German\", \"de\"],\n",
    "        [\"English\", \"en\"],\n",
    "        [\"Spanish\", \"es\"],\n",
    "        [\"French\", \"fr\"],\n",
    "        [\"Italian\", \"it\"],\n",
    "        [\"Dutch\", \"nl\"],\n",
    "        [\"Norwegian\", \"no\"],\n",
    "        [\"Swedish\", \"sv\"]\n",
    "    ],\n",
    "    value=\"en\",\n",
    "    description='Language:',\n",
    "    disabled=False\n",
    ")\n",
    "\n",
    "# define output format dropdown UI component\n",
    "dropdown_format = widgets.Dropdown(\n",
    "    options=[\n",
    "        [\"HTML\", \"html\"],\n",
    "        [\"Tabular\", \"dataframe\"]\n",
    "    ],\n",
    "    value=\"html\",\n",
    "    description=\"Format:\",\n",
    "    disabled=False\n",
    ")\n",
    "\n",
    "# define and display other UI components\n",
    "button_go = widgets.Button(description=\"Go\")\n",
    "input = widgets.HBox([dropdown_language, dropdown_format, button_go])\n",
    "output = widgets.Output(layout=widgets.Layout(\n",
    "    overflow='scroll', border='1px solid black', height='500px'))\n",
    "display(input, output)\n",
    "\n",
    "# what to do when the button is clicked\n",
    "button_go.on_click(run)\n"
   ]
  }
 ],
 "metadata": {
  "kernelspec": {
   "display_name": "Python 3",
   "language": "python",
   "name": "python3"
  },
  "language_info": {
   "codemirror_mode": {
    "name": "ipython",
    "version": 3
   },
   "file_extension": ".py",
   "mimetype": "text/x-python",
   "name": "python",
   "nbconvert_exporter": "python",
   "pygments_lexer": "ipython3",
   "version": "3.9.15 (main, Nov 15 2022, 21:37:24) \n[GCC 10.2.1 20210110]"
  },
  "orig_nbformat": 4,
  "vscode": {
   "interpreter": {
    "hash": "949777d72b0d2535278d3dc13498b2535136f6dfe0678499012e853ee9abcab1"
   }
  }
 },
 "nbformat": 4,
 "nbformat_minor": 2
}
