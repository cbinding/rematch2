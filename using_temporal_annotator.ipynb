{
 "cells": [
  {
   "cell_type": "code",
   "execution_count": null,
   "metadata": {},
   "outputs": [],
   "source": [
    "# pre-install required libraries\n",
    "import warnings\n",
    "#%pip install -upgrade pip\n",
    "%pip install spacy\n",
    "%pip install ipywidgets\n",
    "#%pip install -U jupyter\n",
    "\n",
    "# suppress user warnings during execution\n",
    "warnings.filterwarnings(action='ignore', category=UserWarning)\n"
   ]
  },
  {
   "cell_type": "markdown",
   "metadata": {},
   "source": [
    "# Using the TemporalAnnotator\n",
    "## Introduction\n",
    "The TemporalAnnotator includes a series of custom spaCy pipeline components to perform matching on temporal terms or phrases as observed in archaeology texts. It identifies the following entity types:\n",
    "\n",
    "| Entity Type | Description | Examples |\n",
    "| ------------|-------------| --------:|\n",
    "| CENTURY     | Ordinal century expressions | *early 15th century BC to late fifteenth century AD* |\n",
    "| YEARSPAN    | Spans of years (possibly with prefixes and/or suffixes) | *early 1300 to late 1350 AD* |\n",
    "| NAMEDPERIOD | Period labels from a specified [Perio.do](https://perio.do/en/) authority | *Bronze Age, Early Medieval, Victorian* |\n",
    "\n",
    "The following example code tests the TemporalAnnotator with some example text. For looking up named periods it uses Perio.do authority id [p0kh9ds](http://n2t.net/ark:/99152/p0kh9ds) (references the Historic England Periods List)"
   ]
  },
  {
   "cell_type": "code",
   "execution_count": null,
   "metadata": {},
   "outputs": [],
   "source": [
    "# simple example using TemporalAnnotator on a passage of text\n",
    "from rematch2.TemporalAnnotator import TemporalAnnotator\n",
    "\n",
    "# example test input text copied from https://doi.org/10.5284/1100092\n",
    "test_text = \"This collection comprises site data(reports, images, GIS data and a project database) from an archaeological excavation at Lydney B Phase II, Archers Walk, Lydney, Gloucestershire undertaken by Cotswold Archaeology between February and May 2018. An area of 1.47ha was excavated within this part of a wider development area. The earliest remains comprised three broadly datable flints, all found as residual finds. An Early Bronze Age collared urn within a small pit may be the remains of a grave, although no human remains were found. The first evidence for occupation is from the Roman period, with finds spanning the 1st to 3rd centuries AD, with a clear focus within the 2nd to 3rd centuries. Two phases of Roman activity were identified, the first comprising cereal-processing ovens and two crescent-shaped ditches, one associated with metalworking debris. The later phase comprised stone founded buildings associated with wells, enclosures, trackways and a single cremation deposit. These seem to indicate a Romanised farm below the status of a villa. Little animal bone survived, but the enclosures are suggestive of livestock farming. Occupation seems to have ended in the mid 3rd century, although the reasons for this are not apparent. Further use of the site dates to the medieval period, between the late 12th and 15th centuries, when an agricultural building was constructed, probably an outlier of a manorial farm previously excavated to the west.\"\n",
    "\n",
    "# required output format options: html|csv|json|dataframe|doc\n",
    "# 'html' returns inline markup for visualising annotations in context\n",
    "# 'dataframe' useful for visualising tabular data in python notebook\n",
    "# 'csv' and 'json' are useful textual interchange formats\n",
    "# 'doc' returns the spaCy document object for further processing\n",
    "output_format = \"html\"  # options: html|csv|json|dataframe|doc\n",
    "\n",
    "# if not specified, default ISO639-1 two character language code is \"en\"\n",
    "# if not specified, default periodo id is \"p0kh9ds\" (Historic England periods list)\n",
    "annotator = TemporalAnnotator(language=\"en\", periodo_authority_id=\"p0kh9ds\")\n",
    "\n",
    "# process example text and display the results in required output format\n",
    "results = annotator.annotateText(input_text=test_text, format=output_format)\n",
    "display(results)\n"
   ]
  },
  {
   "cell_type": "markdown",
   "metadata": {},
   "source": [
    "The following example tests the TemporalAnnotator on a range of multilingual example texts. It allows you to choose the language-specific test to run and the output format required"
   ]
  },
  {
   "cell_type": "code",
   "execution_count": 1,
   "metadata": {},
   "outputs": [
    {
     "data": {
      "application/vnd.jupyter.widget-view+json": {
       "model_id": "bbc88e3a23634484ac964d2298fdab9c",
       "version_major": 2,
       "version_minor": 0
      },
      "text/plain": [
       "HBox(children=(Dropdown(description='Language:', index=1, options=(['German', 'de'], ['English', 'en'], ['Span…"
      ]
     },
     "metadata": {},
     "output_type": "display_data"
    },
    {
     "data": {
      "application/vnd.jupyter.widget-view+json": {
       "model_id": "f5cb0b4bfb8145dfa87c064b6bfbd20c",
       "version_major": 2,
       "version_minor": 0
      },
      "text/plain": [
       "Output(layout=Layout(border_bottom='1px solid black', border_left='1px solid black', border_right='1px solid b…"
      ]
     },
     "metadata": {},
     "output_type": "display_data"
    }
   ],
   "source": [
    "# UI to test TemporalAnnotator on a range of example texts\n",
    "import ipywidgets as widgets\n",
    "from IPython.display import display, HTML\n",
    "from rematch2.TemporalAnnotator import TemporalAnnotator\n",
    "from test_examples_multilingual import test_examples_multilingual\n",
    "\n",
    "# TODO - choose these as checkboxes in UI\n",
    "\n",
    "def run(btn):\n",
    "    # clear any previous output\n",
    "    output.clear_output(wait=True)\n",
    "\n",
    "    # get the test text for the for the chosen id\n",
    "    selected_test = next(\n",
    "        filter(lambda test: test.get(\"language\", \"en\") == dropdown_language.value, test_examples_multilingual), None)\n",
    "    if(selected_test):\n",
    "        language = selected_test.get(\"language\", \"en\")        \n",
    "        periodo_authority_id = selected_test.get(\"periodo_authority_id\", \"p0kh9ds\")\n",
    "        annotator = TemporalAnnotator(language=language, periodo_authority_id=periodo_authority_id)\n",
    "\n",
    "        # get annotation results\n",
    "        output_format = dropdown_format.value\n",
    "        results = annotator.annotateText(\n",
    "            input_text=selected_test.get(\"text\", \"\"), format=output_format)\n",
    "        # display annotation results\n",
    "        with output:\n",
    "            if(output_format == \"html\"):\n",
    "                display(HTML(results))\n",
    "            else:\n",
    "                display(results)\n",
    "\n",
    "# define language selector dropdown UI component\n",
    "dropdown_language = widgets.Dropdown(\n",
    "    options=[\n",
    "        [\"German\", \"de\"],\n",
    "        [\"English\", \"en\"],\n",
    "        [\"Spanish\", \"es\"],\n",
    "        [\"French\", \"fr\"],\n",
    "        [\"Italian\", \"it\"],\n",
    "        [\"Dutch\", \"nl\"],\n",
    "        [\"Norwegian\", \"no\"],\n",
    "        [\"Swedish\", \"sv\"]\n",
    "    ],\n",
    "    value=\"en\",\n",
    "    description='Language:',\n",
    "    disabled=False\n",
    ")\n",
    "\n",
    "# define output format dropdown UI component\n",
    "dropdown_format = widgets.Dropdown(\n",
    "    options=[\n",
    "        [\"HTML\", \"html\"],\n",
    "        [\"Tabular\", \"dataframe\"]\n",
    "    ],\n",
    "    value=\"html\",\n",
    "    description=\"Format:\",\n",
    "    disabled=False\n",
    ")\n",
    "\n",
    "# define and display other UI components\n",
    "button_go = widgets.Button(description=\"Go\")\n",
    "input = widgets.HBox([dropdown_language, dropdown_format, button_go])\n",
    "output = widgets.Output(layout=widgets.Layout(\n",
    "    overflow='scroll', border='1px solid black', height='500px'))\n",
    "display(input, output)\n",
    "\n",
    "# what to do when the button is clicked\n",
    "button_go.on_click(run)\n"
   ]
  }
 ],
 "metadata": {
  "kernelspec": {
   "display_name": "Python 3.8.13 64-bit ('3.8.13')",
   "language": "python",
   "name": "python3"
  },
  "language_info": {
   "codemirror_mode": {
    "name": "ipython",
    "version": 3
   },
   "file_extension": ".py",
   "mimetype": "text/x-python",
   "name": "python",
   "nbconvert_exporter": "python",
   "pygments_lexer": "ipython3",
   "version": "3.8.13"
  },
  "orig_nbformat": 4,
  "vscode": {
   "interpreter": {
    "hash": "110cc1dee26208153f2972f08a2ad52b6a56238dc66d48e87fb757ef2996db56"
   }
  }
 },
 "nbformat": 4,
 "nbformat_minor": 2
}
