{
 "cells": [
  {
   "cell_type": "code",
   "execution_count": null,
   "metadata": {},
   "outputs": [],
   "source": [
    "# pre-install required libraries\n",
    "import warnings\n",
    "#%pip install -upgrade pip\n",
    "%pip install spacy\n",
    "%pip install ipywidgets\n",
    "#%pip install -U jupyter\n",
    "\n",
    "# suppress user warnings during execution\n",
    "warnings.filterwarnings(action='ignore', category=UserWarning)"
   ]
  },
  {
   "cell_type": "markdown",
   "metadata": {},
   "source": [
    "# Using the Vocabulary Annotator\n",
    "## Introduction\n",
    "The VocabularyAnnotator class performs *vocabulary-based* lookup matching on terms. The following example vocabularies are included for use with the VocabularyAnnotator class. Note these term lists are a dated snapshot extracted via a SPARQL query for experimentation. They do not necessarily represent comprehensive coverage; in all cases the originating vocabularies should be consulted for fuller information.\n",
    "\n",
    "\n",
    "| Vocabulary                            | Entity Type   | Description      | Examples  |\n",
    "|---------------------------------------|---------------|------------------| ----------|\n",
    "| AAT_ACTIVITIES        | ACTIVITY      | Terms from the [AAT 'Activities' facet](http://vocab.getty.edu/aat/300264090)   | *religious holidays, subtractive processes* |\n",
    "| AAT_AGENTS            | AGENT         | Terms from the [AAT 'Agents' facet](http://vocab.getty.edu/aat/300264089)  | *scientific photographers, software developers* |\n",
    "| AAT_ASSOCIATED_CONCEPTS | ASSOCIATED_CONCEPT | Terms from the [AAT 'Associated Concepts' facet](http://vocab.getty.edu/aat/300264086) | *literature, maiden names* |\n",
    "| AAT_MATERIALS         | MATERIAL      | Terms from the [AAT 'Materials' facet](http://vocab.getty.edu/aat/300264091) | *polymer, frosted glass* |\n",
    "| AAT_OBJECTS           | OBJECT        | Terms from the [AAT 'Objects' facet](http://vocab.getty.edu/aat/300264092) | *shields, horseshoe arches* |\n",
    "| AAT_PHYSICAL_ATTRIBUTES | PHYSICAL_ATTRIBUTE | Terms from the [AAT 'Physical Attributes' facet](http://vocab.getty.edu/aat/300264087) | *surface mounted, kidney shaped* |\n",
    "| AAT_STYLEPERIODS      | STYLEPERIOD   | Terms from the [AAT 'Styles &amp; Periods' facet](http://vocab.getty.edu/aat/300264088) | *transitional, Dutch colonial revival* |\n",
    "| FISH_ARCHOBJECTS      | OBJECT        | Terms from the [FISH Archaeological Objects Thesaurus](http://purl.org/heritagedata/schemes/mda_obj) | *axe, sherds, ring* |\n",
    "| FISH_ARCHSCIENCES     | ARCHSCIENCE   | Terms from the [FISH Archaeological Sciences Thesaurus](http://purl.org/heritagedata/schemes/560) | *lead isotope dating, palynology* |\n",
    "| FISH_BUILDING_MATERIALS |  MATERIAL   | Terms from the [FISH Building Materials Thesaurus](http://purl.org/heritagedata/schemes/eh_tbm) | *brass, quartz, pine, bone, leather* |\n",
    "| FISH_COMPONENTS       | COMPONENT     | Terms from the [HE Components Thesaurus](http://purl.org/heritagedata/schemes/eh_com) | *rafter, truss, flue* |\n",
    "| FISH_EVENT_TYPES      | EVENTTYPE     | Terms from the [FISH Event Types Thesaurus](http://purl.org/heritagedata/schemes/agl_et) | *core sampling, geophysical survey, evaluation* |\n",
    "| FISH_EVIDENCE         | EVIDENCE      | Terms from the [HE Evidence Thesaurus](http://purl.org/heritagedata/schemes/eh_evd) | *cropmark, artefact scatter* |\n",
    "| FISH_MARITIME_CRAFT   | MARITIME      | Terms from the [FISH Maritime Craft Types Thesaurus](http://purl.org/heritagedata/schemes/eh_tmc) | *galley, salvage tug, dredger* |\n",
    "| FISH_MONUMENT_TYPES   | MONUMENT      | Terms from the [FISH Thesaurus of Monument Types](http://purl.org/heritagedata/schemes/eh_tmt2) | *midden, weighbridge, kiln* |\n",
    "| FISH_PERIODS          | NAMEDPERIOD   | Terms from Perio.do [Historic England Periods Authority File](http://n2t.net/ark:/99152/p0kh9ds) | *Medieval, Bronze Age* |\n",
    "\n",
    "\n",
    "\n"
   ]
  },
  {
   "cell_type": "code",
   "execution_count": null,
   "metadata": {},
   "outputs": [
    {
     "data": {
      "text/html": [
       "<span class=\"tex2jax_ignore\"><div class=\"entities\" style=\"line-height: 2.5; direction: ltr\">This collection comprises site data (images, a report, a project database and GIS data) from an archaeological excavation undertaken by Cotswold Archaeology between January and February 2020 at Lydney B Phase III, Archers Walk, Lydney, Gloucestershire. An area of 0.6ha was excavated within this phase (Phase III) of a wider development area. Aside from three residual flints, none closely datable, the earliest remains comprised a small \n",
       "<mark class=\"entity\" style=\"background: yellow; padding: 0.45em 0.6em; margin: 0 0.25em; line-height: 1; border-radius: 0.35em;\">\n",
       "    assemblage\n",
       "    <span style=\"font-size: 0.8em; font-weight: bold; line-height: 1; border-radius: 0.35em; vertical-align: middle; margin-left: 0.5rem\">OBJECT</span>\n",
       "</mark>\n",
       " of Roman pottery and ceramic building material, also residual and most likely derived from a Roman farmstead found immediately to the north within the Phase II excavation area. A single \n",
       "<mark class=\"entity\" style=\"background: yellow; padding: 0.45em 0.6em; margin: 0 0.25em; line-height: 1; border-radius: 0.35em;\">\n",
       "    sherd\n",
       "    <span style=\"font-size: 0.8em; font-weight: bold; line-height: 1; border-radius: 0.35em; vertical-align: middle; margin-left: 0.5rem\">OBJECT</span>\n",
       "</mark>\n",
       " of Anglo-Saxon grass-tempered pottery was also residual. The earliest features, which accounted for the majority of the remains on site, relate to medieval agricultural activity focused within a large enclosure. There was little to suggest domestic occupation within the site: the pottery \n",
       "<mark class=\"entity\" style=\"background: yellow; padding: 0.45em 0.6em; margin: 0 0.25em; line-height: 1; border-radius: 0.35em;\">\n",
       "    assemblage\n",
       "    <span style=\"font-size: 0.8em; font-weight: bold; line-height: 1; border-radius: 0.35em; vertical-align: middle; margin-left: 0.5rem\">OBJECT</span>\n",
       "</mark>\n",
       " was modest and well abraded, whilst charred plant remains were sparse, and, as with some metallurgical \n",
       "<mark class=\"entity\" style=\"background: yellow; padding: 0.45em 0.6em; margin: 0 0.25em; line-height: 1; border-radius: 0.35em;\">\n",
       "    residues\n",
       "    <span style=\"font-size: 0.8em; font-weight: bold; line-height: 1; border-radius: 0.35em; vertical-align: middle; margin-left: 0.5rem\">OBJECT</span>\n",
       "</mark>\n",
       ", point to waste disposal rather than the locations of processing or consumption. A focus of occupation within the Rodley Manor site, on higher ground 160m to the north-west, seems likely, with the currently site having lain beyond this and providing agricultural facilities, most likely corrals and pens for livestock. \n",
       "<mark class=\"entity\" style=\"background: yellow; padding: 0.45em 0.6em; margin: 0 0.25em; line-height: 1; border-radius: 0.35em;\">\n",
       "    Animal bone\n",
       "    <span style=\"font-size: 0.8em; font-weight: bold; line-height: 1; border-radius: 0.35em; vertical-align: middle; margin-left: 0.5rem\">OBJECT</span>\n",
       "</mark>\n",
       " was absent, but the damp, low-lying ground would have been best suited to cattle. An \n",
       "<mark class=\"entity\" style=\"background: yellow; padding: 0.45em 0.6em; margin: 0 0.25em; line-height: 1; border-radius: 0.35em;\">\n",
       "    assemblage\n",
       "    <span style=\"font-size: 0.8em; font-weight: bold; line-height: 1; border-radius: 0.35em; vertical-align: middle; margin-left: 0.5rem\">OBJECT</span>\n",
       "</mark>\n",
       " of medieval \n",
       "<mark class=\"entity\" style=\"background: yellow; padding: 0.45em 0.6em; margin: 0 0.25em; line-height: 1; border-radius: 0.35em;\">\n",
       "    coins\n",
       "    <span style=\"font-size: 0.8em; font-weight: bold; line-height: 1; border-radius: 0.35em; vertical-align: middle; margin-left: 0.5rem\">OBJECT</span>\n",
       "</mark>\n",
       " recovered from the subsoil during a metal detector survey may represent a dispersed \n",
       "<mark class=\"entity\" style=\"background: yellow; padding: 0.45em 0.6em; margin: 0 0.25em; line-height: 1; border-radius: 0.35em;\">\n",
       "    hoard\n",
       "    <span style=\"font-size: 0.8em; font-weight: bold; line-height: 1; border-radius: 0.35em; vertical-align: middle; margin-left: 0.5rem\">OBJECT</span>\n",
       "</mark>\n",
       ".</div></span>"
      ],
      "text/plain": [
       "<IPython.core.display.HTML object>"
      ]
     },
     "metadata": {},
     "output_type": "display_data"
    },
    {
     "data": {
      "text/plain": [
       "None"
      ]
     },
     "metadata": {},
     "output_type": "display_data"
    }
   ],
   "source": [
    "# example using VocabularyAnnotator class on a passage of text\n",
    "from IPython.display import display  # , HTML\n",
    "\n",
    "from rematch2.VocabularyAnnotator import VocabularyAnnotator\n",
    "from rematch2.VocabularyEnum import VocabularyEnum\n",
    "#from pathlib import Path\n",
    "#import os\n",
    "#import json\n",
    "\n",
    "# example test text from https://doi.org/10.5284/1100093\n",
    "test_text = \"\"\"\n",
    "This collection comprises site data (images, a report, a project database and GIS data) from an archaeological excavation undertaken by Cotswold Archaeology between January and February 2020 at Lydney B Phase III, Archers Walk, Lydney, Gloucestershire. An area of 0.6ha was excavated within this phase (Phase III) of a wider development area.\n",
    "Aside from three residual flints, none closely datable, the earliest remains comprised a small assemblage of Roman pottery and ceramic building material, also residual and most likely derived from a Roman farmstead found immediately to the north within the Phase II excavation area. A single sherd of Anglo-Saxon grass-tempered pottery was also residual.\n",
    "The earliest features, which accounted for the majority of the remains on site, relate to medieval agricultural activity focused within a large enclosure. There was little to suggest domestic occupation within the site: the pottery assemblage was modest and well abraded, whilst charred plant remains were sparse, and, as with some metallurgical residues, point to waste disposal rather than the locations of processing or consumption. A focus of occupation within the Rodley Manor site, on higher ground 160m to the north-west, seems likely, with the currently site having lain beyond this and providing agricultural facilities, most likely corrals and pens for livestock. Animal bone was absent, but the damp, low-lying ground would have been best suited to cattle. An assemblage of medieval coins recovered from the subsoil during a metal detector survey may represent a dispersed hoard.\n",
    "\"\"\"\n",
    "\n",
    "# required output format options: html|csv|json|dataframe|doc\n",
    "# 'html' returns inline markup for visualising annotations in context\n",
    "# 'dataframe' useful for visualising tabular data in python notebook\n",
    "# 'csv' and 'json' are useful textual interchange formats\n",
    "# 'doc' returns the spaCy document object for further processing\n",
    "output_format = \"html\"   \n",
    "\n",
    "# create the annotator instance, specifying the vocabular(y|ies) to use\n",
    "annotator = VocabularyAnnotator(vocabs=[VocabularyEnum.FISH_ARCHOBJECTS])\n",
    "\n",
    "# process example text and display the results in required output format\n",
    "results = annotator.annotateText(input_text=test_text, output_format=output_format)\n",
    "display(results)"
   ]
  },
  {
   "cell_type": "code",
   "execution_count": 1,
   "metadata": {},
   "outputs": [
    {
     "data": {
      "application/vnd.jupyter.widget-view+json": {
       "model_id": "e2c6bf5cc1a6442690fee5c9ccd8aa1c",
       "version_major": 2,
       "version_minor": 0
      },
      "text/plain": [
       "HBox(children=(Dropdown(description='Test:', options=(['https://doi.org/10.5284/1100095', 'test1'], ['ADS coll…"
      ]
     },
     "metadata": {},
     "output_type": "display_data"
    },
    {
     "data": {
      "application/vnd.jupyter.widget-view+json": {
       "model_id": "56eef29e722443059e033eb491b65584",
       "version_major": 2,
       "version_minor": 0
      },
      "text/plain": [
       "Output(layout=Layout(border_bottom='1px solid black', border_left='1px solid black', border_right='1px solid b…"
      ]
     },
     "metadata": {},
     "output_type": "display_data"
    }
   ],
   "source": [
    "# UI to test VocabularyAnnotator on a range of example texts\n",
    "import ipywidgets as widgets\n",
    "from IPython.display import display, HTML\n",
    "from rematch2.VocabularyAnnotator import VocabularyAnnotator\n",
    "from rematch2.VocabularyEnum import VocabularyEnum\n",
    "from test_examples_english import test_examples_english\n",
    "\n",
    "# TODO - choose these as checkboxes in UI?\n",
    "#vocab_dir = os.path.join(os.path.abspath(\"\"), \"rematch2/vocabularies\")\n",
    "#file_path = os.path.join(vocab_dir, \"vocab_en_FISH_MONUMENT_TYPES_20210921.json\")\n",
    "#with open(file_path, \"r\") as f:  # what if file doesn't exist?\n",
    "    #vocabulary = json.load(f)\n",
    "    \n",
    "annotator = VocabularyAnnotator(\n",
    "    vocabs=[VocabularyEnum.FISH_MONUMENT_TYPES]\n",
    ")\n",
    "\n",
    "\n",
    "\n",
    "def run(btn):\n",
    "    # clear any previous output\n",
    "    output.clear_output(wait=True)\n",
    "   \n",
    "    # get the test text for the for the chosen id    \n",
    "    selected_test = next(\n",
    "        filter(lambda test: test.get(\"id\", \"\") == dropdown_tests.value, test_examples_english), None)\n",
    "    if(selected_test):\n",
    "        # get annotation results\n",
    "        output_format = dropdown_format.value\n",
    "        results = annotator.annotateText(\n",
    "            input_text=selected_test.get(\"text\", \"\"), output_format=output_format)\n",
    "        # display annotation results\n",
    "        with output:\n",
    "            if(output_format == \"html\"):\n",
    "                display(HTML(results))\n",
    "            else:\n",
    "                display(results)\n",
    "        \n",
    "# define test selector dropdown UI component\n",
    "dropdown_tests = widgets.Dropdown(\n",
    "    options=[[test.get(\"source\",\"\"), test.get(\"id\",\"\")]\n",
    "             for test in test_examples_english],\n",
    "    #value=\"en\",\n",
    "    description='Test:',\n",
    "    disabled=False\n",
    ")\n",
    "\n",
    "# define output format dropdown UI component\n",
    "dropdown_format = widgets.Dropdown(\n",
    "    options=[\n",
    "        [\"HTML\", \"html\"],\n",
    "        [\"Tabular\", \"dataframe\"]\n",
    "    ],\n",
    "    value=\"html\",\n",
    "    description=\"Format:\",\n",
    "    disabled=False\n",
    ")\n",
    "\n",
    "# define and display other UI components\n",
    "button_go = widgets.Button(description=\"Go\")\n",
    "input = widgets.HBox([dropdown_tests, dropdown_format, button_go])\n",
    "output = widgets.Output(layout=widgets.Layout(\n",
    "    overflow='scroll', border='1px solid black', height='500px'))\n",
    "display(input, output)\n",
    "\n",
    "# what to do when the button is clicked\n",
    "button_go.on_click(run)"
   ]
  }
 ],
 "metadata": {
  "kernelspec": {
   "display_name": "Python 3",
   "language": "python",
   "name": "python3"
  },
  "language_info": {
   "codemirror_mode": {
    "name": "ipython",
    "version": 3
   },
   "file_extension": ".py",
   "mimetype": "text/x-python",
   "name": "python",
   "nbconvert_exporter": "python",
   "pygments_lexer": "ipython3",
   "version": "3.11.5"
  },
  "orig_nbformat": 4,
  "vscode": {
   "interpreter": {
    "hash": "949777d72b0d2535278d3dc13498b2535136f6dfe0678499012e853ee9abcab1"
   }
  }
 },
 "nbformat": 4,
 "nbformat_minor": 2
}
