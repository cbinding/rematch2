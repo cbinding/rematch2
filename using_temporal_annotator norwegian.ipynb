{
 "cells": [
  {
   "cell_type": "code",
   "execution_count": null,
   "metadata": {},
   "outputs": [],
   "source": [
    "# pre-install required libraries\n",
    "import warnings\n",
    "#%pip install -upgrade pip\n",
    "%pip install spacy\n",
    "%pip install pandas\n",
    "%pip install jsonpath_ng\n",
    "%pip install ipywidgets\n",
    "%pip install requests\n",
    "%pip install beautifulsoup4\n",
    "#%pip install -U jupyter\n",
    "%sx python -m spacy download nb_core_news_sm\n",
    "\n",
    "# suppress user warnings during execution\n",
    "warnings.filterwarnings(action='ignore', category=UserWarning)\n"
   ]
  },
  {
   "cell_type": "code",
   "execution_count": 3,
   "metadata": {},
   "outputs": [
    {
     "data": {
      "text/html": [
       "<div>\n",
       "<style scoped>\n",
       "    .dataframe tbody tr th:only-of-type {\n",
       "        vertical-align: middle;\n",
       "    }\n",
       "\n",
       "    .dataframe tbody tr th {\n",
       "        vertical-align: top;\n",
       "    }\n",
       "\n",
       "    .dataframe thead th {\n",
       "        text-align: right;\n",
       "    }\n",
       "</style>\n",
       "<table border=\"1\" class=\"dataframe\">\n",
       "  <thead>\n",
       "    <tr style=\"text-align: right;\">\n",
       "      <th></th>\n",
       "      <th>id</th>\n",
       "      <th>text</th>\n",
       "      <th>type</th>\n",
       "    </tr>\n",
       "  </thead>\n",
       "  <tbody>\n",
       "    <tr>\n",
       "      <th>0</th>\n",
       "      <td>http://n2t.net/ark:/99152/p04h98q5wn6</td>\n",
       "      <td>førromersk jernalder</td>\n",
       "      <td>NAMEDPERIOD</td>\n",
       "    </tr>\n",
       "    <tr>\n",
       "      <th>1</th>\n",
       "      <td>http://n2t.net/ark:/99152/p04h98q5wn6</td>\n",
       "      <td>førromersk jernalder</td>\n",
       "      <td>NAMEDPERIOD</td>\n",
       "    </tr>\n",
       "    <tr>\n",
       "      <th>2</th>\n",
       "      <td>http://n2t.net/ark:/99152/p04h98q5wn6</td>\n",
       "      <td>førromersk jernalder</td>\n",
       "      <td>NAMEDPERIOD</td>\n",
       "    </tr>\n",
       "    <tr>\n",
       "      <th>3</th>\n",
       "      <td>http://n2t.net/ark:/99152/p04h98qctj4</td>\n",
       "      <td>folkevandringstid</td>\n",
       "      <td>NAMEDPERIOD</td>\n",
       "    </tr>\n",
       "  </tbody>\n",
       "</table>\n",
       "</div>"
      ],
      "text/plain": [
       "                                      id                  text         type\n",
       "0  http://n2t.net/ark:/99152/p04h98q5wn6  førromersk jernalder  NAMEDPERIOD\n",
       "1  http://n2t.net/ark:/99152/p04h98q5wn6  førromersk jernalder  NAMEDPERIOD\n",
       "2  http://n2t.net/ark:/99152/p04h98q5wn6  førromersk jernalder  NAMEDPERIOD\n",
       "3  http://n2t.net/ark:/99152/p04h98qctj4     folkevandringstid  NAMEDPERIOD"
      ]
     },
     "metadata": {},
     "output_type": "display_data"
    }
   ],
   "source": [
    "from IPython.display import display, HTML\n",
    "import ipywidgets as widgets\n",
    "from rematch2.TemporalAnnotator import TemporalAnnotator\n",
    "\n",
    "import requests\n",
    "from bs4 import BeautifulSoup\n",
    "# examples\n",
    "#https: // www.duo.uio.no/handle/10852/97507\n",
    "#https: // www.duo.uio.no/handle/10852/71115\n",
    "#https: // www.duo.uio.no/handle/10852/71189\n",
    "\n",
    "# Making a GET request\n",
    "r = requests.get('https://www.duo.uio.no/handle/10852/71189')\n",
    "\n",
    "# check status code for response received\n",
    "# success code - 200\n",
    "# print(r)\n",
    "\n",
    "# Parsing the returned HTML content for the abstract\n",
    "soup = BeautifulSoup(r.content, 'html.parser')\n",
    "s = soup.find(\n",
    "    'div', class_='simple-item-view-description')\n",
    "content = s.text if s else \"\"\n",
    "\n",
    "supplementary_patterns = [\n",
    "    {\n",
    "        # \"id\": \"http://n2t.net/ark:/99152/p04h98qk79x\",\n",
    "        \"label\": \"NAMEDPERIOD\",\n",
    "      \t\"pattern\": [\n",
    "            {\n",
    "                \"LOWER\": {\n",
    "                    \"REGEX\": r\"^(?:tidlig|mellom|sei?n)(?:mesolitt?iske?|mesol[iuo]tikk?um)$\"\n",
    "                }\n",
    "            }\n",
    "        ]\n",
    "    }    \n",
    "]\n",
    "\n",
    "annotator = TemporalAnnotator(\n",
    "    language=\"no\", \n",
    "    periodo_authority_id=\"p04h98q\", \n",
    "    patterns=supplementary_patterns)\n",
    "\n",
    "results = annotator.annotateText(\n",
    "    input_text=content, output_format=\"dataframe\")\n",
    "display(results)\n",
    "#print(results)"
   ]
  }
 ],
 "metadata": {
  "kernelspec": {
   "display_name": "Python 3",
   "language": "python",
   "name": "python3"
  },
  "language_info": {
   "codemirror_mode": {
    "name": "ipython",
    "version": 3
   },
   "file_extension": ".py",
   "mimetype": "text/x-python",
   "name": "python",
   "nbconvert_exporter": "python",
   "pygments_lexer": "ipython3",
   "version": "3.9.15"
  },
  "orig_nbformat": 4,
  "vscode": {
   "interpreter": {
    "hash": "949777d72b0d2535278d3dc13498b2535136f6dfe0678499012e853ee9abcab1"
   }
  }
 },
 "nbformat": 4,
 "nbformat_minor": 2
}
